{
 "cells": [
  {
   "cell_type": "markdown",
   "metadata": {},
   "source": [
    "# Климатические зоны Австралии"
   ]
  },
  {
   "cell_type": "markdown",
   "metadata": {},
   "source": [
    "Австралийский континент расположен в пределах трёх основных тёплых климатических поясов Южного полушария:\n",
    "* субэкваториального (на севере)\n",
    "* тропического (в центральной части)\n",
    "* субтропического (на юге)\n",
    "\n",
    "Только небольшая часть острова Тасмания находится в пределах умеренного пояса."
   ]
  },
  {
   "cell_type": "markdown",
   "metadata": {},
   "source": [
    "![climate_australia](img_climate_australia-01.jpg)"
   ]
  },
  {
   "cell_type": "markdown",
   "metadata": {},
   "source": [
    "Австралия — самый засушливый континент Земли, и одна из наиболее характерных черт его природы — широкое распространение пустынь, которые занимают обширные пространства и протягиваются почти на 2,5 тыс. км от берегов Индийского океана до предгорий Большого Водораздельного хребта."
   ]
  },
  {
   "cell_type": "markdown",
   "metadata": {},
   "source": [
    "![climate_australia](img_climate_australia-02.jpg)"
   ]
  },
  {
   "cell_type": "markdown",
   "metadata": {},
   "source": [
    "Жаркий климат и незначительное и неравномерное выпадение осадков на большей части материка приводят к тому, что почти 60 % его территории лишены стока к океану и имеют лишь редкую сеть временных водотоков."
   ]
  },
  {
   "cell_type": "markdown",
   "metadata": {},
   "source": [
    "![climate_australia](img_climate_australia-temperatur.jpg)"
   ]
  },
  {
   "cell_type": "markdown",
   "metadata": {},
   "source": [
    "Ни на каком другом материке нет столь слабо развитой сети внутренних вод, как в Австралии. Годовой сток всех рек континента равен всего 350 км³."
   ]
  },
  {
   "cell_type": "markdown",
   "metadata": {},
   "source": [
    "![climate_australia](img_climate_australia-rains.jpg)"
   ]
  },
  {
   "cell_type": "markdown",
   "metadata": {},
   "source": [
    "### Субэкваториальный пояс\n",
    "\n",
    "> Субэкваториальный климат, характерный для северной и северо-восточной части континента, отличается ровным ходом температур (в течение года средняя температура воздуха 23—24 °C) и большим количеством осадков (от 1000 до 1500 мм, а местами более 2000 мм). Осадки сюда приносит влажный северо-западный муссон, и выпадают они главным образом летом.\n",
    ">\n",
    "> Зимой, в сухой период года, дожди выпадают только эпизодически. В это время дуют сухие, жаркие ветры из внутренней части материка, которые иногда вызывают засухи.\n",
    "\n",
    "### Тропический пояс\n",
    "\n",
    "> В тропическом поясе на Австралийском континенте формируются два основных типа климата: тропический влажный и тропический сухой.\n",
    "> \n",
    "> Тропический влажный климат свойственен крайней восточной части Австралии, которая входит в зону действия юго-восточных пассатных ветров. Эти ветры приносят с собой на материк насыщенные влагой воздушные массы с Тихого океана. Поэтому вся область прибрежных равнин и восточных склонов Большого Водораздельного хребта хорошо увлажнена (в среднем выпадает от 1000 до 1500 мм осадков) и имеет мягкий тёплый климат (температура самого тёплого месяца в Сиднее — 22—25 °C, а самого холодного — 11,5—13 °C). Массы воздуха, приносящие влагу с Тихого океана, проникают и за Большой Водораздельный хребет, потеряв по пути значительное количество влаги, поэтому осадки выпадают только на западных склонах хребта и в районе предгорий.\n",
    "> \n",
    "> Для центральной и западной частей материка характерен тропический пустынный климат. Летом (декабрь — февраль) средние температуры поднимаются здесь до 30 °C, а иногда и выше, а зимой (июнь — август) снижаются в среднем до 10—15 °C. Наиболее жаркая область Австралии — северо-западная, где в Большой Песчаной пустыне температура почти всё лето держится на отметке 35 °C и даже выше. В зимний период она снижается незначительно (примерно до 20—25 °C). В центре материка, в районе города Алис-Спрингс, в летнее время года температура днём поднимается до 45 °C, ночью падает до нуля и ниже (−4 — −6 °C).\n",
    "> \n",
    "> Центральная и западная части Австралии, занимающие около половины её территории, получают в среднем 250—300 мм осадков в год, а окрестности озера Эйр — менее 200 мм; но и эти незначительные осадки выпадают неравномерно. Иногда в течение нескольких лет подряд вообще не бывает дождей, а иногда за два-три дня, а то и за несколько часов выпадает всё годовое количество осадков. Часть воды быстро и глубоко просачивается сквозь водопроницаемую почву и делается недоступной для растений, а часть испаряется под жаркими лучами солнца, и поверхностные слои почвы остаются почти сухими.\n",
    "\n",
    "### Субтропический пояс\n",
    "\n",
    "> В пределах субтропического пояса выделяются три типа климата: средиземноморский, субтропический континентальный и субтропический влажный.\n",
    "> \n",
    "> Средиземноморский климат свойствен юго-западной части Австралии. Как можно судить по названию, климат этой части материка сходен с климатом европейских средиземноморских стран — Испании и Южной Франции. Лето здесь жаркое и, как правило, сухое, а зима тёплая и влажная. Сравнительно небольшие колебания температуры по временам года (январь — 23—27 °C, июнь — 12—14 °C), достаточное количество осадков (от 500 до 1000 мм).\n",
    "> \n",
    "> Зона субтропического континентального климата охватывает южную, примыкающую к Большому Австралийскому заливу часть материка, включает в себя окрестности города Аделаиды и протягивается несколько дальше на восток, в западные области штата Новый Южный Уэльс. Основные черты этого климата — небольшое количество осадков и сравнительно большие годовые колебания температуры.\n",
    "> \n",
    "> Зона субтропического влажного климата включает в свои границы весь штат Виктория и юго-западные предгорные части штата Новый Южный Уэльс. В целом вся эта зона отличается мягким климатом и значительным количеством осадков (от 500 до 600 мм), главным образом в прибрежных частях (проникновение осадков вглубь континента уменьшается). Летом температуры поднимаются в среднем до 20—24 °C, но зимой довольно сильно понижаются — до 8—10 °C."
   ]
  },
  {
   "cell_type": "markdown",
   "metadata": {},
   "source": [
    "## Анализируем имеющиеся данные"
   ]
  },
  {
   "cell_type": "code",
   "execution_count": 1,
   "metadata": {},
   "outputs": [],
   "source": [
    "import pandas as pd"
   ]
  },
  {
   "cell_type": "code",
   "execution_count": 2,
   "metadata": {},
   "outputs": [],
   "source": [
    "df = pd.read_csv('rains_data.csv')"
   ]
  },
  {
   "cell_type": "code",
   "execution_count": 3,
   "metadata": {},
   "outputs": [
    {
     "name": "stdout",
     "output_type": "stream",
     "text": [
      "<class 'pandas.core.frame.DataFrame'>\n",
      "RangeIndex: 140787 entries, 0 to 140786\n",
      "Data columns (total 4 columns):\n",
      " #   Column        Non-Null Count   Dtype \n",
      "---  ------        --------------   ----- \n",
      " 0   Month         140787 non-null  int64 \n",
      " 1   Location      140787 non-null  object\n",
      " 2   RainToday     140787 non-null  object\n",
      " 3   RainTomorrow  140787 non-null  object\n",
      "dtypes: int64(1), object(3)\n",
      "memory usage: 4.3+ MB\n"
     ]
    }
   ],
   "source": [
    "df.info()"
   ]
  },
  {
   "cell_type": "code",
   "execution_count": 4,
   "metadata": {},
   "outputs": [
    {
     "data": {
      "text/html": [
       "<div>\n",
       "<style scoped>\n",
       "    .dataframe tbody tr th:only-of-type {\n",
       "        vertical-align: middle;\n",
       "    }\n",
       "\n",
       "    .dataframe tbody tr th {\n",
       "        vertical-align: top;\n",
       "    }\n",
       "\n",
       "    .dataframe thead th {\n",
       "        text-align: right;\n",
       "    }\n",
       "</style>\n",
       "<table border=\"1\" class=\"dataframe\">\n",
       "  <thead>\n",
       "    <tr style=\"text-align: right;\">\n",
       "      <th>RainTomorrow</th>\n",
       "      <th>No</th>\n",
       "      <th>Yes</th>\n",
       "    </tr>\n",
       "    <tr>\n",
       "      <th>Location</th>\n",
       "      <th></th>\n",
       "      <th></th>\n",
       "    </tr>\n",
       "  </thead>\n",
       "  <tbody>\n",
       "    <tr>\n",
       "      <th>Adelaide</th>\n",
       "      <td>2365</td>\n",
       "      <td>655</td>\n",
       "    </tr>\n",
       "    <tr>\n",
       "      <th>Ballarat</th>\n",
       "      <td>2238</td>\n",
       "      <td>779</td>\n",
       "    </tr>\n",
       "    <tr>\n",
       "      <th>Cobar</th>\n",
       "      <td>2597</td>\n",
       "      <td>383</td>\n",
       "    </tr>\n",
       "    <tr>\n",
       "      <th>Hobart</th>\n",
       "      <td>2424</td>\n",
       "      <td>759</td>\n",
       "    </tr>\n",
       "    <tr>\n",
       "      <th>Mildura</th>\n",
       "      <td>2678</td>\n",
       "      <td>327</td>\n",
       "    </tr>\n",
       "    <tr>\n",
       "      <th>Nhil</th>\n",
       "      <td>1323</td>\n",
       "      <td>242</td>\n",
       "    </tr>\n",
       "    <tr>\n",
       "      <th>Penrith</th>\n",
       "      <td>2333</td>\n",
       "      <td>578</td>\n",
       "    </tr>\n",
       "    <tr>\n",
       "      <th>Sale</th>\n",
       "      <td>2349</td>\n",
       "      <td>643</td>\n",
       "    </tr>\n",
       "    <tr>\n",
       "      <th>Tuggeranong</th>\n",
       "      <td>2398</td>\n",
       "      <td>561</td>\n",
       "    </tr>\n",
       "    <tr>\n",
       "      <th>Williamtown</th>\n",
       "      <td>1811</td>\n",
       "      <td>565</td>\n",
       "    </tr>\n",
       "  </tbody>\n",
       "</table>\n",
       "</div>"
      ],
      "text/plain": [
       "RainTomorrow    No  Yes\n",
       "Location               \n",
       "Adelaide      2365  655\n",
       "Ballarat      2238  779\n",
       "Cobar         2597  383\n",
       "Hobart        2424  759\n",
       "Mildura       2678  327\n",
       "Nhil          1323  242\n",
       "Penrith       2333  578\n",
       "Sale          2349  643\n",
       "Tuggeranong   2398  561\n",
       "Williamtown   1811  565"
      ]
     },
     "execution_count": 4,
     "metadata": {},
     "output_type": "execute_result"
    }
   ],
   "source": [
    "rains_tm = pd.crosstab(df['Location'], df['RainTomorrow'])\n",
    "rains_tm[::5]"
   ]
  },
  {
   "cell_type": "code",
   "execution_count": 5,
   "metadata": {},
   "outputs": [
    {
     "data": {
      "text/html": [
       "<div>\n",
       "<style scoped>\n",
       "    .dataframe tbody tr th:only-of-type {\n",
       "        vertical-align: middle;\n",
       "    }\n",
       "\n",
       "    .dataframe tbody tr th {\n",
       "        vertical-align: top;\n",
       "    }\n",
       "\n",
       "    .dataframe thead th {\n",
       "        text-align: right;\n",
       "    }\n",
       "</style>\n",
       "<table border=\"1\" class=\"dataframe\">\n",
       "  <thead>\n",
       "    <tr style=\"text-align: right;\">\n",
       "      <th>RainTomorrow</th>\n",
       "      <th>No</th>\n",
       "      <th>Yes</th>\n",
       "    </tr>\n",
       "    <tr>\n",
       "      <th>Location</th>\n",
       "      <th></th>\n",
       "      <th></th>\n",
       "    </tr>\n",
       "  </thead>\n",
       "  <tbody>\n",
       "    <tr>\n",
       "      <th>Woomera</th>\n",
       "      <td>0.933646</td>\n",
       "      <td>0.066354</td>\n",
       "    </tr>\n",
       "    <tr>\n",
       "      <th>Cobar</th>\n",
       "      <td>0.871477</td>\n",
       "      <td>0.128523</td>\n",
       "    </tr>\n",
       "    <tr>\n",
       "      <th>Townsville</th>\n",
       "      <td>0.830195</td>\n",
       "      <td>0.169805</td>\n",
       "    </tr>\n",
       "    <tr>\n",
       "      <th>Tuggeranong</th>\n",
       "      <td>0.810409</td>\n",
       "      <td>0.189591</td>\n",
       "    </tr>\n",
       "    <tr>\n",
       "      <th>Perth</th>\n",
       "      <td>0.797996</td>\n",
       "      <td>0.202004</td>\n",
       "    </tr>\n",
       "    <tr>\n",
       "      <th>Brisbane</th>\n",
       "      <td>0.774904</td>\n",
       "      <td>0.225096</td>\n",
       "    </tr>\n",
       "    <tr>\n",
       "      <th>Wollongong</th>\n",
       "      <td>0.760449</td>\n",
       "      <td>0.239551</td>\n",
       "    </tr>\n",
       "    <tr>\n",
       "      <th>Sydney</th>\n",
       "      <td>0.740919</td>\n",
       "      <td>0.259081</td>\n",
       "    </tr>\n",
       "    <tr>\n",
       "      <th>CoffsHarbour</th>\n",
       "      <td>0.706803</td>\n",
       "      <td>0.293197</td>\n",
       "    </tr>\n",
       "    <tr>\n",
       "      <th>Dartmoor</th>\n",
       "      <td>0.686968</td>\n",
       "      <td>0.313032</td>\n",
       "    </tr>\n",
       "  </tbody>\n",
       "</table>\n",
       "</div>"
      ],
      "text/plain": [
       "RainTomorrow        No       Yes\n",
       "Location                        \n",
       "Woomera       0.933646  0.066354\n",
       "Cobar         0.871477  0.128523\n",
       "Townsville    0.830195  0.169805\n",
       "Tuggeranong   0.810409  0.189591\n",
       "Perth         0.797996  0.202004\n",
       "Brisbane      0.774904  0.225096\n",
       "Wollongong    0.760449  0.239551\n",
       "Sydney        0.740919  0.259081\n",
       "CoffsHarbour  0.706803  0.293197\n",
       "Dartmoor      0.686968  0.313032"
      ]
     },
     "execution_count": 5,
     "metadata": {},
     "output_type": "execute_result"
    }
   ],
   "source": [
    "rains_tm_norm = pd.crosstab(df['Location'],\n",
    "                            df['RainTomorrow'],\n",
    "                                normalize='index'\n",
    "                            ).sort_values(by='Yes')\n",
    "rains_tm_norm[::5]"
   ]
  },
  {
   "cell_type": "code",
   "execution_count": 6,
   "metadata": {},
   "outputs": [
    {
     "data": {
      "image/png": "[encoded data removed]",
      "text/plain": [
       "<Figure size 720x1080 with 1 Axes>"
      ]
     },
     "metadata": {
      "needs_background": "light"
     },
     "output_type": "display_data"
    }
   ],
   "source": [
    "rains_tm_norm.plot.barh(figsize=(10,15), stacked=True);"
   ]
  },
  {
   "cell_type": "code",
   "execution_count": 7,
   "metadata": {},
   "outputs": [
    {
     "data": {
      "text/plain": [
       "Location\n",
       "Woomera         0.066354\n",
       "Cobar           0.128523\n",
       "Townsville      0.169805\n",
       "Tuggeranong     0.189591\n",
       "Perth           0.202004\n",
       "Brisbane        0.225096\n",
       "Wollongong      0.239551\n",
       "Sydney          0.259081\n",
       "CoffsHarbour    0.293197\n",
       "Dartmoor        0.313032\n",
       "Name: Yes, dtype: float64"
      ]
     },
     "execution_count": 7,
     "metadata": {},
     "output_type": "execute_result"
    }
   ],
   "source": [
    "rains_tm_yes = rains_tm_norm['Yes']\n",
    "rains_tm_yes[::5]"
   ]
  },
  {
   "cell_type": "code",
   "execution_count": 8,
   "metadata": {},
   "outputs": [
    {
     "data": {
      "text/plain": [
       "count    49.000000\n",
       "mean      0.219136\n",
       "std       0.067959\n",
       "min       0.066354\n",
       "25%       0.183715\n",
       "50%       0.217016\n",
       "75%       0.260602\n",
       "max       0.366957\n",
       "Name: Yes, dtype: float64"
      ]
     },
     "execution_count": 8,
     "metadata": {},
     "output_type": "execute_result"
    }
   ],
   "source": [
    "rains_tm_yes.describe()"
   ]
  },
  {
   "cell_type": "code",
   "execution_count": 9,
   "metadata": {},
   "outputs": [
    {
     "data": {
      "text/plain": [
       "(-0.001, 0.184]    12\n",
       "(0.184, 0.261]     25\n",
       "(0.261, 1.0]       12\n",
       "Name: Yes, dtype: int64"
      ]
     },
     "execution_count": 9,
     "metadata": {},
     "output_type": "execute_result"
    }
   ],
   "source": [
    "rains_tm_yes.value_counts(bins=[0, 0.183715, 0.260602, 1], sort=False)"
   ]
  },
  {
   "cell_type": "code",
   "execution_count": 10,
   "metadata": {},
   "outputs": [
    {
     "data": {
      "image/png": "[encoded data removed]",
      "text/plain": [
       "<Figure size 720x432 with 1 Axes>"
      ]
     },
     "metadata": {
      "needs_background": "light"
     },
     "output_type": "display_data"
    }
   ],
   "source": [
    "rains_tm_yes.plot.hist(bins=40, figsize=(10,6));"
   ]
  },
  {
   "cell_type": "code",
   "execution_count": 11,
   "metadata": {},
   "outputs": [
    {
     "data": {
      "text/plain": [
       "(-0.001, 0.14]     6\n",
       "(0.14, 0.28]      34\n",
       "(0.28, 0.5]        9\n",
       "Name: Yes, dtype: int64"
      ]
     },
     "execution_count": 11,
     "metadata": {},
     "output_type": "execute_result"
    }
   ],
   "source": [
    "rains_tm_yes.value_counts(bins=[0, 0.14, 0.28, 0.5], sort=False)"
   ]
  },
  {
   "cell_type": "code",
   "execution_count": null,
   "metadata": {},
   "outputs": [],
   "source": []
  }
 ],
 "metadata": {
  "kernelspec": {
   "display_name": "Python 3",
   "language": "python",
   "name": "python3"
  },
  "language_info": {
   "codemirror_mode": {
    "name": "ipython",
    "version": 3
   },
   "file_extension": ".py",
   "mimetype": "text/x-python",
   "name": "python",
   "nbconvert_exporter": "python",
   "pygments_lexer": "ipython3",
   "version": "3.8.5"
  }
 },
 "nbformat": 4,
 "nbformat_minor": 4
}
