{
 "cells": [
  {
   "cell_type": "code",
   "execution_count": 1,
   "id": "2190fb07-a656-47e8-9d5b-82885bdf75b2",
   "metadata": {},
   "outputs": [
    {
     "name": "stdout",
     "output_type": "stream",
     "text": [
      "/home/anatoly/Private/GitHub/renokan/study_ds/WeatherAUS-5\n"
     ]
    }
   ],
   "source": [
    "%cd .."
   ]
  },
  {
   "cell_type": "markdown",
   "id": "705fd2f9-df2e-40cd-8764-d42439ebf369",
   "metadata": {},
   "source": [
    "## LogisticRegression + additional options for data sampling"
   ]
  },
  {
   "cell_type": "markdown",
   "id": "3af682e7-9baa-42b4-9994-f57f8bcdc96c",
   "metadata": {},
   "source": [
    "### 1. Importing the modules and setting parameters"
   ]
  },
  {
   "cell_type": "code",
   "execution_count": 2,
   "id": "c88ec5f1-a810-4eba-ad86-f161c9134685",
   "metadata": {},
   "outputs": [],
   "source": [
    "# Testing the project\n",
    "import weather_project as we"
   ]
  },
  {
   "cell_type": "code",
   "execution_count": 3,
   "id": "69eed628-c632-4c5e-a707-7cad78c15186",
   "metadata": {},
   "outputs": [
    {
     "name": "stdout",
     "output_type": "stream",
     "text": [
      "actual_data.csv\n",
      "future_data.csv\n",
      "RainTomorrow\n"
     ]
    }
   ],
   "source": [
    "print(we.ACTUAL_DATA)\n",
    "print(we.FUTURE_DATA)\n",
    "print(we.TARGET_NAME)"
   ]
  },
  {
   "cell_type": "code",
   "execution_count": 4,
   "id": "c34d1daa-ddb9-4951-bd79-57085e917fff",
   "metadata": {},
   "outputs": [
    {
     "name": "stdout",
     "output_type": "stream",
     "text": [
      "-rw-rw-r-- 1 anatoly 12807959 июл 27 23:56 actual_data.csv\n",
      "-rw-rw-r-- 1 anatoly  2793277 июл 27 23:56 future_data.csv\n",
      "-rw-rw-r-- 1 anatoly    35935 авг  1 01:50 split_dataset.ipynb\n",
      "-rw-rw-r-- 1 anatoly 14094055 дек 11  2020 weatherAUS.csv\n"
     ]
    }
   ],
   "source": [
    "%lf data/"
   ]
  },
  {
   "cell_type": "markdown",
   "id": "77e841cd-f973-4cd0-ba10-f2b8dd27f45e",
   "metadata": {},
   "source": [
    "### 2. Loading raw data, cleaning and splitting it"
   ]
  },
  {
   "cell_type": "code",
   "execution_count": 5,
   "id": "5de2babd-cfe1-4a0d-b98b-b3532922ed85",
   "metadata": {},
   "outputs": [],
   "source": [
    "data = we.get_data(we.ACTUAL_DATA)"
   ]
  },
  {
   "cell_type": "code",
   "execution_count": 6,
   "id": "002598ea-be92-4a87-8a7a-ffd57548a9ec",
   "metadata": {},
   "outputs": [
    {
     "data": {
      "text/html": [
       "<div>\n",
       "<style scoped>\n",
       "    .dataframe tbody tr th:only-of-type {\n",
       "        vertical-align: middle;\n",
       "    }\n",
       "\n",
       "    .dataframe tbody tr th {\n",
       "        vertical-align: top;\n",
       "    }\n",
       "\n",
       "    .dataframe thead th {\n",
       "        text-align: right;\n",
       "    }\n",
       "</style>\n",
       "<table border=\"1\" class=\"dataframe\">\n",
       "  <thead>\n",
       "    <tr style=\"text-align: right;\">\n",
       "      <th></th>\n",
       "      <th>Month</th>\n",
       "      <th>Region</th>\n",
       "      <th>MinTemp</th>\n",
       "      <th>MaxMin_Temp</th>\n",
       "      <th>Temp3pm</th>\n",
       "      <th>AmPm_Temp</th>\n",
       "      <th>Rainfall_YesNo</th>\n",
       "      <th>Sunshine_Clean</th>\n",
       "      <th>Sunshine_Types</th>\n",
       "      <th>WindDir3pm</th>\n",
       "      <th>WindGustSpeed</th>\n",
       "      <th>WindSpeed3pm</th>\n",
       "      <th>Humidity9am</th>\n",
       "      <th>Humidity3pm</th>\n",
       "      <th>Pressure3pm</th>\n",
       "      <th>Pressure_Diff</th>\n",
       "      <th>Cloud_YesNo</th>\n",
       "      <th>RainToday</th>\n",
       "      <th>RainTomorrow</th>\n",
       "    </tr>\n",
       "  </thead>\n",
       "  <tbody>\n",
       "    <tr>\n",
       "      <th>0</th>\n",
       "      <td>December</td>\n",
       "      <td>4</td>\n",
       "      <td>13.4</td>\n",
       "      <td>9.5</td>\n",
       "      <td>21.8</td>\n",
       "      <td>4.9</td>\n",
       "      <td>1.0</td>\n",
       "      <td>10.0</td>\n",
       "      <td>normal</td>\n",
       "      <td>WNW</td>\n",
       "      <td>44.0</td>\n",
       "      <td>24.0</td>\n",
       "      <td>71.0</td>\n",
       "      <td>22.0</td>\n",
       "      <td>1007.1</td>\n",
       "      <td>0.6</td>\n",
       "      <td>1</td>\n",
       "      <td>0.0</td>\n",
       "      <td>0.0</td>\n",
       "    </tr>\n",
       "    <tr>\n",
       "      <th>1</th>\n",
       "      <td>December</td>\n",
       "      <td>4</td>\n",
       "      <td>7.4</td>\n",
       "      <td>17.7</td>\n",
       "      <td>24.3</td>\n",
       "      <td>7.1</td>\n",
       "      <td>0.0</td>\n",
       "      <td>10.0</td>\n",
       "      <td>normal</td>\n",
       "      <td>WSW</td>\n",
       "      <td>44.0</td>\n",
       "      <td>22.0</td>\n",
       "      <td>44.0</td>\n",
       "      <td>25.0</td>\n",
       "      <td>1007.8</td>\n",
       "      <td>2.8</td>\n",
       "      <td>0</td>\n",
       "      <td>0.0</td>\n",
       "      <td>0.0</td>\n",
       "    </tr>\n",
       "    <tr>\n",
       "      <th>2</th>\n",
       "      <td>December</td>\n",
       "      <td>4</td>\n",
       "      <td>12.9</td>\n",
       "      <td>12.8</td>\n",
       "      <td>23.2</td>\n",
       "      <td>2.2</td>\n",
       "      <td>0.0</td>\n",
       "      <td>10.0</td>\n",
       "      <td>normal</td>\n",
       "      <td>WSW</td>\n",
       "      <td>46.0</td>\n",
       "      <td>26.0</td>\n",
       "      <td>38.0</td>\n",
       "      <td>30.0</td>\n",
       "      <td>1008.7</td>\n",
       "      <td>1.1</td>\n",
       "      <td>1</td>\n",
       "      <td>0.0</td>\n",
       "      <td>0.0</td>\n",
       "    </tr>\n",
       "    <tr>\n",
       "      <th>3</th>\n",
       "      <td>December</td>\n",
       "      <td>4</td>\n",
       "      <td>9.2</td>\n",
       "      <td>18.8</td>\n",
       "      <td>26.5</td>\n",
       "      <td>8.4</td>\n",
       "      <td>0.0</td>\n",
       "      <td>10.0</td>\n",
       "      <td>normal</td>\n",
       "      <td>E</td>\n",
       "      <td>24.0</td>\n",
       "      <td>9.0</td>\n",
       "      <td>45.0</td>\n",
       "      <td>16.0</td>\n",
       "      <td>1012.8</td>\n",
       "      <td>4.8</td>\n",
       "      <td>0</td>\n",
       "      <td>0.0</td>\n",
       "      <td>0.0</td>\n",
       "    </tr>\n",
       "    <tr>\n",
       "      <th>4</th>\n",
       "      <td>December</td>\n",
       "      <td>4</td>\n",
       "      <td>17.5</td>\n",
       "      <td>14.8</td>\n",
       "      <td>29.7</td>\n",
       "      <td>11.9</td>\n",
       "      <td>1.0</td>\n",
       "      <td>10.0</td>\n",
       "      <td>normal</td>\n",
       "      <td>NW</td>\n",
       "      <td>41.0</td>\n",
       "      <td>20.0</td>\n",
       "      <td>82.0</td>\n",
       "      <td>33.0</td>\n",
       "      <td>1006.0</td>\n",
       "      <td>4.8</td>\n",
       "      <td>1</td>\n",
       "      <td>0.0</td>\n",
       "      <td>0.0</td>\n",
       "    </tr>\n",
       "    <tr>\n",
       "      <th>...</th>\n",
       "      <td>...</td>\n",
       "      <td>...</td>\n",
       "      <td>...</td>\n",
       "      <td>...</td>\n",
       "      <td>...</td>\n",
       "      <td>...</td>\n",
       "      <td>...</td>\n",
       "      <td>...</td>\n",
       "      <td>...</td>\n",
       "      <td>...</td>\n",
       "      <td>...</td>\n",
       "      <td>...</td>\n",
       "      <td>...</td>\n",
       "      <td>...</td>\n",
       "      <td>...</td>\n",
       "      <td>...</td>\n",
       "      <td>...</td>\n",
       "      <td>...</td>\n",
       "      <td>...</td>\n",
       "    </tr>\n",
       "    <tr>\n",
       "      <th>118898</th>\n",
       "      <td>December</td>\n",
       "      <td>1</td>\n",
       "      <td>20.5</td>\n",
       "      <td>14.2</td>\n",
       "      <td>33.0</td>\n",
       "      <td>8.7</td>\n",
       "      <td>0.0</td>\n",
       "      <td>10.0</td>\n",
       "      <td>normal</td>\n",
       "      <td>E</td>\n",
       "      <td>52.0</td>\n",
       "      <td>20.0</td>\n",
       "      <td>23.0</td>\n",
       "      <td>12.0</td>\n",
       "      <td>1010.1</td>\n",
       "      <td>3.1</td>\n",
       "      <td>0</td>\n",
       "      <td>0.0</td>\n",
       "      <td>0.0</td>\n",
       "    </tr>\n",
       "    <tr>\n",
       "      <th>118899</th>\n",
       "      <td>December</td>\n",
       "      <td>1</td>\n",
       "      <td>18.0</td>\n",
       "      <td>18.4</td>\n",
       "      <td>35.0</td>\n",
       "      <td>8.3</td>\n",
       "      <td>0.0</td>\n",
       "      <td>10.0</td>\n",
       "      <td>normal</td>\n",
       "      <td>ESE</td>\n",
       "      <td>54.0</td>\n",
       "      <td>31.0</td>\n",
       "      <td>17.0</td>\n",
       "      <td>7.0</td>\n",
       "      <td>1010.9</td>\n",
       "      <td>3.8</td>\n",
       "      <td>0</td>\n",
       "      <td>0.0</td>\n",
       "      <td>0.0</td>\n",
       "    </tr>\n",
       "    <tr>\n",
       "      <th>118900</th>\n",
       "      <td>December</td>\n",
       "      <td>1</td>\n",
       "      <td>17.5</td>\n",
       "      <td>19.6</td>\n",
       "      <td>34.7</td>\n",
       "      <td>6.6</td>\n",
       "      <td>0.0</td>\n",
       "      <td>10.0</td>\n",
       "      <td>normal</td>\n",
       "      <td>SE</td>\n",
       "      <td>56.0</td>\n",
       "      <td>22.0</td>\n",
       "      <td>12.0</td>\n",
       "      <td>7.0</td>\n",
       "      <td>1007.5</td>\n",
       "      <td>5.0</td>\n",
       "      <td>0</td>\n",
       "      <td>0.0</td>\n",
       "      <td>0.0</td>\n",
       "    </tr>\n",
       "    <tr>\n",
       "      <th>118901</th>\n",
       "      <td>December</td>\n",
       "      <td>1</td>\n",
       "      <td>20.0</td>\n",
       "      <td>18.9</td>\n",
       "      <td>38.4</td>\n",
       "      <td>7.1</td>\n",
       "      <td>0.0</td>\n",
       "      <td>10.0</td>\n",
       "      <td>normal</td>\n",
       "      <td>SSE</td>\n",
       "      <td>59.0</td>\n",
       "      <td>17.0</td>\n",
       "      <td>12.0</td>\n",
       "      <td>12.0</td>\n",
       "      <td>1002.6</td>\n",
       "      <td>4.6</td>\n",
       "      <td>1</td>\n",
       "      <td>0.0</td>\n",
       "      <td>0.0</td>\n",
       "    </tr>\n",
       "    <tr>\n",
       "      <th>118902</th>\n",
       "      <td>December</td>\n",
       "      <td>1</td>\n",
       "      <td>19.3</td>\n",
       "      <td>18.1</td>\n",
       "      <td>35.8</td>\n",
       "      <td>10.0</td>\n",
       "      <td>0.0</td>\n",
       "      <td>10.0</td>\n",
       "      <td>normal</td>\n",
       "      <td>S</td>\n",
       "      <td>56.0</td>\n",
       "      <td>28.0</td>\n",
       "      <td>46.0</td>\n",
       "      <td>18.0</td>\n",
       "      <td>1003.7</td>\n",
       "      <td>3.6</td>\n",
       "      <td>0</td>\n",
       "      <td>0.0</td>\n",
       "      <td>0.0</td>\n",
       "    </tr>\n",
       "  </tbody>\n",
       "</table>\n",
       "<p>118903 rows × 19 columns</p>\n",
       "</div>"
      ],
      "text/plain": [
       "           Month Region  MinTemp  MaxMin_Temp  Temp3pm  AmPm_Temp  \\\n",
       "0       December      4     13.4          9.5     21.8        4.9   \n",
       "1       December      4      7.4         17.7     24.3        7.1   \n",
       "2       December      4     12.9         12.8     23.2        2.2   \n",
       "3       December      4      9.2         18.8     26.5        8.4   \n",
       "4       December      4     17.5         14.8     29.7       11.9   \n",
       "...          ...    ...      ...          ...      ...        ...   \n",
       "118898  December      1     20.5         14.2     33.0        8.7   \n",
       "118899  December      1     18.0         18.4     35.0        8.3   \n",
       "118900  December      1     17.5         19.6     34.7        6.6   \n",
       "118901  December      1     20.0         18.9     38.4        7.1   \n",
       "118902  December      1     19.3         18.1     35.8       10.0   \n",
       "\n",
       "        Rainfall_YesNo  Sunshine_Clean Sunshine_Types WindDir3pm  \\\n",
       "0                  1.0            10.0         normal        WNW   \n",
       "1                  0.0            10.0         normal        WSW   \n",
       "2                  0.0            10.0         normal        WSW   \n",
       "3                  0.0            10.0         normal          E   \n",
       "4                  1.0            10.0         normal         NW   \n",
       "...                ...             ...            ...        ...   \n",
       "118898             0.0            10.0         normal          E   \n",
       "118899             0.0            10.0         normal        ESE   \n",
       "118900             0.0            10.0         normal         SE   \n",
       "118901             0.0            10.0         normal        SSE   \n",
       "118902             0.0            10.0         normal          S   \n",
       "\n",
       "        WindGustSpeed  WindSpeed3pm  Humidity9am  Humidity3pm  Pressure3pm  \\\n",
       "0                44.0          24.0         71.0         22.0       1007.1   \n",
       "1                44.0          22.0         44.0         25.0       1007.8   \n",
       "2                46.0          26.0         38.0         30.0       1008.7   \n",
       "3                24.0           9.0         45.0         16.0       1012.8   \n",
       "4                41.0          20.0         82.0         33.0       1006.0   \n",
       "...               ...           ...          ...          ...          ...   \n",
       "118898           52.0          20.0         23.0         12.0       1010.1   \n",
       "118899           54.0          31.0         17.0          7.0       1010.9   \n",
       "118900           56.0          22.0         12.0          7.0       1007.5   \n",
       "118901           59.0          17.0         12.0         12.0       1002.6   \n",
       "118902           56.0          28.0         46.0         18.0       1003.7   \n",
       "\n",
       "        Pressure_Diff  Cloud_YesNo  RainToday  RainTomorrow  \n",
       "0                 0.6            1        0.0           0.0  \n",
       "1                 2.8            0        0.0           0.0  \n",
       "2                 1.1            1        0.0           0.0  \n",
       "3                 4.8            0        0.0           0.0  \n",
       "4                 4.8            1        0.0           0.0  \n",
       "...               ...          ...        ...           ...  \n",
       "118898            3.1            0        0.0           0.0  \n",
       "118899            3.8            0        0.0           0.0  \n",
       "118900            5.0            0        0.0           0.0  \n",
       "118901            4.6            1        0.0           0.0  \n",
       "118902            3.6            0        0.0           0.0  \n",
       "\n",
       "[118903 rows x 19 columns]"
      ]
     },
     "execution_count": 6,
     "metadata": {},
     "output_type": "execute_result"
    }
   ],
   "source": [
    "data"
   ]
  },
  {
   "cell_type": "code",
   "execution_count": 7,
   "id": "add8929a-b168-4e14-9351-3ce391fd5a38",
   "metadata": {},
   "outputs": [],
   "source": [
    "data = we.get_notna_target(data, we.TARGET_NAME)"
   ]
  },
  {
   "cell_type": "code",
   "execution_count": 8,
   "id": "c10fcbb1-0f85-4f1f-b7bf-9d91dfdaba31",
   "metadata": {},
   "outputs": [
    {
     "data": {
      "text/plain": [
       "(116219, 19)"
      ]
     },
     "execution_count": 8,
     "metadata": {},
     "output_type": "execute_result"
    }
   ],
   "source": [
    "data.shape"
   ]
  },
  {
   "cell_type": "code",
   "execution_count": 9,
   "id": "14eeb32c-e303-4e6c-9cd9-7e6cf8ab0bff",
   "metadata": {},
   "outputs": [],
   "source": [
    "train_data, test_data = we.get_train_test(data)"
   ]
  },
  {
   "cell_type": "code",
   "execution_count": 10,
   "id": "29fcaaac-d7a4-47ec-b9f4-399a29b9812b",
   "metadata": {},
   "outputs": [
    {
     "name": "stdout",
     "output_type": "stream",
     "text": [
      "(29311, 18)\n",
      "(86908, 18)\n"
     ]
    }
   ],
   "source": [
    "print(train_data.shape)\n",
    "print(test_data.shape)"
   ]
  },
  {
   "cell_type": "code",
   "execution_count": 11,
   "id": "a2497681-cd27-45cf-ae8e-f06c4d4dbd4c",
   "metadata": {},
   "outputs": [],
   "source": [
    "X_train, y_train = we.get_x_y_data(train_data, we.TARGET_NAME)\n",
    "X_test, y_test = we.get_x_y_data(test_data, we.TARGET_NAME)"
   ]
  },
  {
   "cell_type": "code",
   "execution_count": 12,
   "id": "a8152c18-ce83-4858-9e8b-15abaaec41b9",
   "metadata": {},
   "outputs": [
    {
     "name": "stdout",
     "output_type": "stream",
     "text": [
      "(29311, 17)\n",
      "(29311,)\n"
     ]
    }
   ],
   "source": [
    "print(X_train.shape)\n",
    "print(y_train.shape)"
   ]
  },
  {
   "cell_type": "code",
   "execution_count": 13,
   "id": "56ade5f9-23ee-41c4-9a3f-971fd3ec27be",
   "metadata": {},
   "outputs": [
    {
     "data": {
      "text/html": [
       "<div>\n",
       "<style scoped>\n",
       "    .dataframe tbody tr th:only-of-type {\n",
       "        vertical-align: middle;\n",
       "    }\n",
       "\n",
       "    .dataframe tbody tr th {\n",
       "        vertical-align: top;\n",
       "    }\n",
       "\n",
       "    .dataframe thead th {\n",
       "        text-align: right;\n",
       "    }\n",
       "</style>\n",
       "<table border=\"1\" class=\"dataframe\">\n",
       "  <thead>\n",
       "    <tr style=\"text-align: right;\">\n",
       "      <th></th>\n",
       "      <th>Month</th>\n",
       "      <th>MinTemp</th>\n",
       "      <th>MaxMin_Temp</th>\n",
       "      <th>Temp3pm</th>\n",
       "      <th>AmPm_Temp</th>\n",
       "      <th>Rainfall_YesNo</th>\n",
       "      <th>Sunshine_Clean</th>\n",
       "      <th>Sunshine_Types</th>\n",
       "      <th>WindDir3pm</th>\n",
       "      <th>WindGustSpeed</th>\n",
       "      <th>WindSpeed3pm</th>\n",
       "      <th>Humidity9am</th>\n",
       "      <th>Humidity3pm</th>\n",
       "      <th>Pressure3pm</th>\n",
       "      <th>Pressure_Diff</th>\n",
       "      <th>Cloud_YesNo</th>\n",
       "      <th>RainToday</th>\n",
       "    </tr>\n",
       "  </thead>\n",
       "  <tbody>\n",
       "    <tr>\n",
       "      <th>12366</th>\n",
       "      <td>December</td>\n",
       "      <td>13.2</td>\n",
       "      <td>NaN</td>\n",
       "      <td>30.6</td>\n",
       "      <td>8.8</td>\n",
       "      <td>0.0</td>\n",
       "      <td>10.0</td>\n",
       "      <td>normal</td>\n",
       "      <td>NW</td>\n",
       "      <td>NaN</td>\n",
       "      <td>19.0</td>\n",
       "      <td>50.0</td>\n",
       "      <td>24.0</td>\n",
       "      <td>NaN</td>\n",
       "      <td>3.5</td>\n",
       "      <td>1</td>\n",
       "      <td>0.0</td>\n",
       "    </tr>\n",
       "    <tr>\n",
       "      <th>12367</th>\n",
       "      <td>December</td>\n",
       "      <td>NaN</td>\n",
       "      <td>NaN</td>\n",
       "      <td>25.4</td>\n",
       "      <td>NaN</td>\n",
       "      <td>0.0</td>\n",
       "      <td>10.0</td>\n",
       "      <td>normal</td>\n",
       "      <td>NE</td>\n",
       "      <td>NaN</td>\n",
       "      <td>19.0</td>\n",
       "      <td>NaN</td>\n",
       "      <td>59.0</td>\n",
       "      <td>NaN</td>\n",
       "      <td>3.5</td>\n",
       "      <td>0</td>\n",
       "      <td>0.0</td>\n",
       "    </tr>\n",
       "    <tr>\n",
       "      <th>12368</th>\n",
       "      <td>December</td>\n",
       "      <td>16.2</td>\n",
       "      <td>16.0</td>\n",
       "      <td>32.0</td>\n",
       "      <td>9.8</td>\n",
       "      <td>0.0</td>\n",
       "      <td>10.0</td>\n",
       "      <td>normal</td>\n",
       "      <td>SE</td>\n",
       "      <td>NaN</td>\n",
       "      <td>2.0</td>\n",
       "      <td>74.0</td>\n",
       "      <td>26.0</td>\n",
       "      <td>NaN</td>\n",
       "      <td>3.5</td>\n",
       "      <td>1</td>\n",
       "      <td>0.0</td>\n",
       "    </tr>\n",
       "    <tr>\n",
       "      <th>12369</th>\n",
       "      <td>December</td>\n",
       "      <td>19.2</td>\n",
       "      <td>4.8</td>\n",
       "      <td>23.0</td>\n",
       "      <td>2.6</td>\n",
       "      <td>0.0</td>\n",
       "      <td>10.0</td>\n",
       "      <td>normal</td>\n",
       "      <td>SE</td>\n",
       "      <td>NaN</td>\n",
       "      <td>22.0</td>\n",
       "      <td>66.0</td>\n",
       "      <td>61.0</td>\n",
       "      <td>NaN</td>\n",
       "      <td>3.5</td>\n",
       "      <td>1</td>\n",
       "      <td>0.0</td>\n",
       "    </tr>\n",
       "    <tr>\n",
       "      <th>12370</th>\n",
       "      <td>December</td>\n",
       "      <td>18.8</td>\n",
       "      <td>11.4</td>\n",
       "      <td>NaN</td>\n",
       "      <td>NaN</td>\n",
       "      <td>0.0</td>\n",
       "      <td>10.0</td>\n",
       "      <td>normal</td>\n",
       "      <td>NaN</td>\n",
       "      <td>NaN</td>\n",
       "      <td>NaN</td>\n",
       "      <td>85.0</td>\n",
       "      <td>NaN</td>\n",
       "      <td>NaN</td>\n",
       "      <td>3.5</td>\n",
       "      <td>1</td>\n",
       "      <td>0.0</td>\n",
       "    </tr>\n",
       "    <tr>\n",
       "      <th>...</th>\n",
       "      <td>...</td>\n",
       "      <td>...</td>\n",
       "      <td>...</td>\n",
       "      <td>...</td>\n",
       "      <td>...</td>\n",
       "      <td>...</td>\n",
       "      <td>...</td>\n",
       "      <td>...</td>\n",
       "      <td>...</td>\n",
       "      <td>...</td>\n",
       "      <td>...</td>\n",
       "      <td>...</td>\n",
       "      <td>...</td>\n",
       "      <td>...</td>\n",
       "      <td>...</td>\n",
       "      <td>...</td>\n",
       "      <td>...</td>\n",
       "    </tr>\n",
       "    <tr>\n",
       "      <th>116826</th>\n",
       "      <td>December</td>\n",
       "      <td>23.4</td>\n",
       "      <td>7.6</td>\n",
       "      <td>29.8</td>\n",
       "      <td>5.6</td>\n",
       "      <td>1.0</td>\n",
       "      <td>1.1</td>\n",
       "      <td>small</td>\n",
       "      <td>W</td>\n",
       "      <td>69.0</td>\n",
       "      <td>30.0</td>\n",
       "      <td>94.0</td>\n",
       "      <td>77.0</td>\n",
       "      <td>1005.0</td>\n",
       "      <td>1.9</td>\n",
       "      <td>1</td>\n",
       "      <td>1.0</td>\n",
       "    </tr>\n",
       "    <tr>\n",
       "      <th>116827</th>\n",
       "      <td>December</td>\n",
       "      <td>24.2</td>\n",
       "      <td>7.5</td>\n",
       "      <td>31.3</td>\n",
       "      <td>5.1</td>\n",
       "      <td>1.0</td>\n",
       "      <td>5.5</td>\n",
       "      <td>normal</td>\n",
       "      <td>WNW</td>\n",
       "      <td>52.0</td>\n",
       "      <td>24.0</td>\n",
       "      <td>79.0</td>\n",
       "      <td>68.0</td>\n",
       "      <td>1006.8</td>\n",
       "      <td>2.9</td>\n",
       "      <td>1</td>\n",
       "      <td>0.0</td>\n",
       "    </tr>\n",
       "    <tr>\n",
       "      <th>116828</th>\n",
       "      <td>December</td>\n",
       "      <td>24.1</td>\n",
       "      <td>6.3</td>\n",
       "      <td>24.8</td>\n",
       "      <td>4.3</td>\n",
       "      <td>0.0</td>\n",
       "      <td>3.1</td>\n",
       "      <td>normal</td>\n",
       "      <td>SE</td>\n",
       "      <td>48.0</td>\n",
       "      <td>19.0</td>\n",
       "      <td>76.0</td>\n",
       "      <td>91.0</td>\n",
       "      <td>1007.4</td>\n",
       "      <td>1.4</td>\n",
       "      <td>1</td>\n",
       "      <td>0.0</td>\n",
       "    </tr>\n",
       "    <tr>\n",
       "      <th>116829</th>\n",
       "      <td>December</td>\n",
       "      <td>24.4</td>\n",
       "      <td>7.9</td>\n",
       "      <td>31.7</td>\n",
       "      <td>1.7</td>\n",
       "      <td>1.0</td>\n",
       "      <td>11.6</td>\n",
       "      <td>big</td>\n",
       "      <td>W</td>\n",
       "      <td>50.0</td>\n",
       "      <td>33.0</td>\n",
       "      <td>73.0</td>\n",
       "      <td>61.0</td>\n",
       "      <td>1005.9</td>\n",
       "      <td>1.4</td>\n",
       "      <td>1</td>\n",
       "      <td>1.0</td>\n",
       "    </tr>\n",
       "    <tr>\n",
       "      <th>116830</th>\n",
       "      <td>December</td>\n",
       "      <td>27.9</td>\n",
       "      <td>5.0</td>\n",
       "      <td>31.6</td>\n",
       "      <td>2.2</td>\n",
       "      <td>0.0</td>\n",
       "      <td>8.8</td>\n",
       "      <td>normal</td>\n",
       "      <td>W</td>\n",
       "      <td>46.0</td>\n",
       "      <td>28.0</td>\n",
       "      <td>78.0</td>\n",
       "      <td>62.0</td>\n",
       "      <td>1007.4</td>\n",
       "      <td>2.5</td>\n",
       "      <td>1</td>\n",
       "      <td>0.0</td>\n",
       "    </tr>\n",
       "  </tbody>\n",
       "</table>\n",
       "<p>29311 rows × 17 columns</p>\n",
       "</div>"
      ],
      "text/plain": [
       "           Month  MinTemp  MaxMin_Temp  Temp3pm  AmPm_Temp  Rainfall_YesNo  \\\n",
       "12366   December     13.2          NaN     30.6        8.8             0.0   \n",
       "12367   December      NaN          NaN     25.4        NaN             0.0   \n",
       "12368   December     16.2         16.0     32.0        9.8             0.0   \n",
       "12369   December     19.2          4.8     23.0        2.6             0.0   \n",
       "12370   December     18.8         11.4      NaN        NaN             0.0   \n",
       "...          ...      ...          ...      ...        ...             ...   \n",
       "116826  December     23.4          7.6     29.8        5.6             1.0   \n",
       "116827  December     24.2          7.5     31.3        5.1             1.0   \n",
       "116828  December     24.1          6.3     24.8        4.3             0.0   \n",
       "116829  December     24.4          7.9     31.7        1.7             1.0   \n",
       "116830  December     27.9          5.0     31.6        2.2             0.0   \n",
       "\n",
       "        Sunshine_Clean Sunshine_Types WindDir3pm  WindGustSpeed  WindSpeed3pm  \\\n",
       "12366             10.0         normal         NW            NaN          19.0   \n",
       "12367             10.0         normal         NE            NaN          19.0   \n",
       "12368             10.0         normal         SE            NaN           2.0   \n",
       "12369             10.0         normal         SE            NaN          22.0   \n",
       "12370             10.0         normal        NaN            NaN           NaN   \n",
       "...                ...            ...        ...            ...           ...   \n",
       "116826             1.1          small          W           69.0          30.0   \n",
       "116827             5.5         normal        WNW           52.0          24.0   \n",
       "116828             3.1         normal         SE           48.0          19.0   \n",
       "116829            11.6            big          W           50.0          33.0   \n",
       "116830             8.8         normal          W           46.0          28.0   \n",
       "\n",
       "        Humidity9am  Humidity3pm  Pressure3pm  Pressure_Diff  Cloud_YesNo  \\\n",
       "12366          50.0         24.0          NaN            3.5            1   \n",
       "12367           NaN         59.0          NaN            3.5            0   \n",
       "12368          74.0         26.0          NaN            3.5            1   \n",
       "12369          66.0         61.0          NaN            3.5            1   \n",
       "12370          85.0          NaN          NaN            3.5            1   \n",
       "...             ...          ...          ...            ...          ...   \n",
       "116826         94.0         77.0       1005.0            1.9            1   \n",
       "116827         79.0         68.0       1006.8            2.9            1   \n",
       "116828         76.0         91.0       1007.4            1.4            1   \n",
       "116829         73.0         61.0       1005.9            1.4            1   \n",
       "116830         78.0         62.0       1007.4            2.5            1   \n",
       "\n",
       "        RainToday  \n",
       "12366         0.0  \n",
       "12367         0.0  \n",
       "12368         0.0  \n",
       "12369         0.0  \n",
       "12370         0.0  \n",
       "...           ...  \n",
       "116826        1.0  \n",
       "116827        0.0  \n",
       "116828        0.0  \n",
       "116829        1.0  \n",
       "116830        0.0  \n",
       "\n",
       "[29311 rows x 17 columns]"
      ]
     },
     "execution_count": 13,
     "metadata": {},
     "output_type": "execute_result"
    }
   ],
   "source": [
    "X_train"
   ]
  },
  {
   "cell_type": "markdown",
   "id": "761b5fe1-a83f-4f83-a7b9-ad696caee71c",
   "metadata": {},
   "source": [
    "### 3. Modelling and search optimal hyperparameters"
   ]
  },
  {
   "cell_type": "code",
   "execution_count": 14,
   "id": "3c43444c-7279-4749-8eb4-302c8b8179ea",
   "metadata": {},
   "outputs": [
    {
     "name": "stdout",
     "output_type": "stream",
     "text": [
      "['Rainfall_YesNo', 'Cloud_YesNo', 'RainToday']\n",
      "['MinTemp', 'MaxMin_Temp', 'Temp3pm', 'AmPm_Temp', 'Sunshine_Clean', 'WindGustSpeed', 'WindSpeed3pm', 'Humidity9am', 'Humidity3pm', 'Pressure3pm', 'Pressure_Diff']\n",
      "['Month', 'Sunshine_Types', 'WindDir3pm']\n"
     ]
    }
   ],
   "source": [
    "features = we.get_3group_features(X_train)\n",
    "print(*features, sep='\\n')"
   ]
  },
  {
   "cell_type": "markdown",
   "id": "fded853f-af98-4135-9680-0b0eac8415dc",
   "metadata": {},
   "source": [
    "### 3.1. Without sampling"
   ]
  },
  {
   "cell_type": "code",
   "execution_count": 15,
   "id": "3d9ecbc1-bf01-42db-9781-64cf233a8e20",
   "metadata": {},
   "outputs": [],
   "source": [
    "model_type = \"logreg\"\n",
    "estimator = we.get_estimator(model_type, features, sampling='skip')\n",
    "param_grid = we.get_param_grid(model_type)\n",
    "gs = we.get_search(estimator, param_grid)"
   ]
  },
  {
   "cell_type": "code",
   "execution_count": 16,
   "id": "8c0f9e4c-0f31-4637-b53c-8d8764169bf2",
   "metadata": {},
   "outputs": [],
   "source": [
    "estimator.set_params(verbose=True);"
   ]
  },
  {
   "cell_type": "code",
   "execution_count": 17,
   "id": "d862986f-c800-4eec-bb42-4d9745b485c3",
   "metadata": {},
   "outputs": [
    {
     "data": {
      "text/plain": [
       "GridSearchCV(cv=3,\n",
       "             estimator=Pipeline(steps=[('preprocess',\n",
       "                                        ColumnTransformer(transformers=[('bin',\n",
       "                                                                         Pipeline(steps=[('imputer',\n",
       "                                                                                          SimpleImputer(strategy='most_frequent'))]),\n",
       "                                                                         ['Rainfall_YesNo',\n",
       "                                                                          'Cloud_YesNo',\n",
       "                                                                          'RainToday']),\n",
       "                                                                        ('num',\n",
       "                                                                         Pipeline(steps=[('imputer',\n",
       "                                                                                          SimpleImputer(strategy='median')),\n",
       "                                                                                         ('outlier',\n",
       "                                                                                          OutliersTrim(strategy='border')),\n",
       "                                                                                         ('scaler',\n",
       "                                                                                          StandardScaler(...\n",
       "                                                                          'WindGustSpeed',\n",
       "                                                                          'WindSpeed3pm',\n",
       "                                                                          'Humidity9am',\n",
       "                                                                          'Humidity3pm',\n",
       "                                                                          'Pressure3pm',\n",
       "                                                                          'Pressure_Diff']),\n",
       "                                                                        ('cat',\n",
       "                                                                         Pipeline(steps=[('imputer',\n",
       "                                                                                          SimpleImputer(strategy='most_frequent')),\n",
       "                                                                                         ('encoder',\n",
       "                                                                                          OneHotEncoder())]),\n",
       "                                                                         ['Month',\n",
       "                                                                          'Sunshine_Types',\n",
       "                                                                          'WindDir3pm'])])),\n",
       "                                       ('logreg',\n",
       "                                        LogisticRegression(max_iter=10000))],\n",
       "                                verbose=True),\n",
       "             param_grid={'logreg__C': [0.1, 1, 10, 100, 1000]}, scoring='f1')"
      ]
     },
     "execution_count": 17,
     "metadata": {},
     "output_type": "execute_result"
    }
   ],
   "source": [
    "gs"
   ]
  },
  {
   "cell_type": "code",
   "execution_count": 18,
   "id": "07fc7815-0206-4739-a2d0-45aa127b49c9",
   "metadata": {},
   "outputs": [
    {
     "name": "stdout",
     "output_type": "stream",
     "text": [
      "[Pipeline] ........ (step 1 of 2) Processing preprocess, total=   0.2s\n",
      "[Pipeline] ............ (step 2 of 2) Processing logreg, total=   0.7s\n",
      "[Pipeline] ........ (step 1 of 2) Processing preprocess, total=   0.1s\n",
      "[Pipeline] ............ (step 2 of 2) Processing logreg, total=   0.4s\n",
      "[Pipeline] ........ (step 1 of 2) Processing preprocess, total=   0.1s\n",
      "[Pipeline] ............ (step 2 of 2) Processing logreg, total=   0.4s\n",
      "[Pipeline] ........ (step 1 of 2) Processing preprocess, total=   0.1s\n",
      "[Pipeline] ............ (step 2 of 2) Processing logreg, total=   0.7s\n",
      "[Pipeline] ........ (step 1 of 2) Processing preprocess, total=   0.2s\n",
      "[Pipeline] ............ (step 2 of 2) Processing logreg, total=   0.7s\n",
      "[Pipeline] ........ (step 1 of 2) Processing preprocess, total=   0.2s\n",
      "[Pipeline] ............ (step 2 of 2) Processing logreg, total=   0.7s\n",
      "[Pipeline] ........ (step 1 of 2) Processing preprocess, total=   0.1s\n",
      "[Pipeline] ............ (step 2 of 2) Processing logreg, total=   0.4s\n",
      "[Pipeline] ........ (step 1 of 2) Processing preprocess, total=   0.1s\n",
      "[Pipeline] ............ (step 2 of 2) Processing logreg, total=   0.3s\n",
      "[Pipeline] ........ (step 1 of 2) Processing preprocess, total=   0.1s\n",
      "[Pipeline] ............ (step 2 of 2) Processing logreg, total=   0.3s\n",
      "[Pipeline] ........ (step 1 of 2) Processing preprocess, total=   0.1s\n",
      "[Pipeline] ............ (step 2 of 2) Processing logreg, total=   0.4s\n",
      "[Pipeline] ........ (step 1 of 2) Processing preprocess, total=   0.2s\n",
      "[Pipeline] ............ (step 2 of 2) Processing logreg, total=   0.3s\n",
      "[Pipeline] ........ (step 1 of 2) Processing preprocess, total=   0.1s\n",
      "[Pipeline] ............ (step 2 of 2) Processing logreg, total=   0.3s\n",
      "[Pipeline] ........ (step 1 of 2) Processing preprocess, total=   0.1s\n",
      "[Pipeline] ............ (step 2 of 2) Processing logreg, total=   0.4s\n",
      "[Pipeline] ........ (step 1 of 2) Processing preprocess, total=   0.1s\n",
      "[Pipeline] ............ (step 2 of 2) Processing logreg, total=   0.3s\n",
      "[Pipeline] ........ (step 1 of 2) Processing preprocess, total=   0.2s\n",
      "[Pipeline] ............ (step 2 of 2) Processing logreg, total=   0.4s\n",
      "[Pipeline] ........ (step 1 of 2) Processing preprocess, total=   0.2s\n",
      "[Pipeline] ............ (step 2 of 2) Processing logreg, total=   0.5s\n",
      "\n",
      "{'logreg__C': 100}\n",
      "0.5772131911267163\n",
      "\n",
      "CPU times: user 16.2 s, sys: 617 ms, total: 16.8 s\n",
      "Wall time: 10.5 s\n"
     ]
    }
   ],
   "source": [
    "%%time\n",
    "gs.fit(X_train, y_train)\n",
    "print()\n",
    "print(gs.best_params_)\n",
    "print(gs.best_score_)\n",
    "print()"
   ]
  },
  {
   "cell_type": "code",
   "execution_count": 19,
   "id": "99aad905-2e59-4305-be25-5a51fbb2f78a",
   "metadata": {
    "tags": []
   },
   "outputs": [
    {
     "name": "stdout",
     "output_type": "stream",
     "text": [
      "CPU times: user 218 ms, sys: 7.88 ms, total: 226 ms\n",
      "Wall time: 211 ms\n"
     ]
    },
    {
     "data": {
      "text/plain": [
       "0.5837111145849617"
      ]
     },
     "execution_count": 19,
     "metadata": {},
     "output_type": "execute_result"
    }
   ],
   "source": [
    "%%time\n",
    "gs.score(X_train, y_train)"
   ]
  },
  {
   "cell_type": "code",
   "execution_count": 20,
   "id": "bede6728-0c24-4479-9097-e2a8130b1a34",
   "metadata": {},
   "outputs": [
    {
     "name": "stdout",
     "output_type": "stream",
     "text": [
      "CPU times: user 427 ms, sys: 100 ms, total: 527 ms\n",
      "Wall time: 542 ms\n"
     ]
    },
    {
     "data": {
      "text/plain": [
       "0.5576208178438662"
      ]
     },
     "execution_count": 20,
     "metadata": {},
     "output_type": "execute_result"
    }
   ],
   "source": [
    "%%time\n",
    "gs.score(X_test, y_test)"
   ]
  },
  {
   "cell_type": "code",
   "execution_count": 21,
   "id": "b760093d-3c85-4fcd-8c35-04fc3c6d0a2a",
   "metadata": {},
   "outputs": [
    {
     "name": "stdout",
     "output_type": "stream",
     "text": [
      "CPU times: user 326 ms, sys: 40.7 ms, total: 367 ms\n",
      "Wall time: 402 ms\n"
     ]
    }
   ],
   "source": [
    "%%time\n",
    "predict_sampling_none = gs.predict(X_test);"
   ]
  },
  {
   "cell_type": "code",
   "execution_count": 22,
   "id": "75cb0807-e977-4a84-aacd-6ad83a13ee9e",
   "metadata": {},
   "outputs": [
    {
     "name": "stdout",
     "output_type": "stream",
     "text": [
      "\n",
      "Confusion matrix:\n",
      "[[65762  2733]\n",
      " [10238  8175]]\n",
      "\n",
      "              precision    recall  f1-score   support\n",
      "\n",
      "         0.0      0.865     0.960     0.910     68495\n",
      "         1.0      0.749     0.444     0.558     18413\n",
      "\n",
      "    accuracy                          0.851     86908\n",
      "   macro avg      0.807     0.702     0.734     86908\n",
      "weighted avg      0.841     0.851     0.836     86908\n",
      "\n"
     ]
    }
   ],
   "source": [
    "we.print_stats(y_test, predict_sampling_none)  # sampling=None"
   ]
  },
  {
   "cell_type": "markdown",
   "id": "73f64c75-6129-467c-a0be-2c9a6cc39259",
   "metadata": {},
   "source": [
    "### 3.2. Sampling 'random_under'"
   ]
  },
  {
   "cell_type": "code",
   "execution_count": 23,
   "id": "ed671c72-d666-4dff-a799-8eaea727fbe3",
   "metadata": {},
   "outputs": [],
   "source": [
    "model_type = \"logreg\"\n",
    "estimator = we.get_estimator(model_type, features, sampling='random_under')\n",
    "param_grid = we.get_param_grid(model_type)\n",
    "gs = we.get_search(estimator, param_grid)"
   ]
  },
  {
   "cell_type": "code",
   "execution_count": 24,
   "id": "5140a861-2c3a-4ec4-b75d-a9b362b6f55b",
   "metadata": {},
   "outputs": [
    {
     "data": {
      "text/plain": [
       "Pipeline(steps=[('preprocess',\n",
       "                 ColumnTransformer(transformers=[('bin',\n",
       "                                                  Pipeline(steps=[('imputer',\n",
       "                                                                   SimpleImputer(strategy='most_frequent'))]),\n",
       "                                                  ['Rainfall_YesNo',\n",
       "                                                   'Cloud_YesNo',\n",
       "                                                   'RainToday']),\n",
       "                                                 ('num',\n",
       "                                                  Pipeline(steps=[('imputer',\n",
       "                                                                   SimpleImputer(strategy='median')),\n",
       "                                                                  ('outlier',\n",
       "                                                                   OutliersTrim(strategy='border')),\n",
       "                                                                  ('scaler',\n",
       "                                                                   StandardScaler())]),\n",
       "                                                  ['MinTemp', 'MaxMin_Temp...\n",
       "                                                   'Sunshine_Clean',\n",
       "                                                   'WindGustSpeed',\n",
       "                                                   'WindSpeed3pm',\n",
       "                                                   'Humidity9am', 'Humidity3pm',\n",
       "                                                   'Pressure3pm',\n",
       "                                                   'Pressure_Diff']),\n",
       "                                                 ('cat',\n",
       "                                                  Pipeline(steps=[('imputer',\n",
       "                                                                   SimpleImputer(strategy='most_frequent')),\n",
       "                                                                  ('encoder',\n",
       "                                                                   OneHotEncoder())]),\n",
       "                                                  ['Month', 'Sunshine_Types',\n",
       "                                                   'WindDir3pm'])])),\n",
       "                ('sampler', RandomUnderSampler(random_state=42)),\n",
       "                ('logreg', LogisticRegression(max_iter=10000))],\n",
       "         verbose=True)"
      ]
     },
     "execution_count": 24,
     "metadata": {},
     "output_type": "execute_result"
    }
   ],
   "source": [
    "estimator.set_params(verbose=True)"
   ]
  },
  {
   "cell_type": "code",
   "execution_count": 25,
   "id": "c60465c1-3f5e-4b98-bd4b-cbe5d56c6be8",
   "metadata": {},
   "outputs": [
    {
     "name": "stdout",
     "output_type": "stream",
     "text": [
      "[Pipeline] ........ (step 1 of 3) Processing preprocess, total=   0.2s\n",
      "[Pipeline] ........... (step 2 of 3) Processing sampler, total=   0.0s\n",
      "[Pipeline] ............ (step 3 of 3) Processing logreg, total=   0.3s\n",
      "[Pipeline] ........ (step 1 of 3) Processing preprocess, total=   0.1s\n",
      "[Pipeline] ........... (step 2 of 3) Processing sampler, total=   0.0s\n",
      "[Pipeline] ............ (step 3 of 3) Processing logreg, total=   0.2s\n",
      "[Pipeline] ........ (step 1 of 3) Processing preprocess, total=   0.2s\n",
      "[Pipeline] ........... (step 2 of 3) Processing sampler, total=   0.0s\n",
      "[Pipeline] ............ (step 3 of 3) Processing logreg, total=   0.3s\n",
      "[Pipeline] ........ (step 1 of 3) Processing preprocess, total=   0.1s\n",
      "[Pipeline] ........... (step 2 of 3) Processing sampler, total=   0.0s\n",
      "[Pipeline] ............ (step 3 of 3) Processing logreg, total=   0.3s\n",
      "[Pipeline] ........ (step 1 of 3) Processing preprocess, total=   0.1s\n",
      "[Pipeline] ........... (step 2 of 3) Processing sampler, total=   0.0s\n",
      "[Pipeline] ............ (step 3 of 3) Processing logreg, total=   0.3s\n",
      "[Pipeline] ........ (step 1 of 3) Processing preprocess, total=   0.1s\n",
      "[Pipeline] ........... (step 2 of 3) Processing sampler, total=   0.0s\n",
      "[Pipeline] ............ (step 3 of 3) Processing logreg, total=   0.3s\n",
      "[Pipeline] ........ (step 1 of 3) Processing preprocess, total=   0.1s\n",
      "[Pipeline] ........... (step 2 of 3) Processing sampler, total=   0.0s\n",
      "[Pipeline] ............ (step 3 of 3) Processing logreg, total=   0.2s\n",
      "[Pipeline] ........ (step 1 of 3) Processing preprocess, total=   0.1s\n",
      "[Pipeline] ........... (step 2 of 3) Processing sampler, total=   0.0s\n",
      "[Pipeline] ............ (step 3 of 3) Processing logreg, total=   0.2s\n",
      "[Pipeline] ........ (step 1 of 3) Processing preprocess, total=   0.1s\n",
      "[Pipeline] ........... (step 2 of 3) Processing sampler, total=   0.0s\n",
      "[Pipeline] ............ (step 3 of 3) Processing logreg, total=   0.2s\n",
      "[Pipeline] ........ (step 1 of 3) Processing preprocess, total=   0.1s\n",
      "[Pipeline] ........... (step 2 of 3) Processing sampler, total=   0.0s\n",
      "[Pipeline] ............ (step 3 of 3) Processing logreg, total=   0.2s\n",
      "[Pipeline] ........ (step 1 of 3) Processing preprocess, total=   0.1s\n",
      "[Pipeline] ........... (step 2 of 3) Processing sampler, total=   0.0s\n",
      "[Pipeline] ............ (step 3 of 3) Processing logreg, total=   0.2s\n",
      "[Pipeline] ........ (step 1 of 3) Processing preprocess, total=   0.1s\n",
      "[Pipeline] ........... (step 2 of 3) Processing sampler, total=   0.0s\n",
      "[Pipeline] ............ (step 3 of 3) Processing logreg, total=   0.2s\n",
      "[Pipeline] ........ (step 1 of 3) Processing preprocess, total=   0.1s\n",
      "[Pipeline] ........... (step 2 of 3) Processing sampler, total=   0.0s\n",
      "[Pipeline] ............ (step 3 of 3) Processing logreg, total=   0.2s\n",
      "[Pipeline] ........ (step 1 of 3) Processing preprocess, total=   0.1s\n",
      "[Pipeline] ........... (step 2 of 3) Processing sampler, total=   0.0s\n",
      "[Pipeline] ............ (step 3 of 3) Processing logreg, total=   0.2s\n",
      "[Pipeline] ........ (step 1 of 3) Processing preprocess, total=   0.1s\n",
      "[Pipeline] ........... (step 2 of 3) Processing sampler, total=   0.0s\n",
      "[Pipeline] ............ (step 3 of 3) Processing logreg, total=   0.2s\n",
      "[Pipeline] ........ (step 1 of 3) Processing preprocess, total=   0.2s\n",
      "[Pipeline] ........... (step 2 of 3) Processing sampler, total=   0.0s\n",
      "[Pipeline] ............ (step 3 of 3) Processing logreg, total=   0.5s\n",
      "\n",
      "{'logreg__C': 0.1}\n",
      "0.6102652375892398\n",
      "\n",
      "CPU times: user 12 s, sys: 297 ms, total: 12.3 s\n",
      "Wall time: 7.27 s\n"
     ]
    }
   ],
   "source": [
    "%%time\n",
    "gs.fit(X_train, y_train)\n",
    "print()\n",
    "print(gs.best_params_)\n",
    "print(gs.best_score_)\n",
    "print()"
   ]
  },
  {
   "cell_type": "code",
   "execution_count": 26,
   "id": "9f1156c7-55a3-4e61-869c-6bd2bc270276",
   "metadata": {
    "tags": []
   },
   "outputs": [
    {
     "name": "stdout",
     "output_type": "stream",
     "text": [
      "CPU times: user 216 ms, sys: 3.59 ms, total: 220 ms\n",
      "Wall time: 222 ms\n"
     ]
    },
    {
     "data": {
      "text/plain": [
       "0.6173430529866174"
      ]
     },
     "execution_count": 26,
     "metadata": {},
     "output_type": "execute_result"
    }
   ],
   "source": [
    "%%time\n",
    "gs.score(X_train, y_train)"
   ]
  },
  {
   "cell_type": "code",
   "execution_count": 27,
   "id": "1e58c5cf-156b-4fac-b166-0fae2bd0693f",
   "metadata": {},
   "outputs": [
    {
     "name": "stdout",
     "output_type": "stream",
     "text": [
      "CPU times: user 526 ms, sys: 0 ns, total: 526 ms\n",
      "Wall time: 534 ms\n"
     ]
    },
    {
     "data": {
      "text/plain": [
       "0.6223329468932686"
      ]
     },
     "execution_count": 27,
     "metadata": {},
     "output_type": "execute_result"
    }
   ],
   "source": [
    "%%time\n",
    "gs.score(X_test, y_test)"
   ]
  },
  {
   "cell_type": "code",
   "execution_count": 28,
   "id": "6cad280a-b950-4275-ae68-de54f28b7fbf",
   "metadata": {},
   "outputs": [
    {
     "name": "stdout",
     "output_type": "stream",
     "text": [
      "CPU times: user 319 ms, sys: 3.72 ms, total: 322 ms\n",
      "Wall time: 373 ms\n"
     ]
    }
   ],
   "source": [
    "%%time\n",
    "predict_sampling_u_over = gs.predict(X_test);"
   ]
  },
  {
   "cell_type": "code",
   "execution_count": 29,
   "id": "c9520e77-3adf-4f4d-b7ea-dc5d2b1c6177",
   "metadata": {},
   "outputs": [
    {
     "name": "stdout",
     "output_type": "stream",
     "text": [
      "\n",
      "Confusion matrix:\n",
      "[[58982  9513]\n",
      " [ 5798 12615]]\n",
      "\n",
      "              precision    recall  f1-score   support\n",
      "\n",
      "         0.0      0.910     0.861     0.885     68495\n",
      "         1.0      0.570     0.685     0.622     18413\n",
      "\n",
      "    accuracy                          0.824     86908\n",
      "   macro avg      0.740     0.773     0.754     86908\n",
      "weighted avg      0.838     0.824     0.829     86908\n",
      "\n"
     ]
    }
   ],
   "source": [
    "we.print_stats(y_test, predict_sampling_u_over)  # RandomUnderSampler(random_state=42)"
   ]
  },
  {
   "cell_type": "markdown",
   "id": "5a4d5297-b5d3-41d0-83a3-1c192d4644d5",
   "metadata": {},
   "source": [
    "### 3.3. Sampling 'random_over'"
   ]
  },
  {
   "cell_type": "code",
   "execution_count": 30,
   "id": "bfb2759d-925b-4d54-a1f6-b3e7a3e37222",
   "metadata": {},
   "outputs": [],
   "source": [
    "model_type = \"logreg\"\n",
    "estimator = we.get_estimator(model_type, features, sampling='random_over')\n",
    "param_grid = we.get_param_grid(model_type)\n",
    "gs = we.get_search(estimator, param_grid)"
   ]
  },
  {
   "cell_type": "code",
   "execution_count": 31,
   "id": "feded741-261a-47d4-9e00-d8aec4065ae4",
   "metadata": {},
   "outputs": [
    {
     "data": {
      "text/plain": [
       "Pipeline(steps=[('preprocess',\n",
       "                 ColumnTransformer(transformers=[('bin',\n",
       "                                                  Pipeline(steps=[('imputer',\n",
       "                                                                   SimpleImputer(strategy='most_frequent'))]),\n",
       "                                                  ['Rainfall_YesNo',\n",
       "                                                   'Cloud_YesNo',\n",
       "                                                   'RainToday']),\n",
       "                                                 ('num',\n",
       "                                                  Pipeline(steps=[('imputer',\n",
       "                                                                   SimpleImputer(strategy='median')),\n",
       "                                                                  ('outlier',\n",
       "                                                                   OutliersTrim(strategy='border')),\n",
       "                                                                  ('scaler',\n",
       "                                                                   StandardScaler())]),\n",
       "                                                  ['MinTemp', 'MaxMin_Temp...\n",
       "                                                   'Sunshine_Clean',\n",
       "                                                   'WindGustSpeed',\n",
       "                                                   'WindSpeed3pm',\n",
       "                                                   'Humidity9am', 'Humidity3pm',\n",
       "                                                   'Pressure3pm',\n",
       "                                                   'Pressure_Diff']),\n",
       "                                                 ('cat',\n",
       "                                                  Pipeline(steps=[('imputer',\n",
       "                                                                   SimpleImputer(strategy='most_frequent')),\n",
       "                                                                  ('encoder',\n",
       "                                                                   OneHotEncoder())]),\n",
       "                                                  ['Month', 'Sunshine_Types',\n",
       "                                                   'WindDir3pm'])])),\n",
       "                ('sampler', RandomOverSampler(random_state=42)),\n",
       "                ('logreg', LogisticRegression(max_iter=10000))],\n",
       "         verbose=True)"
      ]
     },
     "execution_count": 31,
     "metadata": {},
     "output_type": "execute_result"
    }
   ],
   "source": [
    "estimator.set_params(verbose=True)"
   ]
  },
  {
   "cell_type": "code",
   "execution_count": 32,
   "id": "4b12cfbd-743f-42ad-b838-40eebdd1ca44",
   "metadata": {},
   "outputs": [
    {
     "name": "stdout",
     "output_type": "stream",
     "text": [
      "[Pipeline] ........ (step 1 of 3) Processing preprocess, total=   0.1s\n",
      "[Pipeline] ........... (step 2 of 3) Processing sampler, total=   0.0s\n",
      "[Pipeline] ............ (step 3 of 3) Processing logreg, total=   0.7s\n",
      "[Pipeline] ........ (step 1 of 3) Processing preprocess, total=   0.1s\n",
      "[Pipeline] ........... (step 2 of 3) Processing sampler, total=   0.0s\n",
      "[Pipeline] ............ (step 3 of 3) Processing logreg, total=   0.6s\n",
      "[Pipeline] ........ (step 1 of 3) Processing preprocess, total=   0.1s\n",
      "[Pipeline] ........... (step 2 of 3) Processing sampler, total=   0.0s\n",
      "[Pipeline] ............ (step 3 of 3) Processing logreg, total=   0.7s\n",
      "[Pipeline] ........ (step 1 of 3) Processing preprocess, total=   0.1s\n",
      "[Pipeline] ........... (step 2 of 3) Processing sampler, total=   0.0s\n",
      "[Pipeline] ............ (step 3 of 3) Processing logreg, total=   0.7s\n",
      "[Pipeline] ........ (step 1 of 3) Processing preprocess, total=   0.1s\n",
      "[Pipeline] ........... (step 2 of 3) Processing sampler, total=   0.0s\n",
      "[Pipeline] ............ (step 3 of 3) Processing logreg, total=   0.7s\n",
      "[Pipeline] ........ (step 1 of 3) Processing preprocess, total=   0.1s\n",
      "[Pipeline] ........... (step 2 of 3) Processing sampler, total=   0.0s\n",
      "[Pipeline] ............ (step 3 of 3) Processing logreg, total=   0.7s\n",
      "[Pipeline] ........ (step 1 of 3) Processing preprocess, total=   0.1s\n",
      "[Pipeline] ........... (step 2 of 3) Processing sampler, total=   0.0s\n",
      "[Pipeline] ............ (step 3 of 3) Processing logreg, total=   0.4s\n",
      "[Pipeline] ........ (step 1 of 3) Processing preprocess, total=   0.1s\n",
      "[Pipeline] ........... (step 2 of 3) Processing sampler, total=   0.0s\n",
      "[Pipeline] ............ (step 3 of 3) Processing logreg, total=   0.4s\n",
      "[Pipeline] ........ (step 1 of 3) Processing preprocess, total=   0.1s\n",
      "[Pipeline] ........... (step 2 of 3) Processing sampler, total=   0.0s\n",
      "[Pipeline] ............ (step 3 of 3) Processing logreg, total=   0.5s\n",
      "[Pipeline] ........ (step 1 of 3) Processing preprocess, total=   0.1s\n",
      "[Pipeline] ........... (step 2 of 3) Processing sampler, total=   0.0s\n",
      "[Pipeline] ............ (step 3 of 3) Processing logreg, total=   0.4s\n",
      "[Pipeline] ........ (step 1 of 3) Processing preprocess, total=   0.1s\n",
      "[Pipeline] ........... (step 2 of 3) Processing sampler, total=   0.0s\n",
      "[Pipeline] ............ (step 3 of 3) Processing logreg, total=   0.4s\n",
      "[Pipeline] ........ (step 1 of 3) Processing preprocess, total=   0.1s\n",
      "[Pipeline] ........... (step 2 of 3) Processing sampler, total=   0.0s\n",
      "[Pipeline] ............ (step 3 of 3) Processing logreg, total=   0.5s\n",
      "[Pipeline] ........ (step 1 of 3) Processing preprocess, total=   0.1s\n",
      "[Pipeline] ........... (step 2 of 3) Processing sampler, total=   0.0s\n",
      "[Pipeline] ............ (step 3 of 3) Processing logreg, total=   0.5s\n",
      "[Pipeline] ........ (step 1 of 3) Processing preprocess, total=   0.1s\n",
      "[Pipeline] ........... (step 2 of 3) Processing sampler, total=   0.0s\n",
      "[Pipeline] ............ (step 3 of 3) Processing logreg, total=   0.4s\n",
      "[Pipeline] ........ (step 1 of 3) Processing preprocess, total=   0.1s\n",
      "[Pipeline] ........... (step 2 of 3) Processing sampler, total=   0.0s\n",
      "[Pipeline] ............ (step 3 of 3) Processing logreg, total=   0.5s\n",
      "[Pipeline] ........ (step 1 of 3) Processing preprocess, total=   0.2s\n",
      "[Pipeline] ........... (step 2 of 3) Processing sampler, total=   0.0s\n",
      "[Pipeline] ............ (step 3 of 3) Processing logreg, total=   1.3s\n",
      "\n",
      "{'logreg__C': 0.1}\n",
      "0.6053609982328793\n",
      "\n",
      "CPU times: user 22.1 s, sys: 514 ms, total: 22.6 s\n",
      "Wall time: 12.6 s\n"
     ]
    }
   ],
   "source": [
    "%%time\n",
    "gs.fit(X_train, y_train)\n",
    "print()\n",
    "print(gs.best_params_)\n",
    "print(gs.best_score_)\n",
    "print()"
   ]
  },
  {
   "cell_type": "code",
   "execution_count": 33,
   "id": "4aa982f5-1679-47cd-9940-8a79898282ee",
   "metadata": {
    "tags": []
   },
   "outputs": [
    {
     "name": "stdout",
     "output_type": "stream",
     "text": [
      "CPU times: user 235 ms, sys: 0 ns, total: 235 ms\n",
      "Wall time: 250 ms\n"
     ]
    },
    {
     "data": {
      "text/plain": [
       "0.6167967461800594"
      ]
     },
     "execution_count": 33,
     "metadata": {},
     "output_type": "execute_result"
    }
   ],
   "source": [
    "%%time\n",
    "gs.score(X_train, y_train)"
   ]
  },
  {
   "cell_type": "code",
   "execution_count": 34,
   "id": "72ac5530-a593-4f6a-ab24-65ca31f92554",
   "metadata": {},
   "outputs": [
    {
     "name": "stdout",
     "output_type": "stream",
     "text": [
      "CPU times: user 448 ms, sys: 60.5 ms, total: 508 ms\n",
      "Wall time: 580 ms\n"
     ]
    },
    {
     "data": {
      "text/plain": [
       "0.6223875046485683"
      ]
     },
     "execution_count": 34,
     "metadata": {},
     "output_type": "execute_result"
    }
   ],
   "source": [
    "%%time\n",
    "gs.score(X_test, y_test)"
   ]
  },
  {
   "cell_type": "code",
   "execution_count": 35,
   "id": "234a4b38-afd8-4e0d-a383-c744eb2e407a",
   "metadata": {},
   "outputs": [
    {
     "name": "stdout",
     "output_type": "stream",
     "text": [
      "CPU times: user 336 ms, sys: 3.53 ms, total: 340 ms\n",
      "Wall time: 393 ms\n"
     ]
    }
   ],
   "source": [
    "%%time\n",
    "predict_sampling_r_over = gs.predict(X_test);"
   ]
  },
  {
   "cell_type": "code",
   "execution_count": 36,
   "id": "7ee74487-1a16-4fcc-8c44-ae95f7935b96",
   "metadata": {},
   "outputs": [
    {
     "name": "stdout",
     "output_type": "stream",
     "text": [
      "\n",
      "Confusion matrix:\n",
      "[[59125  9370]\n",
      " [ 5861 12552]]\n",
      "\n",
      "              precision    recall  f1-score   support\n",
      "\n",
      "         0.0      0.910     0.863     0.886     68495\n",
      "         1.0      0.573     0.682     0.622     18413\n",
      "\n",
      "    accuracy                          0.825     86908\n",
      "   macro avg      0.741     0.772     0.754     86908\n",
      "weighted avg      0.838     0.825     0.830     86908\n",
      "\n"
     ]
    }
   ],
   "source": [
    "we.print_stats(y_test, predict_sampling_r_over)  # RandomOverSampler(random_state=42)"
   ]
  },
  {
   "cell_type": "markdown",
   "id": "804b2289-47e4-4ef2-9e07-752a49eea59d",
   "metadata": {},
   "source": [
    "### 3.4. Sampling 'smote'"
   ]
  },
  {
   "cell_type": "code",
   "execution_count": 37,
   "id": "0ee431bd-e0d0-4687-8b57-499a2a15ec75",
   "metadata": {},
   "outputs": [],
   "source": [
    "model_type = \"logreg\"\n",
    "estimator = we.get_estimator(model_type, features, sampling='smote')\n",
    "param_grid = we.get_param_grid(model_type)\n",
    "gs = we.get_search(estimator, param_grid)"
   ]
  },
  {
   "cell_type": "code",
   "execution_count": 38,
   "id": "0d48a31b-232b-4a38-8487-50f0764bef69",
   "metadata": {},
   "outputs": [
    {
     "data": {
      "text/plain": [
       "Pipeline(steps=[('preprocess',\n",
       "                 ColumnTransformer(transformers=[('bin',\n",
       "                                                  Pipeline(steps=[('imputer',\n",
       "                                                                   SimpleImputer(strategy='most_frequent'))]),\n",
       "                                                  ['Rainfall_YesNo',\n",
       "                                                   'Cloud_YesNo',\n",
       "                                                   'RainToday']),\n",
       "                                                 ('num',\n",
       "                                                  Pipeline(steps=[('imputer',\n",
       "                                                                   SimpleImputer(strategy='median')),\n",
       "                                                                  ('outlier',\n",
       "                                                                   OutliersTrim(strategy='border')),\n",
       "                                                                  ('scaler',\n",
       "                                                                   StandardScaler())]),\n",
       "                                                  ['MinTemp', 'MaxMin_Temp',\n",
       "                                                   'Temp3pm', 'AmPm_Temp',\n",
       "                                                   'Sunshine_Clean',\n",
       "                                                   'WindGustSpeed',\n",
       "                                                   'WindSpeed3pm',\n",
       "                                                   'Humidity9am', 'Humidity3pm',\n",
       "                                                   'Pressure3pm',\n",
       "                                                   'Pressure_Diff']),\n",
       "                                                 ('cat',\n",
       "                                                  Pipeline(steps=[('imputer',\n",
       "                                                                   SimpleImputer(strategy='most_frequent')),\n",
       "                                                                  ('encoder',\n",
       "                                                                   OneHotEncoder())]),\n",
       "                                                  ['Month', 'Sunshine_Types',\n",
       "                                                   'WindDir3pm'])])),\n",
       "                ('sampler', SMOTE()),\n",
       "                ('logreg', LogisticRegression(max_iter=10000))],\n",
       "         verbose=True)"
      ]
     },
     "execution_count": 38,
     "metadata": {},
     "output_type": "execute_result"
    }
   ],
   "source": [
    "estimator.set_params(verbose=True)"
   ]
  },
  {
   "cell_type": "code",
   "execution_count": 39,
   "id": "0a7da117-fd39-4130-ae63-ef23d79f0a0e",
   "metadata": {},
   "outputs": [
    {
     "name": "stdout",
     "output_type": "stream",
     "text": [
      "[Pipeline] ........ (step 1 of 3) Processing preprocess, total=   0.2s\n",
      "[Pipeline] ........... (step 2 of 3) Processing sampler, total=   1.8s\n",
      "[Pipeline] ............ (step 3 of 3) Processing logreg, total=   0.7s\n",
      "[Pipeline] ........ (step 1 of 3) Processing preprocess, total=   0.1s\n",
      "[Pipeline] ........... (step 2 of 3) Processing sampler, total=   1.5s\n",
      "[Pipeline] ............ (step 3 of 3) Processing logreg, total=   0.6s\n",
      "[Pipeline] ........ (step 1 of 3) Processing preprocess, total=   0.1s\n",
      "[Pipeline] ........... (step 2 of 3) Processing sampler, total=   1.2s\n",
      "[Pipeline] ............ (step 3 of 3) Processing logreg, total=   0.6s\n",
      "[Pipeline] ........ (step 1 of 3) Processing preprocess, total=   0.1s\n",
      "[Pipeline] ........... (step 2 of 3) Processing sampler, total=   1.1s\n",
      "[Pipeline] ............ (step 3 of 3) Processing logreg, total=   0.7s\n",
      "[Pipeline] ........ (step 1 of 3) Processing preprocess, total=   0.1s\n",
      "[Pipeline] ........... (step 2 of 3) Processing sampler, total=   1.0s\n",
      "[Pipeline] ............ (step 3 of 3) Processing logreg, total=   0.7s\n",
      "[Pipeline] ........ (step 1 of 3) Processing preprocess, total=   0.1s\n",
      "[Pipeline] ........... (step 2 of 3) Processing sampler, total=   1.1s\n",
      "[Pipeline] ............ (step 3 of 3) Processing logreg, total=   0.7s\n",
      "[Pipeline] ........ (step 1 of 3) Processing preprocess, total=   0.1s\n",
      "[Pipeline] ........... (step 2 of 3) Processing sampler, total=   1.0s\n",
      "[Pipeline] ............ (step 3 of 3) Processing logreg, total=   0.8s\n",
      "[Pipeline] ........ (step 1 of 3) Processing preprocess, total=   0.2s\n",
      "[Pipeline] ........... (step 2 of 3) Processing sampler, total=   1.1s\n",
      "[Pipeline] ............ (step 3 of 3) Processing logreg, total=   0.5s\n",
      "[Pipeline] ........ (step 1 of 3) Processing preprocess, total=   0.1s\n",
      "[Pipeline] ........... (step 2 of 3) Processing sampler, total=   1.0s\n",
      "[Pipeline] ............ (step 3 of 3) Processing logreg, total=   0.4s\n",
      "[Pipeline] ........ (step 1 of 3) Processing preprocess, total=   0.1s\n",
      "[Pipeline] ........... (step 2 of 3) Processing sampler, total=   1.0s\n",
      "[Pipeline] ............ (step 3 of 3) Processing logreg, total=   0.5s\n",
      "[Pipeline] ........ (step 1 of 3) Processing preprocess, total=   0.1s\n",
      "[Pipeline] ........... (step 2 of 3) Processing sampler, total=   1.0s\n",
      "[Pipeline] ............ (step 3 of 3) Processing logreg, total=   0.5s\n",
      "[Pipeline] ........ (step 1 of 3) Processing preprocess, total=   0.2s\n",
      "[Pipeline] ........... (step 2 of 3) Processing sampler, total=   1.1s\n",
      "[Pipeline] ............ (step 3 of 3) Processing logreg, total=   0.5s\n",
      "[Pipeline] ........ (step 1 of 3) Processing preprocess, total=   0.1s\n",
      "[Pipeline] ........... (step 2 of 3) Processing sampler, total=   1.0s\n",
      "[Pipeline] ............ (step 3 of 3) Processing logreg, total=   0.5s\n",
      "[Pipeline] ........ (step 1 of 3) Processing preprocess, total=   0.1s\n",
      "[Pipeline] ........... (step 2 of 3) Processing sampler, total=   1.0s\n",
      "[Pipeline] ............ (step 3 of 3) Processing logreg, total=   0.7s\n",
      "[Pipeline] ........ (step 1 of 3) Processing preprocess, total=   0.2s\n",
      "[Pipeline] ........... (step 2 of 3) Processing sampler, total=   1.1s\n",
      "[Pipeline] ............ (step 3 of 3) Processing logreg, total=   0.5s\n",
      "[Pipeline] ........ (step 1 of 3) Processing preprocess, total=   0.2s\n",
      "[Pipeline] ........... (step 2 of 3) Processing sampler, total=   2.8s\n",
      "[Pipeline] ............ (step 3 of 3) Processing logreg, total=   1.0s\n",
      "\n",
      "{'logreg__C': 0.1}\n",
      "0.606988996588487\n",
      "\n",
      "CPU times: user 40.6 s, sys: 5.06 s, total: 45.6 s\n",
      "Wall time: 33 s\n"
     ]
    }
   ],
   "source": [
    "%%time\n",
    "gs.fit(X_train, y_train)\n",
    "print()\n",
    "print(gs.best_params_)\n",
    "print(gs.best_score_)\n",
    "print()"
   ]
  },
  {
   "cell_type": "code",
   "execution_count": 40,
   "id": "d6a148aa-dd75-4bfd-afc4-01eef837c0c2",
   "metadata": {
    "tags": []
   },
   "outputs": [
    {
     "name": "stdout",
     "output_type": "stream",
     "text": [
      "CPU times: user 186 ms, sys: 1.34 ms, total: 187 ms\n",
      "Wall time: 174 ms\n"
     ]
    },
    {
     "data": {
      "text/plain": [
       "0.6171101825379371"
      ]
     },
     "execution_count": 40,
     "metadata": {},
     "output_type": "execute_result"
    }
   ],
   "source": [
    "%%time\n",
    "gs.score(X_train, y_train)"
   ]
  },
  {
   "cell_type": "code",
   "execution_count": 41,
   "id": "87680342-4f8a-4f13-9b69-ccc5f1fc0d68",
   "metadata": {},
   "outputs": [
    {
     "name": "stdout",
     "output_type": "stream",
     "text": [
      "CPU times: user 454 ms, sys: 39.3 ms, total: 494 ms\n",
      "Wall time: 526 ms\n"
     ]
    },
    {
     "data": {
      "text/plain": [
       "0.6228243720417722"
      ]
     },
     "execution_count": 41,
     "metadata": {},
     "output_type": "execute_result"
    }
   ],
   "source": [
    "%%time\n",
    "gs.score(X_test, y_test)"
   ]
  },
  {
   "cell_type": "code",
   "execution_count": 42,
   "id": "52260ab1-9f1a-48f3-9d8d-3c897499fa0f",
   "metadata": {},
   "outputs": [
    {
     "name": "stdout",
     "output_type": "stream",
     "text": [
      "CPU times: user 345 ms, sys: 2.84 ms, total: 348 ms\n",
      "Wall time: 346 ms\n"
     ]
    }
   ],
   "source": [
    "%%time\n",
    "predict_sampling_smote = gs.predict(X_test);"
   ]
  },
  {
   "cell_type": "code",
   "execution_count": 43,
   "id": "fb8513d0-c5b8-4784-a4fe-3235b1bb1638",
   "metadata": {},
   "outputs": [
    {
     "name": "stdout",
     "output_type": "stream",
     "text": [
      "\n",
      "Confusion matrix:\n",
      "[[59412  9083]\n",
      " [ 5978 12435]]\n",
      "\n",
      "              precision    recall  f1-score   support\n",
      "\n",
      "         0.0      0.909     0.867     0.888     68495\n",
      "         1.0      0.578     0.675     0.623     18413\n",
      "\n",
      "    accuracy                          0.827     86908\n",
      "   macro avg      0.743     0.771     0.755     86908\n",
      "weighted avg      0.839     0.827     0.831     86908\n",
      "\n"
     ]
    }
   ],
   "source": [
    "we.print_stats(y_test, predict_sampling_smote)  # SMOTE"
   ]
  },
  {
   "cell_type": "markdown",
   "id": "a16dfbaa-3fcb-4d3d-aa6d-a1071fb93358",
   "metadata": {},
   "source": [
    "### 4. Difference in results"
   ]
  },
  {
   "cell_type": "code",
   "execution_count": 44,
   "id": "6b697fa3-a107-4674-a6c5-40de98bc7ec8",
   "metadata": {},
   "outputs": [
    {
     "name": "stdout",
     "output_type": "stream",
     "text": [
      "\n",
      "Confusion matrix:\n",
      "[[59125  9370]\n",
      " [ 5861 12552]]\n",
      "\n",
      "              precision    recall  f1-score   support\n",
      "\n",
      "         0.0      0.910     0.863     0.886     68495\n",
      "         1.0      0.573     0.682     0.622     18413\n",
      "\n",
      "    accuracy                          0.825     86908\n",
      "   macro avg      0.741     0.772     0.754     86908\n",
      "weighted avg      0.838     0.825     0.830     86908\n",
      "\n"
     ]
    }
   ],
   "source": [
    "we.print_stats(y_test, predict_sampling_r_over)  # RandomOverSampler(random_state=42)"
   ]
  },
  {
   "cell_type": "code",
   "execution_count": 45,
   "id": "c055357d-aa6f-4479-832b-15f6aefba5f7",
   "metadata": {},
   "outputs": [
    {
     "name": "stdout",
     "output_type": "stream",
     "text": [
      "\n",
      "Confusion matrix:\n",
      "[[58982  9513]\n",
      " [ 5798 12615]]\n",
      "\n",
      "              precision    recall  f1-score   support\n",
      "\n",
      "         0.0      0.910     0.861     0.885     68495\n",
      "         1.0      0.570     0.685     0.622     18413\n",
      "\n",
      "    accuracy                          0.824     86908\n",
      "   macro avg      0.740     0.773     0.754     86908\n",
      "weighted avg      0.838     0.824     0.829     86908\n",
      "\n"
     ]
    }
   ],
   "source": [
    "we.print_stats(y_test, predict_sampling_u_over)  # RandomUnderSampler(random_state=42)"
   ]
  },
  {
   "cell_type": "code",
   "execution_count": 46,
   "id": "cb406a96-005f-4420-aa47-8fc27c55b851",
   "metadata": {},
   "outputs": [
    {
     "name": "stdout",
     "output_type": "stream",
     "text": [
      "\n",
      "Confusion matrix:\n",
      "[[65762  2733]\n",
      " [10238  8175]]\n",
      "\n",
      "              precision    recall  f1-score   support\n",
      "\n",
      "         0.0      0.865     0.960     0.910     68495\n",
      "         1.0      0.749     0.444     0.558     18413\n",
      "\n",
      "    accuracy                          0.851     86908\n",
      "   macro avg      0.807     0.702     0.734     86908\n",
      "weighted avg      0.841     0.851     0.836     86908\n",
      "\n"
     ]
    }
   ],
   "source": [
    "we.print_stats(y_test, predict_sampling_none)  # sampling='skip'"
   ]
  },
  {
   "cell_type": "code",
   "execution_count": null,
   "id": "7e92ccaa-303e-4e5a-86f0-58e9ded8412e",
   "metadata": {},
   "outputs": [],
   "source": []
  }
 ],
 "metadata": {
  "kernelspec": {
   "display_name": "Python 3",
   "language": "python",
   "name": "python3"
  },
  "language_info": {
   "codemirror_mode": {
    "name": "ipython",
    "version": 3
   },
   "file_extension": ".py",
   "mimetype": "text/x-python",
   "name": "python",
   "nbconvert_exporter": "python",
   "pygments_lexer": "ipython3",
   "version": "3.8.10"
  },
  "toc-autonumbering": false,
  "toc-showcode": false,
  "toc-showmarkdowntxt": false
 },
 "nbformat": 4,
 "nbformat_minor": 5
}
