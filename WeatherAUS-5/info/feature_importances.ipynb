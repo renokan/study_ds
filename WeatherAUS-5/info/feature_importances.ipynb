{
 "cells": [
  {
   "cell_type": "code",
   "execution_count": 1,
   "id": "6dc0f031-20b4-43ea-97d2-e2831599966a",
   "metadata": {},
   "outputs": [
    {
     "name": "stdout",
     "output_type": "stream",
     "text": [
      "/home/anatoly/Private/GitHub/renokan/study_ds/WeatherAUS-5\n"
     ]
    }
   ],
   "source": [
    "%cd .."
   ]
  },
  {
   "cell_type": "markdown",
   "id": "6e5be344-9227-4ca4-b449-5c6f09102f67",
   "metadata": {},
   "source": [
    "## Analysing the importance of the features"
   ]
  },
  {
   "cell_type": "markdown",
   "id": "02cba42f-3957-4f63-8843-b959f7766b06",
   "metadata": {},
   "source": [
    "### 1. Importing the modules and setting parameters"
   ]
  },
  {
   "cell_type": "code",
   "execution_count": 2,
   "id": "66aabb45-6353-4cc0-bdd5-f192de1a47dc",
   "metadata": {},
   "outputs": [],
   "source": [
    "import pandas as pd\n",
    "import matplotlib.pyplot as plt\n",
    "\n",
    "from sklearn import tree\n",
    "from sklearn.utils import shuffle\n",
    "\n",
    "import weather_project as we"
   ]
  },
  {
   "cell_type": "code",
   "execution_count": 3,
   "id": "b9e30d11-cb01-4c9d-8116-8de74da07448",
   "metadata": {},
   "outputs": [
    {
     "name": "stdout",
     "output_type": "stream",
     "text": [
      "actual_data.csv\n",
      "future_data.csv\n",
      "RainTomorrow\n"
     ]
    }
   ],
   "source": [
    "print(we.ACTUAL_DATA)\n",
    "print(we.FUTURE_DATA)\n",
    "print(we.TARGET_NAME)"
   ]
  },
  {
   "cell_type": "code",
   "execution_count": 4,
   "id": "5128a8f9-0560-49c0-866b-804795d8a72e",
   "metadata": {},
   "outputs": [
    {
     "name": "stdout",
     "output_type": "stream",
     "text": [
      "-rw-rw-r-- 1 anatoly 12807959 июл 27 23:56 actual_data.csv\n",
      "-rw-rw-r-- 1 anatoly  2793277 июл 27 23:56 future_data.csv\n",
      "-rw-rw-r-- 1 anatoly    35935 авг  1 01:50 split_dataset.ipynb\n",
      "-rw-rw-r-- 1 anatoly 14094055 дек 11  2020 weatherAUS.csv\n"
     ]
    }
   ],
   "source": [
    "%lf data/"
   ]
  },
  {
   "cell_type": "markdown",
   "id": "2b6670ef-cf2c-40e5-91a9-553817179d86",
   "metadata": {},
   "source": [
    "### 2. Loading raw data, cleaning and splitting it"
   ]
  },
  {
   "cell_type": "code",
   "execution_count": 5,
   "id": "238144b8-219f-4ab0-83c7-da0c5e13a39a",
   "metadata": {},
   "outputs": [],
   "source": [
    "data = we.get_data(we.ACTUAL_DATA)"
   ]
  },
  {
   "cell_type": "code",
   "execution_count": 6,
   "id": "4b89f4a5-ce72-4502-a548-4335691182f1",
   "metadata": {},
   "outputs": [
    {
     "data": {
      "text/html": [
       "<div>\n",
       "<style scoped>\n",
       "    .dataframe tbody tr th:only-of-type {\n",
       "        vertical-align: middle;\n",
       "    }\n",
       "\n",
       "    .dataframe tbody tr th {\n",
       "        vertical-align: top;\n",
       "    }\n",
       "\n",
       "    .dataframe thead th {\n",
       "        text-align: right;\n",
       "    }\n",
       "</style>\n",
       "<table border=\"1\" class=\"dataframe\">\n",
       "  <thead>\n",
       "    <tr style=\"text-align: right;\">\n",
       "      <th></th>\n",
       "      <th>Month</th>\n",
       "      <th>Region</th>\n",
       "      <th>MinTemp</th>\n",
       "      <th>MaxMin_Temp</th>\n",
       "      <th>Temp3pm</th>\n",
       "      <th>AmPm_Temp</th>\n",
       "      <th>Rainfall_YesNo</th>\n",
       "      <th>Sunshine_Clean</th>\n",
       "      <th>Sunshine_Types</th>\n",
       "      <th>WindDir3pm</th>\n",
       "      <th>WindGustSpeed</th>\n",
       "      <th>WindSpeed3pm</th>\n",
       "      <th>Humidity9am</th>\n",
       "      <th>Humidity3pm</th>\n",
       "      <th>Pressure3pm</th>\n",
       "      <th>Pressure_Diff</th>\n",
       "      <th>Cloud_YesNo</th>\n",
       "      <th>RainToday</th>\n",
       "      <th>RainTomorrow</th>\n",
       "    </tr>\n",
       "  </thead>\n",
       "  <tbody>\n",
       "    <tr>\n",
       "      <th>0</th>\n",
       "      <td>December</td>\n",
       "      <td>4</td>\n",
       "      <td>13.4</td>\n",
       "      <td>9.5</td>\n",
       "      <td>21.8</td>\n",
       "      <td>4.9</td>\n",
       "      <td>1.0</td>\n",
       "      <td>10.0</td>\n",
       "      <td>normal</td>\n",
       "      <td>WNW</td>\n",
       "      <td>44.0</td>\n",
       "      <td>24.0</td>\n",
       "      <td>71.0</td>\n",
       "      <td>22.0</td>\n",
       "      <td>1007.1</td>\n",
       "      <td>0.6</td>\n",
       "      <td>1</td>\n",
       "      <td>0.0</td>\n",
       "      <td>0.0</td>\n",
       "    </tr>\n",
       "    <tr>\n",
       "      <th>1</th>\n",
       "      <td>December</td>\n",
       "      <td>4</td>\n",
       "      <td>7.4</td>\n",
       "      <td>17.7</td>\n",
       "      <td>24.3</td>\n",
       "      <td>7.1</td>\n",
       "      <td>0.0</td>\n",
       "      <td>10.0</td>\n",
       "      <td>normal</td>\n",
       "      <td>WSW</td>\n",
       "      <td>44.0</td>\n",
       "      <td>22.0</td>\n",
       "      <td>44.0</td>\n",
       "      <td>25.0</td>\n",
       "      <td>1007.8</td>\n",
       "      <td>2.8</td>\n",
       "      <td>0</td>\n",
       "      <td>0.0</td>\n",
       "      <td>0.0</td>\n",
       "    </tr>\n",
       "    <tr>\n",
       "      <th>2</th>\n",
       "      <td>December</td>\n",
       "      <td>4</td>\n",
       "      <td>12.9</td>\n",
       "      <td>12.8</td>\n",
       "      <td>23.2</td>\n",
       "      <td>2.2</td>\n",
       "      <td>0.0</td>\n",
       "      <td>10.0</td>\n",
       "      <td>normal</td>\n",
       "      <td>WSW</td>\n",
       "      <td>46.0</td>\n",
       "      <td>26.0</td>\n",
       "      <td>38.0</td>\n",
       "      <td>30.0</td>\n",
       "      <td>1008.7</td>\n",
       "      <td>1.1</td>\n",
       "      <td>1</td>\n",
       "      <td>0.0</td>\n",
       "      <td>0.0</td>\n",
       "    </tr>\n",
       "    <tr>\n",
       "      <th>3</th>\n",
       "      <td>December</td>\n",
       "      <td>4</td>\n",
       "      <td>9.2</td>\n",
       "      <td>18.8</td>\n",
       "      <td>26.5</td>\n",
       "      <td>8.4</td>\n",
       "      <td>0.0</td>\n",
       "      <td>10.0</td>\n",
       "      <td>normal</td>\n",
       "      <td>E</td>\n",
       "      <td>24.0</td>\n",
       "      <td>9.0</td>\n",
       "      <td>45.0</td>\n",
       "      <td>16.0</td>\n",
       "      <td>1012.8</td>\n",
       "      <td>4.8</td>\n",
       "      <td>0</td>\n",
       "      <td>0.0</td>\n",
       "      <td>0.0</td>\n",
       "    </tr>\n",
       "    <tr>\n",
       "      <th>4</th>\n",
       "      <td>December</td>\n",
       "      <td>4</td>\n",
       "      <td>17.5</td>\n",
       "      <td>14.8</td>\n",
       "      <td>29.7</td>\n",
       "      <td>11.9</td>\n",
       "      <td>1.0</td>\n",
       "      <td>10.0</td>\n",
       "      <td>normal</td>\n",
       "      <td>NW</td>\n",
       "      <td>41.0</td>\n",
       "      <td>20.0</td>\n",
       "      <td>82.0</td>\n",
       "      <td>33.0</td>\n",
       "      <td>1006.0</td>\n",
       "      <td>4.8</td>\n",
       "      <td>1</td>\n",
       "      <td>0.0</td>\n",
       "      <td>0.0</td>\n",
       "    </tr>\n",
       "    <tr>\n",
       "      <th>...</th>\n",
       "      <td>...</td>\n",
       "      <td>...</td>\n",
       "      <td>...</td>\n",
       "      <td>...</td>\n",
       "      <td>...</td>\n",
       "      <td>...</td>\n",
       "      <td>...</td>\n",
       "      <td>...</td>\n",
       "      <td>...</td>\n",
       "      <td>...</td>\n",
       "      <td>...</td>\n",
       "      <td>...</td>\n",
       "      <td>...</td>\n",
       "      <td>...</td>\n",
       "      <td>...</td>\n",
       "      <td>...</td>\n",
       "      <td>...</td>\n",
       "      <td>...</td>\n",
       "      <td>...</td>\n",
       "    </tr>\n",
       "    <tr>\n",
       "      <th>118898</th>\n",
       "      <td>December</td>\n",
       "      <td>1</td>\n",
       "      <td>20.5</td>\n",
       "      <td>14.2</td>\n",
       "      <td>33.0</td>\n",
       "      <td>8.7</td>\n",
       "      <td>0.0</td>\n",
       "      <td>10.0</td>\n",
       "      <td>normal</td>\n",
       "      <td>E</td>\n",
       "      <td>52.0</td>\n",
       "      <td>20.0</td>\n",
       "      <td>23.0</td>\n",
       "      <td>12.0</td>\n",
       "      <td>1010.1</td>\n",
       "      <td>3.1</td>\n",
       "      <td>0</td>\n",
       "      <td>0.0</td>\n",
       "      <td>0.0</td>\n",
       "    </tr>\n",
       "    <tr>\n",
       "      <th>118899</th>\n",
       "      <td>December</td>\n",
       "      <td>1</td>\n",
       "      <td>18.0</td>\n",
       "      <td>18.4</td>\n",
       "      <td>35.0</td>\n",
       "      <td>8.3</td>\n",
       "      <td>0.0</td>\n",
       "      <td>10.0</td>\n",
       "      <td>normal</td>\n",
       "      <td>ESE</td>\n",
       "      <td>54.0</td>\n",
       "      <td>31.0</td>\n",
       "      <td>17.0</td>\n",
       "      <td>7.0</td>\n",
       "      <td>1010.9</td>\n",
       "      <td>3.8</td>\n",
       "      <td>0</td>\n",
       "      <td>0.0</td>\n",
       "      <td>0.0</td>\n",
       "    </tr>\n",
       "    <tr>\n",
       "      <th>118900</th>\n",
       "      <td>December</td>\n",
       "      <td>1</td>\n",
       "      <td>17.5</td>\n",
       "      <td>19.6</td>\n",
       "      <td>34.7</td>\n",
       "      <td>6.6</td>\n",
       "      <td>0.0</td>\n",
       "      <td>10.0</td>\n",
       "      <td>normal</td>\n",
       "      <td>SE</td>\n",
       "      <td>56.0</td>\n",
       "      <td>22.0</td>\n",
       "      <td>12.0</td>\n",
       "      <td>7.0</td>\n",
       "      <td>1007.5</td>\n",
       "      <td>5.0</td>\n",
       "      <td>0</td>\n",
       "      <td>0.0</td>\n",
       "      <td>0.0</td>\n",
       "    </tr>\n",
       "    <tr>\n",
       "      <th>118901</th>\n",
       "      <td>December</td>\n",
       "      <td>1</td>\n",
       "      <td>20.0</td>\n",
       "      <td>18.9</td>\n",
       "      <td>38.4</td>\n",
       "      <td>7.1</td>\n",
       "      <td>0.0</td>\n",
       "      <td>10.0</td>\n",
       "      <td>normal</td>\n",
       "      <td>SSE</td>\n",
       "      <td>59.0</td>\n",
       "      <td>17.0</td>\n",
       "      <td>12.0</td>\n",
       "      <td>12.0</td>\n",
       "      <td>1002.6</td>\n",
       "      <td>4.6</td>\n",
       "      <td>1</td>\n",
       "      <td>0.0</td>\n",
       "      <td>0.0</td>\n",
       "    </tr>\n",
       "    <tr>\n",
       "      <th>118902</th>\n",
       "      <td>December</td>\n",
       "      <td>1</td>\n",
       "      <td>19.3</td>\n",
       "      <td>18.1</td>\n",
       "      <td>35.8</td>\n",
       "      <td>10.0</td>\n",
       "      <td>0.0</td>\n",
       "      <td>10.0</td>\n",
       "      <td>normal</td>\n",
       "      <td>S</td>\n",
       "      <td>56.0</td>\n",
       "      <td>28.0</td>\n",
       "      <td>46.0</td>\n",
       "      <td>18.0</td>\n",
       "      <td>1003.7</td>\n",
       "      <td>3.6</td>\n",
       "      <td>0</td>\n",
       "      <td>0.0</td>\n",
       "      <td>0.0</td>\n",
       "    </tr>\n",
       "  </tbody>\n",
       "</table>\n",
       "<p>118903 rows × 19 columns</p>\n",
       "</div>"
      ],
      "text/plain": [
       "           Month Region  MinTemp  MaxMin_Temp  Temp3pm  AmPm_Temp  \\\n",
       "0       December      4     13.4          9.5     21.8        4.9   \n",
       "1       December      4      7.4         17.7     24.3        7.1   \n",
       "2       December      4     12.9         12.8     23.2        2.2   \n",
       "3       December      4      9.2         18.8     26.5        8.4   \n",
       "4       December      4     17.5         14.8     29.7       11.9   \n",
       "...          ...    ...      ...          ...      ...        ...   \n",
       "118898  December      1     20.5         14.2     33.0        8.7   \n",
       "118899  December      1     18.0         18.4     35.0        8.3   \n",
       "118900  December      1     17.5         19.6     34.7        6.6   \n",
       "118901  December      1     20.0         18.9     38.4        7.1   \n",
       "118902  December      1     19.3         18.1     35.8       10.0   \n",
       "\n",
       "        Rainfall_YesNo  Sunshine_Clean Sunshine_Types WindDir3pm  \\\n",
       "0                  1.0            10.0         normal        WNW   \n",
       "1                  0.0            10.0         normal        WSW   \n",
       "2                  0.0            10.0         normal        WSW   \n",
       "3                  0.0            10.0         normal          E   \n",
       "4                  1.0            10.0         normal         NW   \n",
       "...                ...             ...            ...        ...   \n",
       "118898             0.0            10.0         normal          E   \n",
       "118899             0.0            10.0         normal        ESE   \n",
       "118900             0.0            10.0         normal         SE   \n",
       "118901             0.0            10.0         normal        SSE   \n",
       "118902             0.0            10.0         normal          S   \n",
       "\n",
       "        WindGustSpeed  WindSpeed3pm  Humidity9am  Humidity3pm  Pressure3pm  \\\n",
       "0                44.0          24.0         71.0         22.0       1007.1   \n",
       "1                44.0          22.0         44.0         25.0       1007.8   \n",
       "2                46.0          26.0         38.0         30.0       1008.7   \n",
       "3                24.0           9.0         45.0         16.0       1012.8   \n",
       "4                41.0          20.0         82.0         33.0       1006.0   \n",
       "...               ...           ...          ...          ...          ...   \n",
       "118898           52.0          20.0         23.0         12.0       1010.1   \n",
       "118899           54.0          31.0         17.0          7.0       1010.9   \n",
       "118900           56.0          22.0         12.0          7.0       1007.5   \n",
       "118901           59.0          17.0         12.0         12.0       1002.6   \n",
       "118902           56.0          28.0         46.0         18.0       1003.7   \n",
       "\n",
       "        Pressure_Diff  Cloud_YesNo  RainToday  RainTomorrow  \n",
       "0                 0.6            1        0.0           0.0  \n",
       "1                 2.8            0        0.0           0.0  \n",
       "2                 1.1            1        0.0           0.0  \n",
       "3                 4.8            0        0.0           0.0  \n",
       "4                 4.8            1        0.0           0.0  \n",
       "...               ...          ...        ...           ...  \n",
       "118898            3.1            0        0.0           0.0  \n",
       "118899            3.8            0        0.0           0.0  \n",
       "118900            5.0            0        0.0           0.0  \n",
       "118901            4.6            1        0.0           0.0  \n",
       "118902            3.6            0        0.0           0.0  \n",
       "\n",
       "[118903 rows x 19 columns]"
      ]
     },
     "execution_count": 6,
     "metadata": {},
     "output_type": "execute_result"
    }
   ],
   "source": [
    "data"
   ]
  },
  {
   "cell_type": "code",
   "execution_count": 7,
   "id": "d8ec5cda-46ce-4e57-8313-217c63e89642",
   "metadata": {},
   "outputs": [],
   "source": [
    "data = we.get_notna_target(data, we.TARGET_NAME)"
   ]
  },
  {
   "cell_type": "code",
   "execution_count": 8,
   "id": "d44b73b5-2d32-4396-9a08-b056227c0285",
   "metadata": {},
   "outputs": [
    {
     "data": {
      "text/plain": [
       "(116219, 19)"
      ]
     },
     "execution_count": 8,
     "metadata": {},
     "output_type": "execute_result"
    }
   ],
   "source": [
    "data.shape"
   ]
  },
  {
   "cell_type": "code",
   "execution_count": 9,
   "id": "31d1882d-c1b9-4384-8cc1-cbaeb484cd56",
   "metadata": {},
   "outputs": [],
   "source": [
    "train_data, test_data = we.get_train_test(data)"
   ]
  },
  {
   "cell_type": "code",
   "execution_count": 10,
   "id": "7eebe646-cd17-4264-928c-f98d8b738b41",
   "metadata": {},
   "outputs": [
    {
     "name": "stdout",
     "output_type": "stream",
     "text": [
      "(29311, 18)\n",
      "(86908, 18)\n"
     ]
    }
   ],
   "source": [
    "print(train_data.shape)\n",
    "print(test_data.shape)"
   ]
  },
  {
   "cell_type": "code",
   "execution_count": 11,
   "id": "995e16c1-e24d-4421-bddc-52007bac7181",
   "metadata": {},
   "outputs": [],
   "source": [
    "X_train, y_train = we.get_x_y_data(train_data, we.TARGET_NAME)\n",
    "X_test, y_test = we.get_x_y_data(test_data, we.TARGET_NAME)"
   ]
  },
  {
   "cell_type": "code",
   "execution_count": 12,
   "id": "45cc39c0-52f8-4248-9867-b9d7336f8277",
   "metadata": {},
   "outputs": [
    {
     "name": "stdout",
     "output_type": "stream",
     "text": [
      "(29311, 17)\n",
      "(29311,)\n"
     ]
    }
   ],
   "source": [
    "print(X_train.shape)\n",
    "print(y_train.shape)"
   ]
  },
  {
   "cell_type": "code",
   "execution_count": 13,
   "id": "41f3c7b6-eed4-4ff9-8f00-4535dfdf46d4",
   "metadata": {},
   "outputs": [
    {
     "data": {
      "text/html": [
       "<div>\n",
       "<style scoped>\n",
       "    .dataframe tbody tr th:only-of-type {\n",
       "        vertical-align: middle;\n",
       "    }\n",
       "\n",
       "    .dataframe tbody tr th {\n",
       "        vertical-align: top;\n",
       "    }\n",
       "\n",
       "    .dataframe thead th {\n",
       "        text-align: right;\n",
       "    }\n",
       "</style>\n",
       "<table border=\"1\" class=\"dataframe\">\n",
       "  <thead>\n",
       "    <tr style=\"text-align: right;\">\n",
       "      <th></th>\n",
       "      <th>Month</th>\n",
       "      <th>MinTemp</th>\n",
       "      <th>MaxMin_Temp</th>\n",
       "      <th>Temp3pm</th>\n",
       "      <th>AmPm_Temp</th>\n",
       "      <th>Rainfall_YesNo</th>\n",
       "      <th>Sunshine_Clean</th>\n",
       "      <th>Sunshine_Types</th>\n",
       "      <th>WindDir3pm</th>\n",
       "      <th>WindGustSpeed</th>\n",
       "      <th>WindSpeed3pm</th>\n",
       "      <th>Humidity9am</th>\n",
       "      <th>Humidity3pm</th>\n",
       "      <th>Pressure3pm</th>\n",
       "      <th>Pressure_Diff</th>\n",
       "      <th>Cloud_YesNo</th>\n",
       "      <th>RainToday</th>\n",
       "    </tr>\n",
       "  </thead>\n",
       "  <tbody>\n",
       "    <tr>\n",
       "      <th>12366</th>\n",
       "      <td>December</td>\n",
       "      <td>13.2</td>\n",
       "      <td>NaN</td>\n",
       "      <td>30.6</td>\n",
       "      <td>8.8</td>\n",
       "      <td>0.0</td>\n",
       "      <td>10.0</td>\n",
       "      <td>normal</td>\n",
       "      <td>NW</td>\n",
       "      <td>NaN</td>\n",
       "      <td>19.0</td>\n",
       "      <td>50.0</td>\n",
       "      <td>24.0</td>\n",
       "      <td>NaN</td>\n",
       "      <td>3.5</td>\n",
       "      <td>1</td>\n",
       "      <td>0.0</td>\n",
       "    </tr>\n",
       "    <tr>\n",
       "      <th>12367</th>\n",
       "      <td>December</td>\n",
       "      <td>NaN</td>\n",
       "      <td>NaN</td>\n",
       "      <td>25.4</td>\n",
       "      <td>NaN</td>\n",
       "      <td>0.0</td>\n",
       "      <td>10.0</td>\n",
       "      <td>normal</td>\n",
       "      <td>NE</td>\n",
       "      <td>NaN</td>\n",
       "      <td>19.0</td>\n",
       "      <td>NaN</td>\n",
       "      <td>59.0</td>\n",
       "      <td>NaN</td>\n",
       "      <td>3.5</td>\n",
       "      <td>0</td>\n",
       "      <td>0.0</td>\n",
       "    </tr>\n",
       "    <tr>\n",
       "      <th>12368</th>\n",
       "      <td>December</td>\n",
       "      <td>16.2</td>\n",
       "      <td>16.0</td>\n",
       "      <td>32.0</td>\n",
       "      <td>9.8</td>\n",
       "      <td>0.0</td>\n",
       "      <td>10.0</td>\n",
       "      <td>normal</td>\n",
       "      <td>SE</td>\n",
       "      <td>NaN</td>\n",
       "      <td>2.0</td>\n",
       "      <td>74.0</td>\n",
       "      <td>26.0</td>\n",
       "      <td>NaN</td>\n",
       "      <td>3.5</td>\n",
       "      <td>1</td>\n",
       "      <td>0.0</td>\n",
       "    </tr>\n",
       "    <tr>\n",
       "      <th>12369</th>\n",
       "      <td>December</td>\n",
       "      <td>19.2</td>\n",
       "      <td>4.8</td>\n",
       "      <td>23.0</td>\n",
       "      <td>2.6</td>\n",
       "      <td>0.0</td>\n",
       "      <td>10.0</td>\n",
       "      <td>normal</td>\n",
       "      <td>SE</td>\n",
       "      <td>NaN</td>\n",
       "      <td>22.0</td>\n",
       "      <td>66.0</td>\n",
       "      <td>61.0</td>\n",
       "      <td>NaN</td>\n",
       "      <td>3.5</td>\n",
       "      <td>1</td>\n",
       "      <td>0.0</td>\n",
       "    </tr>\n",
       "    <tr>\n",
       "      <th>12370</th>\n",
       "      <td>December</td>\n",
       "      <td>18.8</td>\n",
       "      <td>11.4</td>\n",
       "      <td>NaN</td>\n",
       "      <td>NaN</td>\n",
       "      <td>0.0</td>\n",
       "      <td>10.0</td>\n",
       "      <td>normal</td>\n",
       "      <td>NaN</td>\n",
       "      <td>NaN</td>\n",
       "      <td>NaN</td>\n",
       "      <td>85.0</td>\n",
       "      <td>NaN</td>\n",
       "      <td>NaN</td>\n",
       "      <td>3.5</td>\n",
       "      <td>1</td>\n",
       "      <td>0.0</td>\n",
       "    </tr>\n",
       "    <tr>\n",
       "      <th>...</th>\n",
       "      <td>...</td>\n",
       "      <td>...</td>\n",
       "      <td>...</td>\n",
       "      <td>...</td>\n",
       "      <td>...</td>\n",
       "      <td>...</td>\n",
       "      <td>...</td>\n",
       "      <td>...</td>\n",
       "      <td>...</td>\n",
       "      <td>...</td>\n",
       "      <td>...</td>\n",
       "      <td>...</td>\n",
       "      <td>...</td>\n",
       "      <td>...</td>\n",
       "      <td>...</td>\n",
       "      <td>...</td>\n",
       "      <td>...</td>\n",
       "    </tr>\n",
       "    <tr>\n",
       "      <th>116826</th>\n",
       "      <td>December</td>\n",
       "      <td>23.4</td>\n",
       "      <td>7.6</td>\n",
       "      <td>29.8</td>\n",
       "      <td>5.6</td>\n",
       "      <td>1.0</td>\n",
       "      <td>1.1</td>\n",
       "      <td>small</td>\n",
       "      <td>W</td>\n",
       "      <td>69.0</td>\n",
       "      <td>30.0</td>\n",
       "      <td>94.0</td>\n",
       "      <td>77.0</td>\n",
       "      <td>1005.0</td>\n",
       "      <td>1.9</td>\n",
       "      <td>1</td>\n",
       "      <td>1.0</td>\n",
       "    </tr>\n",
       "    <tr>\n",
       "      <th>116827</th>\n",
       "      <td>December</td>\n",
       "      <td>24.2</td>\n",
       "      <td>7.5</td>\n",
       "      <td>31.3</td>\n",
       "      <td>5.1</td>\n",
       "      <td>1.0</td>\n",
       "      <td>5.5</td>\n",
       "      <td>normal</td>\n",
       "      <td>WNW</td>\n",
       "      <td>52.0</td>\n",
       "      <td>24.0</td>\n",
       "      <td>79.0</td>\n",
       "      <td>68.0</td>\n",
       "      <td>1006.8</td>\n",
       "      <td>2.9</td>\n",
       "      <td>1</td>\n",
       "      <td>0.0</td>\n",
       "    </tr>\n",
       "    <tr>\n",
       "      <th>116828</th>\n",
       "      <td>December</td>\n",
       "      <td>24.1</td>\n",
       "      <td>6.3</td>\n",
       "      <td>24.8</td>\n",
       "      <td>4.3</td>\n",
       "      <td>0.0</td>\n",
       "      <td>3.1</td>\n",
       "      <td>normal</td>\n",
       "      <td>SE</td>\n",
       "      <td>48.0</td>\n",
       "      <td>19.0</td>\n",
       "      <td>76.0</td>\n",
       "      <td>91.0</td>\n",
       "      <td>1007.4</td>\n",
       "      <td>1.4</td>\n",
       "      <td>1</td>\n",
       "      <td>0.0</td>\n",
       "    </tr>\n",
       "    <tr>\n",
       "      <th>116829</th>\n",
       "      <td>December</td>\n",
       "      <td>24.4</td>\n",
       "      <td>7.9</td>\n",
       "      <td>31.7</td>\n",
       "      <td>1.7</td>\n",
       "      <td>1.0</td>\n",
       "      <td>11.6</td>\n",
       "      <td>big</td>\n",
       "      <td>W</td>\n",
       "      <td>50.0</td>\n",
       "      <td>33.0</td>\n",
       "      <td>73.0</td>\n",
       "      <td>61.0</td>\n",
       "      <td>1005.9</td>\n",
       "      <td>1.4</td>\n",
       "      <td>1</td>\n",
       "      <td>1.0</td>\n",
       "    </tr>\n",
       "    <tr>\n",
       "      <th>116830</th>\n",
       "      <td>December</td>\n",
       "      <td>27.9</td>\n",
       "      <td>5.0</td>\n",
       "      <td>31.6</td>\n",
       "      <td>2.2</td>\n",
       "      <td>0.0</td>\n",
       "      <td>8.8</td>\n",
       "      <td>normal</td>\n",
       "      <td>W</td>\n",
       "      <td>46.0</td>\n",
       "      <td>28.0</td>\n",
       "      <td>78.0</td>\n",
       "      <td>62.0</td>\n",
       "      <td>1007.4</td>\n",
       "      <td>2.5</td>\n",
       "      <td>1</td>\n",
       "      <td>0.0</td>\n",
       "    </tr>\n",
       "  </tbody>\n",
       "</table>\n",
       "<p>29311 rows × 17 columns</p>\n",
       "</div>"
      ],
      "text/plain": [
       "           Month  MinTemp  MaxMin_Temp  Temp3pm  AmPm_Temp  Rainfall_YesNo  \\\n",
       "12366   December     13.2          NaN     30.6        8.8             0.0   \n",
       "12367   December      NaN          NaN     25.4        NaN             0.0   \n",
       "12368   December     16.2         16.0     32.0        9.8             0.0   \n",
       "12369   December     19.2          4.8     23.0        2.6             0.0   \n",
       "12370   December     18.8         11.4      NaN        NaN             0.0   \n",
       "...          ...      ...          ...      ...        ...             ...   \n",
       "116826  December     23.4          7.6     29.8        5.6             1.0   \n",
       "116827  December     24.2          7.5     31.3        5.1             1.0   \n",
       "116828  December     24.1          6.3     24.8        4.3             0.0   \n",
       "116829  December     24.4          7.9     31.7        1.7             1.0   \n",
       "116830  December     27.9          5.0     31.6        2.2             0.0   \n",
       "\n",
       "        Sunshine_Clean Sunshine_Types WindDir3pm  WindGustSpeed  WindSpeed3pm  \\\n",
       "12366             10.0         normal         NW            NaN          19.0   \n",
       "12367             10.0         normal         NE            NaN          19.0   \n",
       "12368             10.0         normal         SE            NaN           2.0   \n",
       "12369             10.0         normal         SE            NaN          22.0   \n",
       "12370             10.0         normal        NaN            NaN           NaN   \n",
       "...                ...            ...        ...            ...           ...   \n",
       "116826             1.1          small          W           69.0          30.0   \n",
       "116827             5.5         normal        WNW           52.0          24.0   \n",
       "116828             3.1         normal         SE           48.0          19.0   \n",
       "116829            11.6            big          W           50.0          33.0   \n",
       "116830             8.8         normal          W           46.0          28.0   \n",
       "\n",
       "        Humidity9am  Humidity3pm  Pressure3pm  Pressure_Diff  Cloud_YesNo  \\\n",
       "12366          50.0         24.0          NaN            3.5            1   \n",
       "12367           NaN         59.0          NaN            3.5            0   \n",
       "12368          74.0         26.0          NaN            3.5            1   \n",
       "12369          66.0         61.0          NaN            3.5            1   \n",
       "12370          85.0          NaN          NaN            3.5            1   \n",
       "...             ...          ...          ...            ...          ...   \n",
       "116826         94.0         77.0       1005.0            1.9            1   \n",
       "116827         79.0         68.0       1006.8            2.9            1   \n",
       "116828         76.0         91.0       1007.4            1.4            1   \n",
       "116829         73.0         61.0       1005.9            1.4            1   \n",
       "116830         78.0         62.0       1007.4            2.5            1   \n",
       "\n",
       "        RainToday  \n",
       "12366         0.0  \n",
       "12367         0.0  \n",
       "12368         0.0  \n",
       "12369         0.0  \n",
       "12370         0.0  \n",
       "...           ...  \n",
       "116826        1.0  \n",
       "116827        0.0  \n",
       "116828        0.0  \n",
       "116829        1.0  \n",
       "116830        0.0  \n",
       "\n",
       "[29311 rows x 17 columns]"
      ]
     },
     "execution_count": 13,
     "metadata": {},
     "output_type": "execute_result"
    }
   ],
   "source": [
    "X_train"
   ]
  },
  {
   "cell_type": "markdown",
   "id": "17d6014f-b963-410b-8438-81e17191a17d",
   "metadata": {},
   "source": [
    "### 3. Feature importances"
   ]
  },
  {
   "cell_type": "code",
   "execution_count": 14,
   "id": "cae156d8-0536-43b4-878b-b7eba9d95b33",
   "metadata": {},
   "outputs": [
    {
     "name": "stdout",
     "output_type": "stream",
     "text": [
      "['Rainfall_YesNo', 'Cloud_YesNo', 'RainToday']\n",
      "['MinTemp', 'MaxMin_Temp', 'Temp3pm', 'AmPm_Temp', 'Sunshine_Clean', 'WindGustSpeed', 'WindSpeed3pm', 'Humidity9am', 'Humidity3pm', 'Pressure3pm', 'Pressure_Diff']\n",
      "['Month', 'Sunshine_Types', 'WindDir3pm']\n"
     ]
    }
   ],
   "source": [
    "features = we.get_3group_features(X_train)\n",
    "print(*features, sep='\\n')"
   ]
  },
  {
   "cell_type": "markdown",
   "id": "fc0f1ab4-4502-4c38-9a20-886935bd9adc",
   "metadata": {},
   "source": [
    "### 3.1. DecisionTreeClassifier"
   ]
  },
  {
   "cell_type": "code",
   "execution_count": 15,
   "id": "a210bfb1-8845-4dc6-a1b4-925c4353be0e",
   "metadata": {},
   "outputs": [],
   "source": [
    "model_type = \"tree\"\n",
    "estimator = we.get_estimator(model_type, features, scaling='skip', encoding='ordinal')\n",
    "param_grid = we.get_param_grid(model_type)\n",
    "gs = we.get_search(estimator, param_grid)"
   ]
  },
  {
   "cell_type": "code",
   "execution_count": 16,
   "id": "cee6b0f7-b0f8-4077-b79c-89b2f717f55a",
   "metadata": {},
   "outputs": [
    {
     "data": {
      "text/plain": [
       "Pipeline(steps=[('preprocess',\n",
       "                 ColumnTransformer(transformers=[('bin',\n",
       "                                                  Pipeline(steps=[('imputer',\n",
       "                                                                   SimpleImputer(strategy='most_frequent'))]),\n",
       "                                                  ['Rainfall_YesNo',\n",
       "                                                   'Cloud_YesNo',\n",
       "                                                   'RainToday']),\n",
       "                                                 ('num',\n",
       "                                                  Pipeline(steps=[('imputer',\n",
       "                                                                   SimpleImputer(strategy='median')),\n",
       "                                                                  ('outlier',\n",
       "                                                                   OutliersTrim(strategy='border'))]),\n",
       "                                                  ['MinTemp', 'MaxMin_Temp',\n",
       "                                                   'Temp3pm', 'AmPm_Temp',\n",
       "                                                   'Sunshine_Clean',\n",
       "                                                   'WindGustSpeed',\n",
       "                                                   'WindSpeed3pm',\n",
       "                                                   'Humidity9am', 'Humidity3pm',\n",
       "                                                   'Pressure3pm',\n",
       "                                                   'Pressure_Diff']),\n",
       "                                                 ('cat',\n",
       "                                                  Pipeline(steps=[('imputer',\n",
       "                                                                   SimpleImputer(strategy='most_frequent')),\n",
       "                                                                  ('encoder',\n",
       "                                                                   OrdinalEncoder())]),\n",
       "                                                  ['Month', 'Sunshine_Types',\n",
       "                                                   'WindDir3pm'])])),\n",
       "                ('sampler', RandomUnderSampler(random_state=42)),\n",
       "                ('tree', DecisionTreeClassifier())])"
      ]
     },
     "execution_count": 16,
     "metadata": {},
     "output_type": "execute_result"
    }
   ],
   "source": [
    "estimator"
   ]
  },
  {
   "cell_type": "code",
   "execution_count": 17,
   "id": "c9114886-ad2c-46ea-8560-288f314c605e",
   "metadata": {},
   "outputs": [],
   "source": [
    "gs.set_params(verbose=1);"
   ]
  },
  {
   "cell_type": "code",
   "execution_count": 18,
   "id": "0d078bfb-d305-4dab-aa93-aa69e1b6a437",
   "metadata": {},
   "outputs": [],
   "source": [
    "param_grid['tree__max_depth'] = [10]"
   ]
  },
  {
   "cell_type": "code",
   "execution_count": 19,
   "id": "88700094-76a3-4044-b2a5-f17eafb805a4",
   "metadata": {},
   "outputs": [
    {
     "name": "stdout",
     "output_type": "stream",
     "text": [
      "Fitting 3 folds for each of 16 candidates, totalling 48 fits\n",
      "\n",
      "{'preprocess__num__outlier__strategy': 'border', 'tree__criterion': 'gini', 'tree__max_depth': 10, 'tree__min_samples_leaf': 10, 'tree__min_samples_split': 10}\n",
      "0.5716328107598857\n",
      "\n",
      "CPU times: user 11.4 s, sys: 37.7 ms, total: 11.4 s\n",
      "Wall time: 11.5 s\n"
     ]
    }
   ],
   "source": [
    "%%time\n",
    "gs.fit(X_train, y_train)\n",
    "print()\n",
    "print(gs.best_params_)\n",
    "print(gs.best_score_)\n",
    "print()"
   ]
  },
  {
   "cell_type": "code",
   "execution_count": 20,
   "id": "19f5124a-d172-4ea6-8170-b92b786e6486",
   "metadata": {
    "tags": []
   },
   "outputs": [
    {
     "name": "stdout",
     "output_type": "stream",
     "text": [
      "CPU times: user 97.5 ms, sys: 3.32 ms, total: 101 ms\n",
      "Wall time: 131 ms\n"
     ]
    },
    {
     "data": {
      "text/plain": [
       "0.6470965672120629"
      ]
     },
     "execution_count": 20,
     "metadata": {},
     "output_type": "execute_result"
    }
   ],
   "source": [
    "%%time\n",
    "gs.score(X_train, y_train)"
   ]
  },
  {
   "cell_type": "code",
   "execution_count": 21,
   "id": "1f73cfe8-35f1-4f26-8ab4-dc4b40e557dd",
   "metadata": {
    "tags": []
   },
   "outputs": [
    {
     "name": "stdout",
     "output_type": "stream",
     "text": [
      "CPU times: user 343 ms, sys: 28.2 ms, total: 371 ms\n",
      "Wall time: 399 ms\n"
     ]
    },
    {
     "data": {
      "text/plain": [
       "0.5722950590211356"
      ]
     },
     "execution_count": 21,
     "metadata": {},
     "output_type": "execute_result"
    }
   ],
   "source": [
    "%%time\n",
    "gs.score(X_test, y_test)"
   ]
  },
  {
   "cell_type": "code",
   "execution_count": 22,
   "id": "2511e09d-a154-4912-8dd2-38d34cfa8f3e",
   "metadata": {},
   "outputs": [],
   "source": [
    "importances = gs.best_estimator_['tree'].feature_importances_\n",
    "transformer = gs.best_estimator_['preprocess'].transformers_\n",
    "\n",
    "features_stats = importances.tolist()\n",
    "features_names = [j for i in transformer for j in i[2]]\n",
    "\n",
    "feature_importances = pd.DataFrame(index=features_names,\n",
    "                                   data=features_stats,\n",
    "                                   columns=['importances'])"
   ]
  },
  {
   "cell_type": "code",
   "execution_count": 23,
   "id": "d89d2c21-9752-4f66-90a6-d4ac0e6e53ea",
   "metadata": {},
   "outputs": [
    {
     "data": {
      "text/html": [
       "<div>\n",
       "<style scoped>\n",
       "    .dataframe tbody tr th:only-of-type {\n",
       "        vertical-align: middle;\n",
       "    }\n",
       "\n",
       "    .dataframe tbody tr th {\n",
       "        vertical-align: top;\n",
       "    }\n",
       "\n",
       "    .dataframe thead th {\n",
       "        text-align: right;\n",
       "    }\n",
       "</style>\n",
       "<table border=\"1\" class=\"dataframe\">\n",
       "  <thead>\n",
       "    <tr style=\"text-align: right;\">\n",
       "      <th></th>\n",
       "      <th>importances</th>\n",
       "    </tr>\n",
       "  </thead>\n",
       "  <tbody>\n",
       "    <tr>\n",
       "      <th>Humidity3pm</th>\n",
       "      <td>0.450677</td>\n",
       "    </tr>\n",
       "    <tr>\n",
       "      <th>Sunshine_Clean</th>\n",
       "      <td>0.196162</td>\n",
       "    </tr>\n",
       "    <tr>\n",
       "      <th>WindGustSpeed</th>\n",
       "      <td>0.089152</td>\n",
       "    </tr>\n",
       "    <tr>\n",
       "      <th>Pressure3pm</th>\n",
       "      <td>0.072500</td>\n",
       "    </tr>\n",
       "    <tr>\n",
       "      <th>Temp3pm</th>\n",
       "      <td>0.031742</td>\n",
       "    </tr>\n",
       "    <tr>\n",
       "      <th>Humidity9am</th>\n",
       "      <td>0.029702</td>\n",
       "    </tr>\n",
       "    <tr>\n",
       "      <th>MinTemp</th>\n",
       "      <td>0.028960</td>\n",
       "    </tr>\n",
       "    <tr>\n",
       "      <th>Pressure_Diff</th>\n",
       "      <td>0.028772</td>\n",
       "    </tr>\n",
       "    <tr>\n",
       "      <th>MaxMin_Temp</th>\n",
       "      <td>0.017517</td>\n",
       "    </tr>\n",
       "    <tr>\n",
       "      <th>WindDir3pm</th>\n",
       "      <td>0.014348</td>\n",
       "    </tr>\n",
       "    <tr>\n",
       "      <th>AmPm_Temp</th>\n",
       "      <td>0.012792</td>\n",
       "    </tr>\n",
       "    <tr>\n",
       "      <th>WindSpeed3pm</th>\n",
       "      <td>0.012756</td>\n",
       "    </tr>\n",
       "    <tr>\n",
       "      <th>Month</th>\n",
       "      <td>0.008350</td>\n",
       "    </tr>\n",
       "    <tr>\n",
       "      <th>Rainfall_YesNo</th>\n",
       "      <td>0.002262</td>\n",
       "    </tr>\n",
       "    <tr>\n",
       "      <th>Cloud_YesNo</th>\n",
       "      <td>0.001537</td>\n",
       "    </tr>\n",
       "    <tr>\n",
       "      <th>Sunshine_Types</th>\n",
       "      <td>0.001472</td>\n",
       "    </tr>\n",
       "    <tr>\n",
       "      <th>RainToday</th>\n",
       "      <td>0.001301</td>\n",
       "    </tr>\n",
       "  </tbody>\n",
       "</table>\n",
       "</div>"
      ],
      "text/plain": [
       "                importances\n",
       "Humidity3pm        0.450677\n",
       "Sunshine_Clean     0.196162\n",
       "WindGustSpeed      0.089152\n",
       "Pressure3pm        0.072500\n",
       "Temp3pm            0.031742\n",
       "Humidity9am        0.029702\n",
       "MinTemp            0.028960\n",
       "Pressure_Diff      0.028772\n",
       "MaxMin_Temp        0.017517\n",
       "WindDir3pm         0.014348\n",
       "AmPm_Temp          0.012792\n",
       "WindSpeed3pm       0.012756\n",
       "Month              0.008350\n",
       "Rainfall_YesNo     0.002262\n",
       "Cloud_YesNo        0.001537\n",
       "Sunshine_Types     0.001472\n",
       "RainToday          0.001301"
      ]
     },
     "execution_count": 23,
     "metadata": {},
     "output_type": "execute_result"
    }
   ],
   "source": [
    "feature_importances.sort_values(by='importances', ascending=False)"
   ]
  },
  {
   "cell_type": "code",
   "execution_count": 24,
   "id": "6e553e99-1cf3-471c-8d5d-a78e68833955",
   "metadata": {},
   "outputs": [
    {
     "data": {
      "image/png": "[encoded data removed]",
      "text/plain": [
       "<Figure size 1800x1440 with 1 Axes>"
      ]
     },
     "metadata": {
      "needs_background": "light"
     },
     "output_type": "display_data"
    }
   ],
   "source": [
    "fig = plt.figure(figsize=(25,20))\n",
    "_ = tree.plot_tree(gs.best_estimator_['tree'], proportion=True,\n",
    "                   feature_names=features_names, max_depth=2, node_ids=True,\n",
    "                   filled=True)"
   ]
  },
  {
   "cell_type": "code",
   "execution_count": 25,
   "id": "460e244c-8219-4f77-89a6-92cc40586961",
   "metadata": {},
   "outputs": [
    {
     "name": "stdout",
     "output_type": "stream",
     "text": [
      "|--- Humidity3pm <= 68.50\n",
      "|   |--- Sunshine_Clean <= 8.45\n",
      "|   |   |--- WindGustSpeed <= 38.00\n",
      "|   |   |   |--- Pressure3pm <= 1017.15\n",
      "|   |   |   |   |--- Humidity3pm <= 60.50\n",
      "|   |   |   |   |   |--- Pressure3pm <= 1003.25\n",
      "|   |   |   |   |   |   |--- weights: [2.00, 12.00] class: 1.0\n",
      "|   |   |   |   |   |--- Pressure3pm >  1003.25\n",
      "|   |   |   |   |   |   |--- WindDir3pm <= 5.50\n",
      "|   |   |   |   |   |   |   |--- Pressure3pm <= 1016.15\n",
      "|   |   |   |   |   |   |   |   |--- Month <= 8.50\n",
      "|   |   |   |   |   |   |   |   |   |--- Temp3pm <= 20.20\n",
      "|   |   |   |   |   |   |   |   |   |   |--- weights: [13.00, 4.00] class: 0.0\n",
      "|   |   |   |   |   |   |   |   |   |--- Temp3pm >  20.20\n",
      "|   |   |   |   |   |   |   |   |   |   |--- weights: [29.00, 35.00] class: 1.0\n",
      "|   |   |   |   |   |   |   |   |--- Month >  8.50\n",
      "|   |   |   |   |   |   |   |   |   |--- Sunshine_Clean <= 2.50\n",
      "|   |   |   |   |   |   |   |   |   |   |--- weights: [0.00, 11.00] class: 1.0\n",
      "|   |   |   |   |   |   |   |   |   |--- Sunshine_Clean >  2.50\n",
      "|   |   |   |   |   |   |   |   |   |   |--- weights: [9.00, 14.00] class: 1.0\n",
      "|   |   |   |   |   |   |   |--- Pressure3pm >  1016.15\n",
      "|   |   |   |   |   |   |   |   |--- weights: [12.00, 3.00] class: 0.0\n",
      "|   |   |   |   |   |   |--- WindDir3pm >  5.50\n",
      "|   |   |   |   |   |   |   |--- Month <= 3.50\n",
      "|   |   |   |   |   |   |   |   |--- MaxMin_Temp <= 7.35\n",
      "|   |   |   |   |   |   |   |   |   |--- weights: [2.00, 9.00] class: 1.0\n",
      "|   |   |   |   |   |   |   |   |--- MaxMin_Temp >  7.35\n",
      "|   |   |   |   |   |   |   |   |   |--- Pressure3pm <= 1014.10\n",
      "|   |   |   |   |   |   |   |   |   |   |--- weights: [25.00, 22.00] class: 0.0\n",
      "|   |   |   |   |   |   |   |   |   |--- Pressure3pm >  1014.10\n",
      "|   |   |   |   |   |   |   |   |   |   |--- weights: [12.00, 1.00] class: 0.0\n",
      "|   |   |   |   |   |   |   |--- Month >  3.50\n",
      "|   |   |   |   |   |   |   |   |--- RainToday <= 0.50\n",
      "|   |   |   |   |   |   |   |   |   |--- Sunshine_Clean <= 3.95\n",
      "|   |   |   |   |   |   |   |   |   |   |--- weights: [15.00, 15.00] class: 0.0\n",
      "|   |   |   |   |   |   |   |   |   |--- Sunshine_Clean >  3.95\n",
      "|   |   |   |   |   |   |   |   |   |   |--- weights: [54.00, 19.00] class: 0.0\n",
      "|   |   |   |   |   |   |   |   |--- RainToday >  0.50\n",
      "|   |   |   |   |   |   |   |   |   |--- AmPm_Temp <= 4.60\n",
      "|   |   |   |   |   |   |   |   |   |   |--- weights: [18.00, 0.00] class: 0.0\n",
      "|   |   |   |   |   |   |   |   |   |--- AmPm_Temp >  4.60\n",
      "|   |   |   |   |   |   |   |   |   |   |--- weights: [12.00, 4.00] class: 0.0\n",
      "|   |   |   |   |--- Humidity3pm >  60.50\n",
      "|   |   |   |   |   |--- MaxMin_Temp <= 11.00\n",
      "|   |   |   |   |   |   |--- Pressure3pm <= 1009.70\n",
      "|   |   |   |   |   |   |   |--- WindSpeed3pm <= 10.00\n",
      "|   |   |   |   |   |   |   |   |--- weights: [10.00, 2.00] class: 0.0\n",
      "|   |   |   |   |   |   |   |--- WindSpeed3pm >  10.00\n",
      "|   |   |   |   |   |   |   |   |--- Humidity9am <= 83.50\n",
      "|   |   |   |   |   |   |   |   |   |--- Humidity9am <= 72.50\n",
      "|   |   |   |   |   |   |   |   |   |  \n"
     ]
    }
   ],
   "source": [
    "tree_text = tree.export_text(gs.best_estimator_['tree'], show_weights=True,\n",
    "                             feature_names=features_names)\n",
    "print(tree_text[:3000])"
   ]
  },
  {
   "cell_type": "markdown",
   "id": "88d6dce1-5392-4a4e-b8fe-e88fe5f2220c",
   "metadata": {},
   "source": [
    "### 3.2. LogisticRegression"
   ]
  },
  {
   "cell_type": "code",
   "execution_count": 26,
   "id": "acf1818e-0f50-4af7-84e6-e4f9b59625b6",
   "metadata": {},
   "outputs": [],
   "source": [
    "model_type_2 = \"logreg\"\n",
    "estimator_2 = we.get_estimator(model_type_2, features)\n",
    "param_grid_2 = we.get_param_grid(model_type_2)\n",
    "gs_2 = we.get_search(estimator_2, param_grid_2)"
   ]
  },
  {
   "cell_type": "code",
   "execution_count": 27,
   "id": "01709388-1b68-44de-b7f7-6f18792141db",
   "metadata": {},
   "outputs": [],
   "source": [
    "gs_2.set_params(verbose=1);"
   ]
  },
  {
   "cell_type": "code",
   "execution_count": 28,
   "id": "e2fc3c0b-da28-43de-9ffd-e777efb67ab6",
   "metadata": {},
   "outputs": [
    {
     "name": "stdout",
     "output_type": "stream",
     "text": [
      "Fitting 3 folds for each of 5 candidates, totalling 15 fits\n",
      "\n",
      "{'logreg__C': 0.1}\n",
      "0.6102652375892398\n",
      "\n",
      "CPU times: user 11.3 s, sys: 264 ms, total: 11.6 s\n",
      "Wall time: 6.19 s\n"
     ]
    }
   ],
   "source": [
    "%%time\n",
    "gs_2.fit(X_train, y_train)\n",
    "print()\n",
    "print(gs_2.best_params_)\n",
    "print(gs_2.best_score_)\n",
    "print()"
   ]
  },
  {
   "cell_type": "code",
   "execution_count": 29,
   "id": "80c4f7c2-07fe-49d0-908c-0b7330982678",
   "metadata": {
    "tags": []
   },
   "outputs": [
    {
     "name": "stdout",
     "output_type": "stream",
     "text": [
      "CPU times: user 246 ms, sys: 7.3 ms, total: 254 ms\n",
      "Wall time: 243 ms\n"
     ]
    },
    {
     "data": {
      "text/plain": [
       "0.6173430529866174"
      ]
     },
     "execution_count": 29,
     "metadata": {},
     "output_type": "execute_result"
    }
   ],
   "source": [
    "%%time\n",
    "gs_2.score(X_train, y_train)"
   ]
  },
  {
   "cell_type": "code",
   "execution_count": 30,
   "id": "de71a627-ea6e-4d47-983d-6b71f5c93b13",
   "metadata": {
    "tags": []
   },
   "outputs": [
    {
     "name": "stdout",
     "output_type": "stream",
     "text": [
      "CPU times: user 434 ms, sys: 100 ms, total: 534 ms\n",
      "Wall time: 496 ms\n"
     ]
    },
    {
     "data": {
      "text/plain": [
       "0.6223329468932686"
      ]
     },
     "execution_count": 30,
     "metadata": {},
     "output_type": "execute_result"
    }
   ],
   "source": [
    "%%time\n",
    "gs_2.score(X_test, y_test)"
   ]
  },
  {
   "cell_type": "code",
   "execution_count": 31,
   "id": "b3d0a314-bd2a-4d1f-aa2f-df89d2278a2c",
   "metadata": {},
   "outputs": [],
   "source": [
    "diff_score = []\n",
    "\n",
    "for x_column in X_test.columns:\n",
    "    X_shuffle = X_test.copy()\n",
    "    X_shuffle[x_column] = shuffle(X_shuffle[x_column].values, random_state=42)\n",
    "    \n",
    "    diff_score.append(round(gs_2.score(X_test, y_test) - gs_2.score(X_shuffle, y_test), 4))"
   ]
  },
  {
   "cell_type": "code",
   "execution_count": 32,
   "id": "975e1735-6506-4a63-a85f-0dfee665e15a",
   "metadata": {},
   "outputs": [],
   "source": [
    "feature_importances_2 = pd.DataFrame(index=X_test.columns,\n",
    "                                     data=diff_score,\n",
    "                                     columns=['importances'])"
   ]
  },
  {
   "cell_type": "code",
   "execution_count": 33,
   "id": "a2541fe8-14e0-4469-9aa3-6f29e311480d",
   "metadata": {},
   "outputs": [
    {
     "data": {
      "text/html": [
       "<div>\n",
       "<style scoped>\n",
       "    .dataframe tbody tr th:only-of-type {\n",
       "        vertical-align: middle;\n",
       "    }\n",
       "\n",
       "    .dataframe tbody tr th {\n",
       "        vertical-align: top;\n",
       "    }\n",
       "\n",
       "    .dataframe thead th {\n",
       "        text-align: right;\n",
       "    }\n",
       "</style>\n",
       "<table border=\"1\" class=\"dataframe\">\n",
       "  <thead>\n",
       "    <tr style=\"text-align: right;\">\n",
       "      <th></th>\n",
       "      <th>importances</th>\n",
       "    </tr>\n",
       "  </thead>\n",
       "  <tbody>\n",
       "    <tr>\n",
       "      <th>Month</th>\n",
       "      <td>0.0009</td>\n",
       "    </tr>\n",
       "    <tr>\n",
       "      <th>MinTemp</th>\n",
       "      <td>0.0006</td>\n",
       "    </tr>\n",
       "    <tr>\n",
       "      <th>MaxMin_Temp</th>\n",
       "      <td>-0.0007</td>\n",
       "    </tr>\n",
       "    <tr>\n",
       "      <th>Temp3pm</th>\n",
       "      <td>0.0084</td>\n",
       "    </tr>\n",
       "    <tr>\n",
       "      <th>AmPm_Temp</th>\n",
       "      <td>0.0037</td>\n",
       "    </tr>\n",
       "    <tr>\n",
       "      <th>Rainfall_YesNo</th>\n",
       "      <td>-0.0005</td>\n",
       "    </tr>\n",
       "    <tr>\n",
       "      <th>Sunshine_Clean</th>\n",
       "      <td>0.0741</td>\n",
       "    </tr>\n",
       "    <tr>\n",
       "      <th>Sunshine_Types</th>\n",
       "      <td>0.0121</td>\n",
       "    </tr>\n",
       "    <tr>\n",
       "      <th>WindDir3pm</th>\n",
       "      <td>0.0008</td>\n",
       "    </tr>\n",
       "    <tr>\n",
       "      <th>WindGustSpeed</th>\n",
       "      <td>0.0521</td>\n",
       "    </tr>\n",
       "    <tr>\n",
       "      <th>WindSpeed3pm</th>\n",
       "      <td>0.0017</td>\n",
       "    </tr>\n",
       "    <tr>\n",
       "      <th>Humidity9am</th>\n",
       "      <td>0.0000</td>\n",
       "    </tr>\n",
       "    <tr>\n",
       "      <th>Humidity3pm</th>\n",
       "      <td>0.2424</td>\n",
       "    </tr>\n",
       "    <tr>\n",
       "      <th>Pressure3pm</th>\n",
       "      <td>0.0162</td>\n",
       "    </tr>\n",
       "    <tr>\n",
       "      <th>Pressure_Diff</th>\n",
       "      <td>0.0060</td>\n",
       "    </tr>\n",
       "    <tr>\n",
       "      <th>Cloud_YesNo</th>\n",
       "      <td>0.0013</td>\n",
       "    </tr>\n",
       "    <tr>\n",
       "      <th>RainToday</th>\n",
       "      <td>-0.0005</td>\n",
       "    </tr>\n",
       "  </tbody>\n",
       "</table>\n",
       "</div>"
      ],
      "text/plain": [
       "                importances\n",
       "Month                0.0009\n",
       "MinTemp              0.0006\n",
       "MaxMin_Temp         -0.0007\n",
       "Temp3pm              0.0084\n",
       "AmPm_Temp            0.0037\n",
       "Rainfall_YesNo      -0.0005\n",
       "Sunshine_Clean       0.0741\n",
       "Sunshine_Types       0.0121\n",
       "WindDir3pm           0.0008\n",
       "WindGustSpeed        0.0521\n",
       "WindSpeed3pm         0.0017\n",
       "Humidity9am          0.0000\n",
       "Humidity3pm          0.2424\n",
       "Pressure3pm          0.0162\n",
       "Pressure_Diff        0.0060\n",
       "Cloud_YesNo          0.0013\n",
       "RainToday           -0.0005"
      ]
     },
     "execution_count": 33,
     "metadata": {},
     "output_type": "execute_result"
    }
   ],
   "source": [
    "feature_importances_2"
   ]
  },
  {
   "cell_type": "code",
   "execution_count": null,
   "id": "32e8e89f-ca94-4d02-af4d-ab425383502a",
   "metadata": {},
   "outputs": [],
   "source": []
  }
 ],
 "metadata": {
  "kernelspec": {
   "display_name": "Python 3",
   "language": "python",
   "name": "python3"
  },
  "language_info": {
   "codemirror_mode": {
    "name": "ipython",
    "version": 3
   },
   "file_extension": ".py",
   "mimetype": "text/x-python",
   "name": "python",
   "nbconvert_exporter": "python",
   "pygments_lexer": "ipython3",
   "version": "3.8.10"
  }
 },
 "nbformat": 4,
 "nbformat_minor": 5
}
