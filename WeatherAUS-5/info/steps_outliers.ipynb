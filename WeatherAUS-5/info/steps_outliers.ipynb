{
 "cells": [
  {
   "cell_type": "code",
   "execution_count": 1,
   "id": "cdf4bf9c-e81f-4035-b68f-114cedc10652",
   "metadata": {},
   "outputs": [
    {
     "name": "stdout",
     "output_type": "stream",
     "text": [
      "/home/anatoly/Private/GitHub/renokan/study_ds/WeatherAUS-5\n"
     ]
    }
   ],
   "source": [
    "%cd .."
   ]
  },
  {
   "cell_type": "markdown",
   "id": "8574174d-4c2d-4c92-ae42-9df220f34684",
   "metadata": {},
   "source": [
    "## Information about the class OutliersTrim"
   ]
  },
  {
   "cell_type": "markdown",
   "id": "7f6468b6-e648-4047-85e8-06586ba5f2c4",
   "metadata": {},
   "source": [
    "### 1. Importing the modules and setting parameters"
   ]
  },
  {
   "cell_type": "code",
   "execution_count": 2,
   "id": "be51c78b-fed2-4281-ba07-3a353c650402",
   "metadata": {},
   "outputs": [],
   "source": [
    "import pandas as pd\n",
    "import matplotlib.pyplot as plt\n",
    "import seaborn as sns\n",
    "from weather_utils import OutliersTrim"
   ]
  },
  {
   "cell_type": "markdown",
   "id": "340b09bf-e4f2-4c50-be9f-c60d130edb84",
   "metadata": {},
   "source": [
    "### 2. Loading dataset"
   ]
  },
  {
   "cell_type": "code",
   "execution_count": 3,
   "id": "41f25865-baf4-45d0-af44-6a48bfa53879",
   "metadata": {},
   "outputs": [
    {
     "name": "stdout",
     "output_type": "stream",
     "text": [
      "drwxrwxr-x 3 anatoly    4096 авг  1 01:50 \u001b[0m\u001b[01;34mdata\u001b[0m/\n",
      "drwxrwxr-x 3 anatoly    4096 авг  4 22:49 \u001b[01;34minfo\u001b[0m/\n",
      "drwxrwxr-x 2 anatoly    4096 авг  4 19:21 \u001b[01;34m__pycache__\u001b[0m/\n",
      "drwxrwxr-x 3 anatoly    4096 авг  4 21:41 \u001b[01;34mreport\u001b[0m/\n"
     ]
    }
   ],
   "source": [
    "%ldir"
   ]
  },
  {
   "cell_type": "code",
   "execution_count": 4,
   "id": "36fb8db7-a25f-4dc9-8b6f-19cdf894c95a",
   "metadata": {},
   "outputs": [
    {
     "name": "stdout",
     "output_type": "stream",
     "text": [
      "-rw-rw-r-- 1 anatoly 12807959 июл 27 23:56 actual_data.csv\n",
      "-rw-rw-r-- 1 anatoly  2793277 июл 27 23:56 future_data.csv\n",
      "-rw-rw-r-- 1 anatoly    35935 авг  1 01:50 split_dataset.ipynb\n",
      "-rw-rw-r-- 1 anatoly 14094055 дек 11  2020 weatherAUS.csv\n"
     ]
    }
   ],
   "source": [
    "%lf data/"
   ]
  },
  {
   "cell_type": "code",
   "execution_count": 5,
   "id": "1cce456f-dcb4-4da6-a749-ff17df06e571",
   "metadata": {},
   "outputs": [],
   "source": [
    "df = pd.read_csv('data/actual_data.csv')"
   ]
  },
  {
   "cell_type": "code",
   "execution_count": 6,
   "id": "056a7b27-9ecc-457b-aad3-3a2d0c51c010",
   "metadata": {},
   "outputs": [
    {
     "data": {
      "text/html": [
       "<div>\n",
       "<style scoped>\n",
       "    .dataframe tbody tr th:only-of-type {\n",
       "        vertical-align: middle;\n",
       "    }\n",
       "\n",
       "    .dataframe tbody tr th {\n",
       "        vertical-align: top;\n",
       "    }\n",
       "\n",
       "    .dataframe thead th {\n",
       "        text-align: right;\n",
       "    }\n",
       "</style>\n",
       "<table border=\"1\" class=\"dataframe\">\n",
       "  <thead>\n",
       "    <tr style=\"text-align: right;\">\n",
       "      <th></th>\n",
       "      <th>Date</th>\n",
       "      <th>Location</th>\n",
       "      <th>MinTemp</th>\n",
       "      <th>MaxTemp</th>\n",
       "      <th>Rainfall</th>\n",
       "      <th>Evaporation</th>\n",
       "      <th>Sunshine</th>\n",
       "      <th>WindGustDir</th>\n",
       "      <th>WindGustSpeed</th>\n",
       "      <th>WindDir9am</th>\n",
       "      <th>...</th>\n",
       "      <th>Humidity9am</th>\n",
       "      <th>Humidity3pm</th>\n",
       "      <th>Pressure9am</th>\n",
       "      <th>Pressure3pm</th>\n",
       "      <th>Cloud9am</th>\n",
       "      <th>Cloud3pm</th>\n",
       "      <th>Temp9am</th>\n",
       "      <th>Temp3pm</th>\n",
       "      <th>RainToday</th>\n",
       "      <th>RainTomorrow</th>\n",
       "    </tr>\n",
       "  </thead>\n",
       "  <tbody>\n",
       "    <tr>\n",
       "      <th>0</th>\n",
       "      <td>2008-12-01</td>\n",
       "      <td>Albury</td>\n",
       "      <td>13.4</td>\n",
       "      <td>22.9</td>\n",
       "      <td>0.6</td>\n",
       "      <td>NaN</td>\n",
       "      <td>NaN</td>\n",
       "      <td>W</td>\n",
       "      <td>44.0</td>\n",
       "      <td>W</td>\n",
       "      <td>...</td>\n",
       "      <td>71.0</td>\n",
       "      <td>22.0</td>\n",
       "      <td>1007.7</td>\n",
       "      <td>1007.1</td>\n",
       "      <td>8.0</td>\n",
       "      <td>NaN</td>\n",
       "      <td>16.9</td>\n",
       "      <td>21.8</td>\n",
       "      <td>No</td>\n",
       "      <td>No</td>\n",
       "    </tr>\n",
       "    <tr>\n",
       "      <th>1</th>\n",
       "      <td>2008-12-02</td>\n",
       "      <td>Albury</td>\n",
       "      <td>7.4</td>\n",
       "      <td>25.1</td>\n",
       "      <td>0.0</td>\n",
       "      <td>NaN</td>\n",
       "      <td>NaN</td>\n",
       "      <td>WNW</td>\n",
       "      <td>44.0</td>\n",
       "      <td>NNW</td>\n",
       "      <td>...</td>\n",
       "      <td>44.0</td>\n",
       "      <td>25.0</td>\n",
       "      <td>1010.6</td>\n",
       "      <td>1007.8</td>\n",
       "      <td>NaN</td>\n",
       "      <td>NaN</td>\n",
       "      <td>17.2</td>\n",
       "      <td>24.3</td>\n",
       "      <td>No</td>\n",
       "      <td>No</td>\n",
       "    </tr>\n",
       "    <tr>\n",
       "      <th>2</th>\n",
       "      <td>2008-12-03</td>\n",
       "      <td>Albury</td>\n",
       "      <td>12.9</td>\n",
       "      <td>25.7</td>\n",
       "      <td>0.0</td>\n",
       "      <td>NaN</td>\n",
       "      <td>NaN</td>\n",
       "      <td>WSW</td>\n",
       "      <td>46.0</td>\n",
       "      <td>W</td>\n",
       "      <td>...</td>\n",
       "      <td>38.0</td>\n",
       "      <td>30.0</td>\n",
       "      <td>1007.6</td>\n",
       "      <td>1008.7</td>\n",
       "      <td>NaN</td>\n",
       "      <td>2.0</td>\n",
       "      <td>21.0</td>\n",
       "      <td>23.2</td>\n",
       "      <td>No</td>\n",
       "      <td>No</td>\n",
       "    </tr>\n",
       "    <tr>\n",
       "      <th>3</th>\n",
       "      <td>2008-12-04</td>\n",
       "      <td>Albury</td>\n",
       "      <td>9.2</td>\n",
       "      <td>28.0</td>\n",
       "      <td>0.0</td>\n",
       "      <td>NaN</td>\n",
       "      <td>NaN</td>\n",
       "      <td>NE</td>\n",
       "      <td>24.0</td>\n",
       "      <td>SE</td>\n",
       "      <td>...</td>\n",
       "      <td>45.0</td>\n",
       "      <td>16.0</td>\n",
       "      <td>1017.6</td>\n",
       "      <td>1012.8</td>\n",
       "      <td>NaN</td>\n",
       "      <td>NaN</td>\n",
       "      <td>18.1</td>\n",
       "      <td>26.5</td>\n",
       "      <td>No</td>\n",
       "      <td>No</td>\n",
       "    </tr>\n",
       "    <tr>\n",
       "      <th>4</th>\n",
       "      <td>2008-12-05</td>\n",
       "      <td>Albury</td>\n",
       "      <td>17.5</td>\n",
       "      <td>32.3</td>\n",
       "      <td>1.0</td>\n",
       "      <td>NaN</td>\n",
       "      <td>NaN</td>\n",
       "      <td>W</td>\n",
       "      <td>41.0</td>\n",
       "      <td>ENE</td>\n",
       "      <td>...</td>\n",
       "      <td>82.0</td>\n",
       "      <td>33.0</td>\n",
       "      <td>1010.8</td>\n",
       "      <td>1006.0</td>\n",
       "      <td>7.0</td>\n",
       "      <td>8.0</td>\n",
       "      <td>17.8</td>\n",
       "      <td>29.7</td>\n",
       "      <td>No</td>\n",
       "      <td>No</td>\n",
       "    </tr>\n",
       "    <tr>\n",
       "      <th>...</th>\n",
       "      <td>...</td>\n",
       "      <td>...</td>\n",
       "      <td>...</td>\n",
       "      <td>...</td>\n",
       "      <td>...</td>\n",
       "      <td>...</td>\n",
       "      <td>...</td>\n",
       "      <td>...</td>\n",
       "      <td>...</td>\n",
       "      <td>...</td>\n",
       "      <td>...</td>\n",
       "      <td>...</td>\n",
       "      <td>...</td>\n",
       "      <td>...</td>\n",
       "      <td>...</td>\n",
       "      <td>...</td>\n",
       "      <td>...</td>\n",
       "      <td>...</td>\n",
       "      <td>...</td>\n",
       "      <td>...</td>\n",
       "      <td>...</td>\n",
       "    </tr>\n",
       "    <tr>\n",
       "      <th>118898</th>\n",
       "      <td>2015-12-27</td>\n",
       "      <td>Uluru</td>\n",
       "      <td>20.5</td>\n",
       "      <td>34.7</td>\n",
       "      <td>0.0</td>\n",
       "      <td>NaN</td>\n",
       "      <td>NaN</td>\n",
       "      <td>E</td>\n",
       "      <td>52.0</td>\n",
       "      <td>ESE</td>\n",
       "      <td>...</td>\n",
       "      <td>23.0</td>\n",
       "      <td>12.0</td>\n",
       "      <td>1013.2</td>\n",
       "      <td>1010.1</td>\n",
       "      <td>NaN</td>\n",
       "      <td>NaN</td>\n",
       "      <td>24.3</td>\n",
       "      <td>33.0</td>\n",
       "      <td>No</td>\n",
       "      <td>No</td>\n",
       "    </tr>\n",
       "    <tr>\n",
       "      <th>118899</th>\n",
       "      <td>2015-12-28</td>\n",
       "      <td>Uluru</td>\n",
       "      <td>18.0</td>\n",
       "      <td>36.4</td>\n",
       "      <td>0.0</td>\n",
       "      <td>NaN</td>\n",
       "      <td>NaN</td>\n",
       "      <td>ESE</td>\n",
       "      <td>54.0</td>\n",
       "      <td>E</td>\n",
       "      <td>...</td>\n",
       "      <td>17.0</td>\n",
       "      <td>7.0</td>\n",
       "      <td>1014.7</td>\n",
       "      <td>1010.9</td>\n",
       "      <td>NaN</td>\n",
       "      <td>NaN</td>\n",
       "      <td>26.7</td>\n",
       "      <td>35.0</td>\n",
       "      <td>No</td>\n",
       "      <td>No</td>\n",
       "    </tr>\n",
       "    <tr>\n",
       "      <th>118900</th>\n",
       "      <td>2015-12-29</td>\n",
       "      <td>Uluru</td>\n",
       "      <td>17.5</td>\n",
       "      <td>37.1</td>\n",
       "      <td>0.0</td>\n",
       "      <td>NaN</td>\n",
       "      <td>NaN</td>\n",
       "      <td>E</td>\n",
       "      <td>56.0</td>\n",
       "      <td>E</td>\n",
       "      <td>...</td>\n",
       "      <td>12.0</td>\n",
       "      <td>7.0</td>\n",
       "      <td>1012.6</td>\n",
       "      <td>1007.5</td>\n",
       "      <td>NaN</td>\n",
       "      <td>NaN</td>\n",
       "      <td>28.1</td>\n",
       "      <td>34.7</td>\n",
       "      <td>No</td>\n",
       "      <td>No</td>\n",
       "    </tr>\n",
       "    <tr>\n",
       "      <th>118901</th>\n",
       "      <td>2015-12-30</td>\n",
       "      <td>Uluru</td>\n",
       "      <td>20.0</td>\n",
       "      <td>38.9</td>\n",
       "      <td>0.0</td>\n",
       "      <td>NaN</td>\n",
       "      <td>NaN</td>\n",
       "      <td>E</td>\n",
       "      <td>59.0</td>\n",
       "      <td>E</td>\n",
       "      <td>...</td>\n",
       "      <td>12.0</td>\n",
       "      <td>12.0</td>\n",
       "      <td>1007.2</td>\n",
       "      <td>1002.6</td>\n",
       "      <td>NaN</td>\n",
       "      <td>1.0</td>\n",
       "      <td>31.3</td>\n",
       "      <td>38.4</td>\n",
       "      <td>No</td>\n",
       "      <td>No</td>\n",
       "    </tr>\n",
       "    <tr>\n",
       "      <th>118902</th>\n",
       "      <td>2015-12-31</td>\n",
       "      <td>Uluru</td>\n",
       "      <td>19.3</td>\n",
       "      <td>37.4</td>\n",
       "      <td>0.0</td>\n",
       "      <td>NaN</td>\n",
       "      <td>NaN</td>\n",
       "      <td>SE</td>\n",
       "      <td>56.0</td>\n",
       "      <td>ESE</td>\n",
       "      <td>...</td>\n",
       "      <td>46.0</td>\n",
       "      <td>18.0</td>\n",
       "      <td>1007.3</td>\n",
       "      <td>1003.7</td>\n",
       "      <td>NaN</td>\n",
       "      <td>NaN</td>\n",
       "      <td>25.8</td>\n",
       "      <td>35.8</td>\n",
       "      <td>No</td>\n",
       "      <td>No</td>\n",
       "    </tr>\n",
       "  </tbody>\n",
       "</table>\n",
       "<p>118903 rows × 23 columns</p>\n",
       "</div>"
      ],
      "text/plain": [
       "              Date Location  MinTemp  MaxTemp  Rainfall  Evaporation  \\\n",
       "0       2008-12-01   Albury     13.4     22.9       0.6          NaN   \n",
       "1       2008-12-02   Albury      7.4     25.1       0.0          NaN   \n",
       "2       2008-12-03   Albury     12.9     25.7       0.0          NaN   \n",
       "3       2008-12-04   Albury      9.2     28.0       0.0          NaN   \n",
       "4       2008-12-05   Albury     17.5     32.3       1.0          NaN   \n",
       "...            ...      ...      ...      ...       ...          ...   \n",
       "118898  2015-12-27    Uluru     20.5     34.7       0.0          NaN   \n",
       "118899  2015-12-28    Uluru     18.0     36.4       0.0          NaN   \n",
       "118900  2015-12-29    Uluru     17.5     37.1       0.0          NaN   \n",
       "118901  2015-12-30    Uluru     20.0     38.9       0.0          NaN   \n",
       "118902  2015-12-31    Uluru     19.3     37.4       0.0          NaN   \n",
       "\n",
       "        Sunshine WindGustDir  WindGustSpeed WindDir9am  ... Humidity9am  \\\n",
       "0            NaN           W           44.0          W  ...        71.0   \n",
       "1            NaN         WNW           44.0        NNW  ...        44.0   \n",
       "2            NaN         WSW           46.0          W  ...        38.0   \n",
       "3            NaN          NE           24.0         SE  ...        45.0   \n",
       "4            NaN           W           41.0        ENE  ...        82.0   \n",
       "...          ...         ...            ...        ...  ...         ...   \n",
       "118898       NaN           E           52.0        ESE  ...        23.0   \n",
       "118899       NaN         ESE           54.0          E  ...        17.0   \n",
       "118900       NaN           E           56.0          E  ...        12.0   \n",
       "118901       NaN           E           59.0          E  ...        12.0   \n",
       "118902       NaN          SE           56.0        ESE  ...        46.0   \n",
       "\n",
       "        Humidity3pm  Pressure9am  Pressure3pm  Cloud9am  Cloud3pm  Temp9am  \\\n",
       "0              22.0       1007.7       1007.1       8.0       NaN     16.9   \n",
       "1              25.0       1010.6       1007.8       NaN       NaN     17.2   \n",
       "2              30.0       1007.6       1008.7       NaN       2.0     21.0   \n",
       "3              16.0       1017.6       1012.8       NaN       NaN     18.1   \n",
       "4              33.0       1010.8       1006.0       7.0       8.0     17.8   \n",
       "...             ...          ...          ...       ...       ...      ...   \n",
       "118898         12.0       1013.2       1010.1       NaN       NaN     24.3   \n",
       "118899          7.0       1014.7       1010.9       NaN       NaN     26.7   \n",
       "118900          7.0       1012.6       1007.5       NaN       NaN     28.1   \n",
       "118901         12.0       1007.2       1002.6       NaN       1.0     31.3   \n",
       "118902         18.0       1007.3       1003.7       NaN       NaN     25.8   \n",
       "\n",
       "        Temp3pm  RainToday  RainTomorrow  \n",
       "0          21.8         No            No  \n",
       "1          24.3         No            No  \n",
       "2          23.2         No            No  \n",
       "3          26.5         No            No  \n",
       "4          29.7         No            No  \n",
       "...         ...        ...           ...  \n",
       "118898     33.0         No            No  \n",
       "118899     35.0         No            No  \n",
       "118900     34.7         No            No  \n",
       "118901     38.4         No            No  \n",
       "118902     35.8         No            No  \n",
       "\n",
       "[118903 rows x 23 columns]"
      ]
     },
     "execution_count": 6,
     "metadata": {},
     "output_type": "execute_result"
    }
   ],
   "source": [
    "df"
   ]
  },
  {
   "cell_type": "code",
   "execution_count": 7,
   "id": "fb386871-fd9a-4246-8b7b-6818df55e759",
   "metadata": {},
   "outputs": [],
   "source": [
    "select_columns = ['MaxTemp', 'Temp3pm', 'WindGustSpeed']\n",
    "raw_data = df[select_columns].copy()\n",
    "raw_data.dropna(inplace=True)\n",
    "\n",
    "check_column = 'Temp3pm'"
   ]
  },
  {
   "cell_type": "code",
   "execution_count": 8,
   "id": "eeb9095b-2040-4a6d-bd1c-8fa748eff6c8",
   "metadata": {},
   "outputs": [],
   "source": [
    "def show_result(column_name, origin_data, new_data=None):\n",
    "    list_data = [origin_data]\n",
    "\n",
    "    if isinstance(new_data, pd.DataFrame):\n",
    "        list_data.append(new_data)\n",
    "        \n",
    "    for data in list_data:\n",
    "        fig, (ax_box, ax_hist) = plt.subplots(2, sharex=True, figsize=(14,5),\n",
    "                                          gridspec_kw={\"height_ratios\": (.2, .8)}\n",
    "                                         )\n",
    "\n",
    "        sns.boxplot(data=data, x=column_name, ax=ax_box)\n",
    "        sns.histplot(data=data, x=column_name, ax=ax_hist, bins=100)\n",
    "\n",
    "        ax_box.set(xlabel='')\n",
    "        plt.show()"
   ]
  },
  {
   "cell_type": "code",
   "execution_count": 9,
   "id": "717ee5ba-92e1-45e0-b822-1230a88b0234",
   "metadata": {},
   "outputs": [
    {
     "data": {
      "image/png": "[encoded data removed]",
      "text/plain": [
       "<Figure size 1008x360 with 2 Axes>"
      ]
     },
     "metadata": {
      "needs_background": "light"
     },
     "output_type": "display_data"
    }
   ],
   "source": [
    "show_result(check_column, raw_data)"
   ]
  },
  {
   "cell_type": "markdown",
   "id": "c278d046-4551-4619-9b51-97a0bb528392",
   "metadata": {},
   "source": [
    "### Strategy = median"
   ]
  },
  {
   "cell_type": "code",
   "execution_count": 10,
   "id": "83c0b737-ecc4-411f-874f-0a63a8909b23",
   "metadata": {},
   "outputs": [],
   "source": [
    "outlier_median = OutliersTrim(strategy='median')"
   ]
  },
  {
   "cell_type": "code",
   "execution_count": 11,
   "id": "5c3f4e09-61ab-476b-a21e-8c5ae995721c",
   "metadata": {},
   "outputs": [
    {
     "data": {
      "text/plain": [
       "OutliersTrim(strategy='median')"
      ]
     },
     "execution_count": 11,
     "metadata": {},
     "output_type": "execute_result"
    }
   ],
   "source": [
    "outlier_median.fit(raw_data)"
   ]
  },
  {
   "cell_type": "code",
   "execution_count": 12,
   "id": "d4f7d958-a3a6-4679-a2bc-4056272f9940",
   "metadata": {},
   "outputs": [
    {
     "data": {
      "text/plain": [
       "{'method_search': 'smart', 'strategy': 'median'}"
      ]
     },
     "execution_count": 12,
     "metadata": {},
     "output_type": "execute_result"
    }
   ],
   "source": [
    "outlier_median.get_params()"
   ]
  },
  {
   "cell_type": "code",
   "execution_count": 13,
   "id": "7d5a32bf-a294-43a2-94d6-36a295585a53",
   "metadata": {},
   "outputs": [
    {
     "data": {
      "text/plain": [
       "{'MaxTemp': (1.7846924474079202, 44.47307065874882, 22.6),\n",
       " 'Temp3pm': (0.6903528692254177, 42.56273015243744, 21.0),\n",
       " 'WindGustSpeed': (5.5, 73.5, 39.0)}"
      ]
     },
     "execution_count": 13,
     "metadata": {},
     "output_type": "execute_result"
    }
   ],
   "source": [
    "outlier_median._otliers_dict"
   ]
  },
  {
   "cell_type": "code",
   "execution_count": 14,
   "id": "b52a5439-2347-4537-b629-1390a2906383",
   "metadata": {},
   "outputs": [],
   "source": [
    "median_data = outlier_median.transform(raw_data)"
   ]
  },
  {
   "cell_type": "code",
   "execution_count": 15,
   "id": "1af6c8b4-79b2-42f2-a9cc-a9acd3863af3",
   "metadata": {},
   "outputs": [
    {
     "data": {
      "image/png": "[encoded data removed]",
      "text/plain": [
       "<Figure size 1008x360 with 2 Axes>"
      ]
     },
     "metadata": {
      "needs_background": "light"
     },
     "output_type": "display_data"
    },
    {
     "data": {
      "image/png": "[encoded data removed]",
      "text/plain": [
       "<Figure size 1008x360 with 2 Axes>"
      ]
     },
     "metadata": {
      "needs_background": "light"
     },
     "output_type": "display_data"
    }
   ],
   "source": [
    "show_result(check_column, raw_data, median_data)"
   ]
  },
  {
   "cell_type": "markdown",
   "id": "de6dd05e-8030-4941-92d9-6661f123a350",
   "metadata": {},
   "source": [
    "### Strategy = border"
   ]
  },
  {
   "cell_type": "code",
   "execution_count": 16,
   "id": "3f015c9c-85be-4a82-a0a5-f54bb122670a",
   "metadata": {},
   "outputs": [],
   "source": [
    "outlier_border = OutliersTrim(strategy='border')"
   ]
  },
  {
   "cell_type": "code",
   "execution_count": 17,
   "id": "36af1cc3-7783-43cd-9dda-fcbbcd9bd4d0",
   "metadata": {},
   "outputs": [
    {
     "data": {
      "text/plain": [
       "OutliersTrim(strategy='border')"
      ]
     },
     "execution_count": 17,
     "metadata": {},
     "output_type": "execute_result"
    }
   ],
   "source": [
    "outlier_border.fit(raw_data)"
   ]
  },
  {
   "cell_type": "code",
   "execution_count": 18,
   "id": "8e694796-4862-43f0-a9a9-a3dda68547c8",
   "metadata": {},
   "outputs": [
    {
     "data": {
      "text/plain": [
       "{'method_search': 'smart', 'strategy': 'border'}"
      ]
     },
     "execution_count": 18,
     "metadata": {},
     "output_type": "execute_result"
    }
   ],
   "source": [
    "outlier_border.get_params()"
   ]
  },
  {
   "cell_type": "code",
   "execution_count": 19,
   "id": "222443a0-8ca8-4c75-8769-7c705086f1de",
   "metadata": {},
   "outputs": [
    {
     "data": {
      "text/plain": [
       "{'MaxTemp': (1.7846924474079202, 44.47307065874882, None),\n",
       " 'Temp3pm': (0.6903528692254177, 42.56273015243744, None),\n",
       " 'WindGustSpeed': (5.5, 73.5, None)}"
      ]
     },
     "execution_count": 19,
     "metadata": {},
     "output_type": "execute_result"
    }
   ],
   "source": [
    "outlier_border._otliers_dict"
   ]
  },
  {
   "cell_type": "code",
   "execution_count": 20,
   "id": "1dcef293-930b-4793-bebc-72d1dbb51ab8",
   "metadata": {},
   "outputs": [],
   "source": [
    "border_data = outlier_border.transform(raw_data)"
   ]
  },
  {
   "cell_type": "code",
   "execution_count": 21,
   "id": "aa35e03c-6553-4604-852d-87b3add90b3c",
   "metadata": {},
   "outputs": [
    {
     "data": {
      "image/png": "[encoded data removed]",
      "text/plain": [
       "<Figure size 1008x360 with 2 Axes>"
      ]
     },
     "metadata": {
      "needs_background": "light"
     },
     "output_type": "display_data"
    },
    {
     "data": {
      "image/png": "[encoded data removed]",
      "text/plain": [
       "<Figure size 1008x360 with 2 Axes>"
      ]
     },
     "metadata": {
      "needs_background": "light"
     },
     "output_type": "display_data"
    }
   ],
   "source": [
    "show_result(check_column, raw_data, border_data)"
   ]
  },
  {
   "cell_type": "markdown",
   "id": "ec5d2cdd-4705-430d-822b-9f076ff57790",
   "metadata": {},
   "source": [
    "### Strategy = unique"
   ]
  },
  {
   "cell_type": "code",
   "execution_count": 22,
   "id": "62941a84-75a6-4181-9120-ae0ee78d658e",
   "metadata": {},
   "outputs": [],
   "source": [
    "outlier_unique = OutliersTrim(strategy='unique')"
   ]
  },
  {
   "cell_type": "code",
   "execution_count": 23,
   "id": "e014a809-d5b6-4985-8ede-3ef756d1d6af",
   "metadata": {},
   "outputs": [
    {
     "data": {
      "text/plain": [
       "OutliersTrim(strategy='unique')"
      ]
     },
     "execution_count": 23,
     "metadata": {},
     "output_type": "execute_result"
    }
   ],
   "source": [
    "outlier_unique.fit(raw_data)"
   ]
  },
  {
   "cell_type": "code",
   "execution_count": 24,
   "id": "f4113cbb-b450-4cd1-ae4a-c1f612fc62eb",
   "metadata": {},
   "outputs": [
    {
     "data": {
      "text/plain": [
       "{'method_search': 'smart', 'strategy': 'border'}"
      ]
     },
     "execution_count": 24,
     "metadata": {},
     "output_type": "execute_result"
    }
   ],
   "source": [
    "outlier_border.get_params()"
   ]
  },
  {
   "cell_type": "code",
   "execution_count": 25,
   "id": "68553864-34c8-4e46-b538-aa45e8ab5550",
   "metadata": {},
   "outputs": [
    {
     "data": {
      "text/plain": [
       "{'MaxTemp': (1.7846924474079202, 44.47307065874882, 9999),\n",
       " 'Temp3pm': (0.6903528692254177, 42.56273015243744, 9999),\n",
       " 'WindGustSpeed': (5.5, 73.5, 9999)}"
      ]
     },
     "execution_count": 25,
     "metadata": {},
     "output_type": "execute_result"
    }
   ],
   "source": [
    "outlier_unique._otliers_dict"
   ]
  },
  {
   "cell_type": "code",
   "execution_count": 26,
   "id": "8474812a-7254-40fb-a8c9-aa50d6890b4a",
   "metadata": {},
   "outputs": [],
   "source": [
    "unique_data = outlier_unique.transform(raw_data)"
   ]
  },
  {
   "cell_type": "code",
   "execution_count": 27,
   "id": "9be9c5ec-75be-44a6-965b-755ec3327541",
   "metadata": {},
   "outputs": [
    {
     "data": {
      "image/png": "[encoded data removed]",
      "text/plain": [
       "<Figure size 1008x360 with 2 Axes>"
      ]
     },
     "metadata": {
      "needs_background": "light"
     },
     "output_type": "display_data"
    },
    {
     "data": {
      "image/png": "[encoded data removed]",
      "text/plain": [
       "<Figure size 1008x360 with 2 Axes>"
      ]
     },
     "metadata": {
      "needs_background": "light"
     },
     "output_type": "display_data"
    }
   ],
   "source": [
    "show_result(check_column, raw_data, unique_data)"
   ]
  },
  {
   "cell_type": "markdown",
   "id": "dbcd40f9-cb77-4ba4-935e-32281a5d54ae",
   "metadata": {},
   "source": [
    "### Strategy = mode / most_frequent"
   ]
  },
  {
   "cell_type": "code",
   "execution_count": 28,
   "id": "9a721af6-dacd-427e-8ee8-f566a51ef384",
   "metadata": {},
   "outputs": [],
   "source": [
    "outlier_mode = OutliersTrim(strategy='most_frequent')"
   ]
  },
  {
   "cell_type": "code",
   "execution_count": 29,
   "id": "4f9dc74a-53e8-4774-8d62-b360d70b46eb",
   "metadata": {},
   "outputs": [
    {
     "data": {
      "text/plain": [
       "OutliersTrim(strategy='most_frequent')"
      ]
     },
     "execution_count": 29,
     "metadata": {},
     "output_type": "execute_result"
    }
   ],
   "source": [
    "outlier_mode.fit(raw_data)"
   ]
  },
  {
   "cell_type": "code",
   "execution_count": 30,
   "id": "38810abe-7d81-49da-bff0-97d01de4b897",
   "metadata": {},
   "outputs": [
    {
     "data": {
      "text/plain": [
       "{'method_search': 'smart', 'strategy': 'most_frequent'}"
      ]
     },
     "execution_count": 30,
     "metadata": {},
     "output_type": "execute_result"
    }
   ],
   "source": [
    "outlier_mode.get_params()"
   ]
  },
  {
   "cell_type": "code",
   "execution_count": 31,
   "id": "df3d1fd0-4d20-45de-b238-17a8f8b10f67",
   "metadata": {},
   "outputs": [
    {
     "data": {
      "text/plain": [
       "{'MaxTemp': (1.7846924474079202, 44.47307065874882, 19.9),\n",
       " 'Temp3pm': (0.6903528692254177, 42.56273015243744, 18.4),\n",
       " 'WindGustSpeed': (5.5, 73.5, 35.0)}"
      ]
     },
     "execution_count": 31,
     "metadata": {},
     "output_type": "execute_result"
    }
   ],
   "source": [
    "outlier_mode._otliers_dict"
   ]
  },
  {
   "cell_type": "code",
   "execution_count": 32,
   "id": "a4c0ebf2-b5f3-47c5-bfea-10b235cd2c4d",
   "metadata": {},
   "outputs": [],
   "source": [
    "mode_data = outlier_mode.transform(raw_data)"
   ]
  },
  {
   "cell_type": "code",
   "execution_count": 33,
   "id": "27902aa5-c9be-43c5-9ff6-156bf4a9e175",
   "metadata": {},
   "outputs": [
    {
     "data": {
      "image/png": "[encoded data removed]",
      "text/plain": [
       "<Figure size 1008x360 with 2 Axes>"
      ]
     },
     "metadata": {
      "needs_background": "light"
     },
     "output_type": "display_data"
    },
    {
     "data": {
      "image/png": "[encoded data removed]",
      "text/plain": [
       "<Figure size 1008x360 with 2 Axes>"
      ]
     },
     "metadata": {
      "needs_background": "light"
     },
     "output_type": "display_data"
    }
   ],
   "source": [
    "show_result(check_column, raw_data, mode_data)"
   ]
  },
  {
   "cell_type": "code",
   "execution_count": null,
   "id": "ce3aab6a-aba1-4532-a6bf-17efa5edfd4e",
   "metadata": {},
   "outputs": [],
   "source": []
  }
 ],
 "metadata": {
  "kernelspec": {
   "display_name": "Python 3",
   "language": "python",
   "name": "python3"
  },
  "language_info": {
   "codemirror_mode": {
    "name": "ipython",
    "version": 3
   },
   "file_extension": ".py",
   "mimetype": "text/x-python",
   "name": "python",
   "nbconvert_exporter": "python",
   "pygments_lexer": "ipython3",
   "version": "3.8.10"
  }
 },
 "nbformat": 4,
 "nbformat_minor": 5
}
