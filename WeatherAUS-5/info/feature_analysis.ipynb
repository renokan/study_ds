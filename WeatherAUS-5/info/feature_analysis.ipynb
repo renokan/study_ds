{
 "cells": [
  {
   "cell_type": "code",
   "execution_count": 1,
   "metadata": {},
   "outputs": [
    {
     "name": "stdout",
     "output_type": "stream",
     "text": [
      "/home/anatoly/Private/GitHub/renokan/study_ds/WeatherAUS-5\n"
     ]
    }
   ],
   "source": [
    "%cd .."
   ]
  },
  {
   "cell_type": "markdown",
   "metadata": {},
   "source": [
    "## Feature analysis"
   ]
  },
  {
   "cell_type": "markdown",
   "metadata": {},
   "source": [
    "### Importing the modules"
   ]
  },
  {
   "cell_type": "code",
   "execution_count": 2,
   "metadata": {},
   "outputs": [],
   "source": [
    "import pandas as pd\n",
    "import matplotlib.pyplot as plt\n",
    "import seaborn as sns\n",
    "\n",
    "import category_encoders as ce\n",
    "import warnings\n",
    "warnings.simplefilter(action='ignore', category=FutureWarning)\n",
    "# FutureWarning: is_categorical is deprecated and will be removed\n",
    "# in a future version.  Use is_categorical_dtype instead\n",
    "\n",
    "%matplotlib inline"
   ]
  },
  {
   "cell_type": "code",
   "execution_count": 3,
   "metadata": {},
   "outputs": [
    {
     "name": "stdout",
     "output_type": "stream",
     "text": [
      "-rw-rw-r-- 1 anatoly 12807959 июл 27 23:56 actual_data.csv\n",
      "-rw-rw-r-- 1 anatoly  2793277 июл 27 23:56 future_data.csv\n",
      "-rw-rw-r-- 1 anatoly    35935 авг  1 01:50 split_dataset.ipynb\n",
      "-rw-rw-r-- 1 anatoly 14094055 дек 11  2020 weatherAUS.csv\n"
     ]
    }
   ],
   "source": [
    "%lf data/"
   ]
  },
  {
   "cell_type": "code",
   "execution_count": 4,
   "metadata": {},
   "outputs": [
    {
     "data": {
      "text/plain": [
       "(118903, 23)"
      ]
     },
     "execution_count": 4,
     "metadata": {},
     "output_type": "execute_result"
    }
   ],
   "source": [
    "df = pd.read_csv(\"data/actual_data.csv\")\n",
    "df.shape"
   ]
  },
  {
   "cell_type": "code",
   "execution_count": 5,
   "metadata": {},
   "outputs": [
    {
     "name": "stdout",
     "output_type": "stream",
     "text": [
      "<class 'pandas.core.frame.DataFrame'>\n",
      "RangeIndex: 118903 entries, 0 to 118902\n",
      "Data columns (total 23 columns):\n",
      " #   Column         Non-Null Count   Dtype  \n",
      "---  ------         --------------   -----  \n",
      " 0   Date           118903 non-null  object \n",
      " 1   Location       118903 non-null  object \n",
      " 2   MinTemp        117751 non-null  float64\n",
      " 3   MaxTemp        117958 non-null  float64\n",
      " 4   Rainfall       116219 non-null  float64\n",
      " 5   Evaporation    71726 non-null   float64\n",
      " 6   Sunshine       67454 non-null   float64\n",
      " 7   WindGustDir    110213 non-null  object \n",
      " 8   WindGustSpeed  110276 non-null  float64\n",
      " 9   WindDir9am     109976 non-null  object \n",
      " 10  WindDir3pm     115971 non-null  object \n",
      " 11  WindSpeed9am   117319 non-null  float64\n",
      " 12  WindSpeed3pm   117027 non-null  float64\n",
      " 13  Humidity9am    116719 non-null  float64\n",
      " 14  Humidity3pm    116355 non-null  float64\n",
      " 15  Pressure9am    106707 non-null  float64\n",
      " 16  Pressure3pm    106745 non-null  float64\n",
      " 17  Cloud9am       74693 non-null   float64\n",
      " 18  Cloud3pm       73245 non-null   float64\n",
      " 19  Temp9am        117395 non-null  float64\n",
      " 20  Temp3pm        117072 non-null  float64\n",
      " 21  RainToday      116219 non-null  object \n",
      " 22  RainTomorrow   116219 non-null  object \n",
      "dtypes: float64(16), object(7)\n",
      "memory usage: 62.5 MB\n"
     ]
    }
   ],
   "source": [
    "df.info(memory_usage='deep')"
   ]
  },
  {
   "cell_type": "code",
   "execution_count": 6,
   "metadata": {},
   "outputs": [
    {
     "data": {
      "text/html": [
       "<div>\n",
       "<style scoped>\n",
       "    .dataframe tbody tr th:only-of-type {\n",
       "        vertical-align: middle;\n",
       "    }\n",
       "\n",
       "    .dataframe tbody tr th {\n",
       "        vertical-align: top;\n",
       "    }\n",
       "\n",
       "    .dataframe thead th {\n",
       "        text-align: right;\n",
       "    }\n",
       "</style>\n",
       "<table border=\"1\" class=\"dataframe\">\n",
       "  <thead>\n",
       "    <tr style=\"text-align: right;\">\n",
       "      <th></th>\n",
       "      <th>Date</th>\n",
       "      <th>Location</th>\n",
       "      <th>MinTemp</th>\n",
       "      <th>MaxTemp</th>\n",
       "      <th>Rainfall</th>\n",
       "      <th>Evaporation</th>\n",
       "      <th>Sunshine</th>\n",
       "      <th>WindGustDir</th>\n",
       "      <th>WindGustSpeed</th>\n",
       "      <th>WindDir9am</th>\n",
       "      <th>...</th>\n",
       "      <th>Humidity9am</th>\n",
       "      <th>Humidity3pm</th>\n",
       "      <th>Pressure9am</th>\n",
       "      <th>Pressure3pm</th>\n",
       "      <th>Cloud9am</th>\n",
       "      <th>Cloud3pm</th>\n",
       "      <th>Temp9am</th>\n",
       "      <th>Temp3pm</th>\n",
       "      <th>RainToday</th>\n",
       "      <th>RainTomorrow</th>\n",
       "    </tr>\n",
       "  </thead>\n",
       "  <tbody>\n",
       "    <tr>\n",
       "      <th>0</th>\n",
       "      <td>2008-12-01</td>\n",
       "      <td>Albury</td>\n",
       "      <td>13.4</td>\n",
       "      <td>22.9</td>\n",
       "      <td>0.6</td>\n",
       "      <td>NaN</td>\n",
       "      <td>NaN</td>\n",
       "      <td>W</td>\n",
       "      <td>44.0</td>\n",
       "      <td>W</td>\n",
       "      <td>...</td>\n",
       "      <td>71.0</td>\n",
       "      <td>22.0</td>\n",
       "      <td>1007.7</td>\n",
       "      <td>1007.1</td>\n",
       "      <td>8.0</td>\n",
       "      <td>NaN</td>\n",
       "      <td>16.9</td>\n",
       "      <td>21.8</td>\n",
       "      <td>No</td>\n",
       "      <td>No</td>\n",
       "    </tr>\n",
       "    <tr>\n",
       "      <th>1</th>\n",
       "      <td>2008-12-02</td>\n",
       "      <td>Albury</td>\n",
       "      <td>7.4</td>\n",
       "      <td>25.1</td>\n",
       "      <td>0.0</td>\n",
       "      <td>NaN</td>\n",
       "      <td>NaN</td>\n",
       "      <td>WNW</td>\n",
       "      <td>44.0</td>\n",
       "      <td>NNW</td>\n",
       "      <td>...</td>\n",
       "      <td>44.0</td>\n",
       "      <td>25.0</td>\n",
       "      <td>1010.6</td>\n",
       "      <td>1007.8</td>\n",
       "      <td>NaN</td>\n",
       "      <td>NaN</td>\n",
       "      <td>17.2</td>\n",
       "      <td>24.3</td>\n",
       "      <td>No</td>\n",
       "      <td>No</td>\n",
       "    </tr>\n",
       "  </tbody>\n",
       "</table>\n",
       "<p>2 rows × 23 columns</p>\n",
       "</div>"
      ],
      "text/plain": [
       "         Date Location  MinTemp  MaxTemp  Rainfall  Evaporation  Sunshine  \\\n",
       "0  2008-12-01   Albury     13.4     22.9       0.6          NaN       NaN   \n",
       "1  2008-12-02   Albury      7.4     25.1       0.0          NaN       NaN   \n",
       "\n",
       "  WindGustDir  WindGustSpeed WindDir9am  ... Humidity9am  Humidity3pm  \\\n",
       "0           W           44.0          W  ...        71.0         22.0   \n",
       "1         WNW           44.0        NNW  ...        44.0         25.0   \n",
       "\n",
       "   Pressure9am  Pressure3pm  Cloud9am  Cloud3pm  Temp9am  Temp3pm  RainToday  \\\n",
       "0       1007.7       1007.1       8.0       NaN     16.9     21.8         No   \n",
       "1       1010.6       1007.8       NaN       NaN     17.2     24.3         No   \n",
       "\n",
       "   RainTomorrow  \n",
       "0            No  \n",
       "1            No  \n",
       "\n",
       "[2 rows x 23 columns]"
      ]
     },
     "execution_count": 6,
     "metadata": {},
     "output_type": "execute_result"
    }
   ],
   "source": [
    "df.head(2)"
   ]
  },
  {
   "cell_type": "markdown",
   "metadata": {},
   "source": [
    "## Checking for duplicates and missing values in rows"
   ]
  },
  {
   "cell_type": "code",
   "execution_count": 7,
   "metadata": {},
   "outputs": [
    {
     "data": {
      "text/plain": [
       "0"
      ]
     },
     "execution_count": 7,
     "metadata": {},
     "output_type": "execute_result"
    }
   ],
   "source": [
    "df.duplicated(['Date', 'Location']).sum()"
   ]
  },
  {
   "cell_type": "code",
   "execution_count": 8,
   "metadata": {},
   "outputs": [
    {
     "data": {
      "text/plain": [
       "20     7004\n",
       "19    21646\n",
       "21    14496\n",
       "16     1953\n",
       "15      797\n",
       "18     3130\n",
       "17     8365\n",
       "dtype: int64"
      ]
     },
     "execution_count": 8,
     "metadata": {},
     "output_type": "execute_result"
    }
   ],
   "source": [
    "fullness = df.notna().sum(axis=1)\n",
    "fullness.value_counts(sort=False)[:7]"
   ]
  },
  {
   "cell_type": "code",
   "execution_count": 9,
   "metadata": {},
   "outputs": [
    {
     "data": {
      "text/plain": [
       "Location\n",
       "Albury            3\n",
       "BadgerysCreek     6\n",
       "CoffsHarbour     12\n",
       "Dartmoor         63\n",
       "MountGinini      24\n",
       "Newcastle        57\n",
       "Nhil              5\n",
       "NorahHead        15\n",
       "PearceRAAF        1\n",
       "Penrith           5\n",
       "Richmond          4\n",
       "SalmonGums       29\n",
       "Uluru             1\n",
       "Walpole          23\n",
       "Wollongong        3\n",
       "dtype: int64"
      ]
     },
     "execution_count": 9,
     "metadata": {},
     "output_type": "execute_result"
    }
   ],
   "source": [
    "check = df.loc[fullness < 5]\n",
    "check.groupby('Location').size()"
   ]
  },
  {
   "cell_type": "code",
   "execution_count": 10,
   "metadata": {},
   "outputs": [
    {
     "data": {
      "text/plain": [
       "Date             251\n",
       "Location         251\n",
       "MinTemp            4\n",
       "MaxTemp           21\n",
       "Rainfall           5\n",
       "Evaporation       64\n",
       "Sunshine          64\n",
       "WindGustDir        0\n",
       "WindGustSpeed      0\n",
       "WindDir9am         0\n",
       "WindDir3pm         0\n",
       "WindSpeed9am       0\n",
       "WindSpeed3pm       0\n",
       "Humidity9am        0\n",
       "Humidity3pm        3\n",
       "Pressure9am        3\n",
       "Pressure3pm        3\n",
       "Cloud9am           0\n",
       "Cloud3pm           0\n",
       "Temp9am            0\n",
       "Temp3pm            3\n",
       "RainToday          5\n",
       "RainTomorrow      15\n",
       "dtype: int64"
      ]
     },
     "execution_count": 10,
     "metadata": {},
     "output_type": "execute_result"
    }
   ],
   "source": [
    "check.count()"
   ]
  },
  {
   "cell_type": "markdown",
   "metadata": {},
   "source": [
    "## Checking for missing values in columns"
   ]
  },
  {
   "cell_type": "code",
   "execution_count": 11,
   "metadata": {},
   "outputs": [
    {
     "data": {
      "text/plain": [
       "Date                0.0 %\n",
       "Location            0.0 %\n",
       "MinTemp           0.969 %\n",
       "MaxTemp           0.795 %\n",
       "Rainfall          2.257 %\n",
       "Evaporation      39.677 %\n",
       "Sunshine          43.27 %\n",
       "WindGustDir       7.308 %\n",
       "WindGustSpeed     7.255 %\n",
       "WindDir9am        7.508 %\n",
       "WindDir3pm        2.466 %\n",
       "WindSpeed9am      1.332 %\n",
       "WindSpeed3pm      1.578 %\n",
       "Humidity9am       1.837 %\n",
       "Humidity3pm       2.143 %\n",
       "Pressure9am      10.257 %\n",
       "Pressure3pm      10.225 %\n",
       "Cloud9am         37.182 %\n",
       "Cloud3pm         38.399 %\n",
       "Temp9am           1.268 %\n",
       "Temp3pm            1.54 %\n",
       "RainToday         2.257 %\n",
       "RainTomorrow      2.257 %\n",
       "dtype: object"
      ]
     },
     "execution_count": 11,
     "metadata": {},
     "output_type": "execute_result"
    }
   ],
   "source": [
    "isna_stat = df.isna().mean().mul(100).round(3)\n",
    "isna_stat.map(\"{} %\".format)"
   ]
  },
  {
   "cell_type": "code",
   "execution_count": 12,
   "metadata": {},
   "outputs": [],
   "source": [
    "big_isna = isna_stat[isna_stat > 35].index.tolist()"
   ]
  },
  {
   "cell_type": "code",
   "execution_count": 13,
   "metadata": {},
   "outputs": [
    {
     "data": {
      "text/html": [
       "<div>\n",
       "<style scoped>\n",
       "    .dataframe tbody tr th:only-of-type {\n",
       "        vertical-align: middle;\n",
       "    }\n",
       "\n",
       "    .dataframe tbody tr th {\n",
       "        vertical-align: top;\n",
       "    }\n",
       "\n",
       "    .dataframe thead th {\n",
       "        text-align: right;\n",
       "    }\n",
       "</style>\n",
       "<table border=\"1\" class=\"dataframe\">\n",
       "  <thead>\n",
       "    <tr style=\"text-align: right;\">\n",
       "      <th></th>\n",
       "      <th>Evaporation</th>\n",
       "      <th>Sunshine</th>\n",
       "      <th>Cloud9am</th>\n",
       "      <th>Cloud3pm</th>\n",
       "    </tr>\n",
       "  </thead>\n",
       "  <tbody>\n",
       "    <tr>\n",
       "      <th>count</th>\n",
       "      <td>71726.000000</td>\n",
       "      <td>67454.000000</td>\n",
       "      <td>74693.000000</td>\n",
       "      <td>73245.000000</td>\n",
       "    </tr>\n",
       "    <tr>\n",
       "      <th>mean</th>\n",
       "      <td>5.360139</td>\n",
       "      <td>7.605868</td>\n",
       "      <td>4.343285</td>\n",
       "      <td>4.434801</td>\n",
       "    </tr>\n",
       "    <tr>\n",
       "      <th>std</th>\n",
       "      <td>4.043464</td>\n",
       "      <td>3.785760</td>\n",
       "      <td>2.876682</td>\n",
       "      <td>2.704868</td>\n",
       "    </tr>\n",
       "    <tr>\n",
       "      <th>min</th>\n",
       "      <td>0.000000</td>\n",
       "      <td>0.000000</td>\n",
       "      <td>0.000000</td>\n",
       "      <td>0.000000</td>\n",
       "    </tr>\n",
       "    <tr>\n",
       "      <th>25%</th>\n",
       "      <td>2.600000</td>\n",
       "      <td>4.800000</td>\n",
       "      <td>1.000000</td>\n",
       "      <td>2.000000</td>\n",
       "    </tr>\n",
       "    <tr>\n",
       "      <th>50%</th>\n",
       "      <td>4.600000</td>\n",
       "      <td>8.400000</td>\n",
       "      <td>5.000000</td>\n",
       "      <td>5.000000</td>\n",
       "    </tr>\n",
       "    <tr>\n",
       "      <th>75%</th>\n",
       "      <td>7.200000</td>\n",
       "      <td>10.600000</td>\n",
       "      <td>7.000000</td>\n",
       "      <td>7.000000</td>\n",
       "    </tr>\n",
       "    <tr>\n",
       "      <th>max</th>\n",
       "      <td>82.400000</td>\n",
       "      <td>14.500000</td>\n",
       "      <td>9.000000</td>\n",
       "      <td>9.000000</td>\n",
       "    </tr>\n",
       "  </tbody>\n",
       "</table>\n",
       "</div>"
      ],
      "text/plain": [
       "        Evaporation      Sunshine      Cloud9am      Cloud3pm\n",
       "count  71726.000000  67454.000000  74693.000000  73245.000000\n",
       "mean       5.360139      7.605868      4.343285      4.434801\n",
       "std        4.043464      3.785760      2.876682      2.704868\n",
       "min        0.000000      0.000000      0.000000      0.000000\n",
       "25%        2.600000      4.800000      1.000000      2.000000\n",
       "50%        4.600000      8.400000      5.000000      5.000000\n",
       "75%        7.200000     10.600000      7.000000      7.000000\n",
       "max       82.400000     14.500000      9.000000      9.000000"
      ]
     },
     "execution_count": 13,
     "metadata": {},
     "output_type": "execute_result"
    }
   ],
   "source": [
    "df[big_isna].describe()"
   ]
  },
  {
   "cell_type": "code",
   "execution_count": 14,
   "metadata": {},
   "outputs": [
    {
     "data": {
      "image/png": "[encoded data removed]",
      "text/plain": [
       "<Figure size 864x720 with 4 Axes>"
      ]
     },
     "metadata": {
      "needs_background": "light"
     },
     "output_type": "display_data"
    }
   ],
   "source": [
    "df[big_isna].hist(bins=40, figsize=(12, 10))\n",
    "plt.show()"
   ]
  },
  {
   "cell_type": "code",
   "execution_count": 15,
   "metadata": {},
   "outputs": [
    {
     "data": {
      "text/html": [
       "<div>\n",
       "<style scoped>\n",
       "    .dataframe tbody tr th:only-of-type {\n",
       "        vertical-align: middle;\n",
       "    }\n",
       "\n",
       "    .dataframe tbody tr th {\n",
       "        vertical-align: top;\n",
       "    }\n",
       "\n",
       "    .dataframe thead th {\n",
       "        text-align: right;\n",
       "    }\n",
       "</style>\n",
       "<table border=\"1\" class=\"dataframe\">\n",
       "  <thead>\n",
       "    <tr style=\"text-align: right;\">\n",
       "      <th></th>\n",
       "      <th>Evaporation</th>\n",
       "      <th>Sunshine</th>\n",
       "      <th>Cloud9am</th>\n",
       "      <th>Cloud3pm</th>\n",
       "    </tr>\n",
       "    <tr>\n",
       "      <th>Location</th>\n",
       "      <th></th>\n",
       "      <th></th>\n",
       "      <th></th>\n",
       "      <th></th>\n",
       "    </tr>\n",
       "  </thead>\n",
       "  <tbody>\n",
       "    <tr>\n",
       "      <th>Adelaide</th>\n",
       "      <td>1704</td>\n",
       "      <td>1769</td>\n",
       "      <td>0</td>\n",
       "      <td>0</td>\n",
       "    </tr>\n",
       "    <tr>\n",
       "      <th>Albany</th>\n",
       "      <td>2453</td>\n",
       "      <td>2429</td>\n",
       "      <td>2484</td>\n",
       "      <td>2329</td>\n",
       "    </tr>\n",
       "    <tr>\n",
       "      <th>Albury</th>\n",
       "      <td>0</td>\n",
       "      <td>0</td>\n",
       "      <td>1045</td>\n",
       "      <td>1145</td>\n",
       "    </tr>\n",
       "    <tr>\n",
       "      <th>AliceSprings</th>\n",
       "      <td>2464</td>\n",
       "      <td>2419</td>\n",
       "      <td>2462</td>\n",
       "      <td>2395</td>\n",
       "    </tr>\n",
       "    <tr>\n",
       "      <th>BadgerysCreek</th>\n",
       "      <td>0</td>\n",
       "      <td>0</td>\n",
       "      <td>0</td>\n",
       "      <td>0</td>\n",
       "    </tr>\n",
       "    <tr>\n",
       "      <th>Ballarat</th>\n",
       "      <td>0</td>\n",
       "      <td>0</td>\n",
       "      <td>2091</td>\n",
       "      <td>1601</td>\n",
       "    </tr>\n",
       "    <tr>\n",
       "      <th>Bendigo</th>\n",
       "      <td>1185</td>\n",
       "      <td>0</td>\n",
       "      <td>1798</td>\n",
       "      <td>1962</td>\n",
       "    </tr>\n",
       "    <tr>\n",
       "      <th>Brisbane</th>\n",
       "      <td>2639</td>\n",
       "      <td>2603</td>\n",
       "      <td>2650</td>\n",
       "      <td>2649</td>\n",
       "    </tr>\n",
       "    <tr>\n",
       "      <th>Cairns</th>\n",
       "      <td>2435</td>\n",
       "      <td>2460</td>\n",
       "      <td>2481</td>\n",
       "      <td>2470</td>\n",
       "    </tr>\n",
       "    <tr>\n",
       "      <th>Canberra</th>\n",
       "      <td>1832</td>\n",
       "      <td>1521</td>\n",
       "      <td>2091</td>\n",
       "      <td>1892</td>\n",
       "    </tr>\n",
       "    <tr>\n",
       "      <th>Cobar</th>\n",
       "      <td>2385</td>\n",
       "      <td>550</td>\n",
       "      <td>2377</td>\n",
       "      <td>2386</td>\n",
       "    </tr>\n",
       "    <tr>\n",
       "      <th>CoffsHarbour</th>\n",
       "      <td>1785</td>\n",
       "      <td>1494</td>\n",
       "      <td>1962</td>\n",
       "      <td>1978</td>\n",
       "    </tr>\n",
       "    <tr>\n",
       "      <th>Dartmoor</th>\n",
       "      <td>2452</td>\n",
       "      <td>2453</td>\n",
       "      <td>0</td>\n",
       "      <td>0</td>\n",
       "    </tr>\n",
       "    <tr>\n",
       "      <th>Darwin</th>\n",
       "      <td>2613</td>\n",
       "      <td>2648</td>\n",
       "      <td>2651</td>\n",
       "      <td>2648</td>\n",
       "    </tr>\n",
       "    <tr>\n",
       "      <th>GoldCoast</th>\n",
       "      <td>0</td>\n",
       "      <td>0</td>\n",
       "      <td>0</td>\n",
       "      <td>0</td>\n",
       "    </tr>\n",
       "    <tr>\n",
       "      <th>Hobart</th>\n",
       "      <td>2644</td>\n",
       "      <td>2640</td>\n",
       "      <td>1489</td>\n",
       "      <td>1484</td>\n",
       "    </tr>\n",
       "    <tr>\n",
       "      <th>Katherine</th>\n",
       "      <td>986</td>\n",
       "      <td>0</td>\n",
       "      <td>1016</td>\n",
       "      <td>854</td>\n",
       "    </tr>\n",
       "    <tr>\n",
       "      <th>Launceston</th>\n",
       "      <td>141</td>\n",
       "      <td>0</td>\n",
       "      <td>373</td>\n",
       "      <td>387</td>\n",
       "    </tr>\n",
       "    <tr>\n",
       "      <th>Melbourne</th>\n",
       "      <td>2649</td>\n",
       "      <td>2650</td>\n",
       "      <td>1738</td>\n",
       "      <td>1666</td>\n",
       "    </tr>\n",
       "    <tr>\n",
       "      <th>MelbourneAirport</th>\n",
       "      <td>2465</td>\n",
       "      <td>2466</td>\n",
       "      <td>2467</td>\n",
       "      <td>2466</td>\n",
       "    </tr>\n",
       "    <tr>\n",
       "      <th>Mildura</th>\n",
       "      <td>2434</td>\n",
       "      <td>2419</td>\n",
       "      <td>2436</td>\n",
       "      <td>2420</td>\n",
       "    </tr>\n",
       "    <tr>\n",
       "      <th>Moree</th>\n",
       "      <td>2145</td>\n",
       "      <td>2006</td>\n",
       "      <td>2239</td>\n",
       "      <td>2283</td>\n",
       "    </tr>\n",
       "    <tr>\n",
       "      <th>MountGambier</th>\n",
       "      <td>2482</td>\n",
       "      <td>2484</td>\n",
       "      <td>2491</td>\n",
       "      <td>2477</td>\n",
       "    </tr>\n",
       "    <tr>\n",
       "      <th>MountGinini</th>\n",
       "      <td>0</td>\n",
       "      <td>0</td>\n",
       "      <td>0</td>\n",
       "      <td>0</td>\n",
       "    </tr>\n",
       "    <tr>\n",
       "      <th>Newcastle</th>\n",
       "      <td>0</td>\n",
       "      <td>0</td>\n",
       "      <td>2311</td>\n",
       "      <td>2106</td>\n",
       "    </tr>\n",
       "    <tr>\n",
       "      <th>Nhil</th>\n",
       "      <td>0</td>\n",
       "      <td>0</td>\n",
       "      <td>0</td>\n",
       "      <td>0</td>\n",
       "    </tr>\n",
       "    <tr>\n",
       "      <th>NorahHead</th>\n",
       "      <td>0</td>\n",
       "      <td>0</td>\n",
       "      <td>0</td>\n",
       "      <td>0</td>\n",
       "    </tr>\n",
       "    <tr>\n",
       "      <th>NorfolkIsland</th>\n",
       "      <td>2434</td>\n",
       "      <td>2458</td>\n",
       "      <td>2462</td>\n",
       "      <td>2456</td>\n",
       "    </tr>\n",
       "    <tr>\n",
       "      <th>Nuriootpa</th>\n",
       "      <td>2361</td>\n",
       "      <td>2335</td>\n",
       "      <td>2368</td>\n",
       "      <td>2180</td>\n",
       "    </tr>\n",
       "    <tr>\n",
       "      <th>PearceRAAF</th>\n",
       "      <td>0</td>\n",
       "      <td>2462</td>\n",
       "      <td>1729</td>\n",
       "      <td>1638</td>\n",
       "    </tr>\n",
       "    <tr>\n",
       "      <th>Penrith</th>\n",
       "      <td>0</td>\n",
       "      <td>0</td>\n",
       "      <td>0</td>\n",
       "      <td>0</td>\n",
       "    </tr>\n",
       "    <tr>\n",
       "      <th>Perth</th>\n",
       "      <td>2650</td>\n",
       "      <td>2646</td>\n",
       "      <td>2649</td>\n",
       "      <td>2647</td>\n",
       "    </tr>\n",
       "    <tr>\n",
       "      <th>PerthAirport</th>\n",
       "      <td>2466</td>\n",
       "      <td>2462</td>\n",
       "      <td>2465</td>\n",
       "      <td>2463</td>\n",
       "    </tr>\n",
       "    <tr>\n",
       "      <th>Portland</th>\n",
       "      <td>2452</td>\n",
       "      <td>2453</td>\n",
       "      <td>2150</td>\n",
       "      <td>2067</td>\n",
       "    </tr>\n",
       "    <tr>\n",
       "      <th>Richmond</th>\n",
       "      <td>1259</td>\n",
       "      <td>0</td>\n",
       "      <td>323</td>\n",
       "      <td>324</td>\n",
       "    </tr>\n",
       "    <tr>\n",
       "      <th>Sale</th>\n",
       "      <td>1834</td>\n",
       "      <td>1818</td>\n",
       "      <td>2315</td>\n",
       "      <td>2302</td>\n",
       "    </tr>\n",
       "    <tr>\n",
       "      <th>SalmonGums</th>\n",
       "      <td>0</td>\n",
       "      <td>0</td>\n",
       "      <td>0</td>\n",
       "      <td>0</td>\n",
       "    </tr>\n",
       "    <tr>\n",
       "      <th>Sydney</th>\n",
       "      <td>2763</td>\n",
       "      <td>2790</td>\n",
       "      <td>2237</td>\n",
       "      <td>2239</td>\n",
       "    </tr>\n",
       "    <tr>\n",
       "      <th>SydneyAirport</th>\n",
       "      <td>2433</td>\n",
       "      <td>2455</td>\n",
       "      <td>2466</td>\n",
       "      <td>2467</td>\n",
       "    </tr>\n",
       "    <tr>\n",
       "      <th>Townsville</th>\n",
       "      <td>2445</td>\n",
       "      <td>2497</td>\n",
       "      <td>2498</td>\n",
       "      <td>2467</td>\n",
       "    </tr>\n",
       "    <tr>\n",
       "      <th>Tuggeranong</th>\n",
       "      <td>0</td>\n",
       "      <td>0</td>\n",
       "      <td>0</td>\n",
       "      <td>0</td>\n",
       "    </tr>\n",
       "    <tr>\n",
       "      <th>Uluru</th>\n",
       "      <td>0</td>\n",
       "      <td>0</td>\n",
       "      <td>155</td>\n",
       "      <td>209</td>\n",
       "    </tr>\n",
       "    <tr>\n",
       "      <th>WaggaWagga</th>\n",
       "      <td>2460</td>\n",
       "      <td>2459</td>\n",
       "      <td>2455</td>\n",
       "      <td>2459</td>\n",
       "    </tr>\n",
       "    <tr>\n",
       "      <th>Walpole</th>\n",
       "      <td>0</td>\n",
       "      <td>0</td>\n",
       "      <td>0</td>\n",
       "      <td>0</td>\n",
       "    </tr>\n",
       "    <tr>\n",
       "      <th>Watsonia</th>\n",
       "      <td>2465</td>\n",
       "      <td>2466</td>\n",
       "      <td>2467</td>\n",
       "      <td>2466</td>\n",
       "    </tr>\n",
       "    <tr>\n",
       "      <th>Williamtown</th>\n",
       "      <td>1732</td>\n",
       "      <td>1296</td>\n",
       "      <td>2086</td>\n",
       "      <td>2042</td>\n",
       "    </tr>\n",
       "    <tr>\n",
       "      <th>Witchcliffe</th>\n",
       "      <td>0</td>\n",
       "      <td>0</td>\n",
       "      <td>0</td>\n",
       "      <td>0</td>\n",
       "    </tr>\n",
       "    <tr>\n",
       "      <th>Wollongong</th>\n",
       "      <td>0</td>\n",
       "      <td>0</td>\n",
       "      <td>1053</td>\n",
       "      <td>1120</td>\n",
       "    </tr>\n",
       "    <tr>\n",
       "      <th>Woomera</th>\n",
       "      <td>2079</td>\n",
       "      <td>1846</td>\n",
       "      <td>2163</td>\n",
       "      <td>2101</td>\n",
       "    </tr>\n",
       "  </tbody>\n",
       "</table>\n",
       "</div>"
      ],
      "text/plain": [
       "                  Evaporation  Sunshine  Cloud9am  Cloud3pm\n",
       "Location                                                   \n",
       "Adelaide                 1704      1769         0         0\n",
       "Albany                   2453      2429      2484      2329\n",
       "Albury                      0         0      1045      1145\n",
       "AliceSprings             2464      2419      2462      2395\n",
       "BadgerysCreek               0         0         0         0\n",
       "Ballarat                    0         0      2091      1601\n",
       "Bendigo                  1185         0      1798      1962\n",
       "Brisbane                 2639      2603      2650      2649\n",
       "Cairns                   2435      2460      2481      2470\n",
       "Canberra                 1832      1521      2091      1892\n",
       "Cobar                    2385       550      2377      2386\n",
       "CoffsHarbour             1785      1494      1962      1978\n",
       "Dartmoor                 2452      2453         0         0\n",
       "Darwin                   2613      2648      2651      2648\n",
       "GoldCoast                   0         0         0         0\n",
       "Hobart                   2644      2640      1489      1484\n",
       "Katherine                 986         0      1016       854\n",
       "Launceston                141         0       373       387\n",
       "Melbourne                2649      2650      1738      1666\n",
       "MelbourneAirport         2465      2466      2467      2466\n",
       "Mildura                  2434      2419      2436      2420\n",
       "Moree                    2145      2006      2239      2283\n",
       "MountGambier             2482      2484      2491      2477\n",
       "MountGinini                 0         0         0         0\n",
       "Newcastle                   0         0      2311      2106\n",
       "Nhil                        0         0         0         0\n",
       "NorahHead                   0         0         0         0\n",
       "NorfolkIsland            2434      2458      2462      2456\n",
       "Nuriootpa                2361      2335      2368      2180\n",
       "PearceRAAF                  0      2462      1729      1638\n",
       "Penrith                     0         0         0         0\n",
       "Perth                    2650      2646      2649      2647\n",
       "PerthAirport             2466      2462      2465      2463\n",
       "Portland                 2452      2453      2150      2067\n",
       "Richmond                 1259         0       323       324\n",
       "Sale                     1834      1818      2315      2302\n",
       "SalmonGums                  0         0         0         0\n",
       "Sydney                   2763      2790      2237      2239\n",
       "SydneyAirport            2433      2455      2466      2467\n",
       "Townsville               2445      2497      2498      2467\n",
       "Tuggeranong                 0         0         0         0\n",
       "Uluru                       0         0       155       209\n",
       "WaggaWagga               2460      2459      2455      2459\n",
       "Walpole                     0         0         0         0\n",
       "Watsonia                 2465      2466      2467      2466\n",
       "Williamtown              1732      1296      2086      2042\n",
       "Witchcliffe                 0         0         0         0\n",
       "Wollongong                  0         0      1053      1120\n",
       "Woomera                  2079      1846      2163      2101"
      ]
     },
     "execution_count": 15,
     "metadata": {},
     "output_type": "execute_result"
    }
   ],
   "source": [
    "df[big_isna].groupby(df['Location']).count()"
   ]
  },
  {
   "cell_type": "markdown",
   "metadata": {},
   "source": [
    "## Checking the target column"
   ]
  },
  {
   "cell_type": "code",
   "execution_count": 16,
   "metadata": {},
   "outputs": [],
   "source": [
    "target = df['RainTomorrow']"
   ]
  },
  {
   "cell_type": "code",
   "execution_count": 17,
   "metadata": {},
   "outputs": [
    {
     "data": {
      "text/plain": [
       "No     90288\n",
       "Yes    25931\n",
       "NaN     2684\n",
       "Name: RainTomorrow, dtype: int64"
      ]
     },
     "execution_count": 17,
     "metadata": {},
     "output_type": "execute_result"
    }
   ],
   "source": [
    "target.value_counts(dropna=False)"
   ]
  },
  {
   "cell_type": "code",
   "execution_count": 18,
   "metadata": {},
   "outputs": [
    {
     "data": {
      "text/plain": [
       "No     75.93 %\n",
       "Yes    21.81 %\n",
       "NaN     2.26 %\n",
       "Name: RainTomorrow, dtype: object"
      ]
     },
     "execution_count": 18,
     "metadata": {},
     "output_type": "execute_result"
    }
   ],
   "source": [
    "target.value_counts(dropna=False,\n",
    "                    normalize=True\n",
    "            ).mul(100).round(2).map(\"{} %\".format)"
   ]
  },
  {
   "cell_type": "code",
   "execution_count": 19,
   "metadata": {},
   "outputs": [
    {
     "data": {
      "text/plain": [
       "Location\n",
       "Townsville       1\n",
       "Sale             4\n",
       "Sydney           7\n",
       "Albany           9\n",
       "Albury          24\n",
       "Wollongong      47\n",
       "Newcastle       63\n",
       "MountGinini    132\n",
       "Melbourne      638\n",
       "Name: RainTomorrow, dtype: int64"
      ]
     },
     "execution_count": 19,
     "metadata": {},
     "output_type": "execute_result"
    }
   ],
   "source": [
    "target[target.isna()].groupby(df['Location']).size().sort_values()[::5]"
   ]
  },
  {
   "cell_type": "code",
   "execution_count": 20,
   "metadata": {},
   "outputs": [
    {
     "data": {
      "text/html": [
       "<div>\n",
       "<style scoped>\n",
       "    .dataframe tbody tr th:only-of-type {\n",
       "        vertical-align: middle;\n",
       "    }\n",
       "\n",
       "    .dataframe tbody tr th {\n",
       "        vertical-align: top;\n",
       "    }\n",
       "\n",
       "    .dataframe thead th {\n",
       "        text-align: right;\n",
       "    }\n",
       "</style>\n",
       "<table border=\"1\" class=\"dataframe\">\n",
       "  <thead>\n",
       "    <tr style=\"text-align: right;\">\n",
       "      <th>RainTomorrow</th>\n",
       "      <th>No</th>\n",
       "      <th>Yes</th>\n",
       "    </tr>\n",
       "    <tr>\n",
       "      <th>Location</th>\n",
       "      <th></th>\n",
       "      <th></th>\n",
       "    </tr>\n",
       "  </thead>\n",
       "  <tbody>\n",
       "    <tr>\n",
       "      <th>Portland</th>\n",
       "      <td>63.49</td>\n",
       "      <td>36.51</td>\n",
       "    </tr>\n",
       "    <tr>\n",
       "      <th>Walpole</th>\n",
       "      <td>67.07</td>\n",
       "      <td>32.93</td>\n",
       "    </tr>\n",
       "    <tr>\n",
       "      <th>Dartmoor</th>\n",
       "      <td>68.50</td>\n",
       "      <td>31.50</td>\n",
       "    </tr>\n",
       "    <tr>\n",
       "      <th>Cairns</th>\n",
       "      <td>68.68</td>\n",
       "      <td>31.32</td>\n",
       "    </tr>\n",
       "    <tr>\n",
       "      <th>MountGambier</th>\n",
       "      <td>69.98</td>\n",
       "      <td>30.02</td>\n",
       "    </tr>\n",
       "    <tr>\n",
       "      <th>NorfolkIsland</th>\n",
       "      <td>70.03</td>\n",
       "      <td>29.97</td>\n",
       "    </tr>\n",
       "    <tr>\n",
       "      <th>CoffsHarbour</th>\n",
       "      <td>70.22</td>\n",
       "      <td>29.78</td>\n",
       "    </tr>\n",
       "    <tr>\n",
       "      <th>Albany</th>\n",
       "      <td>70.31</td>\n",
       "      <td>29.69</td>\n",
       "    </tr>\n",
       "    <tr>\n",
       "      <th>Witchcliffe</th>\n",
       "      <td>70.45</td>\n",
       "      <td>29.55</td>\n",
       "    </tr>\n",
       "    <tr>\n",
       "      <th>MountGinini</th>\n",
       "      <td>71.94</td>\n",
       "      <td>28.06</td>\n",
       "    </tr>\n",
       "    <tr>\n",
       "      <th>NorahHead</th>\n",
       "      <td>72.40</td>\n",
       "      <td>27.60</td>\n",
       "    </tr>\n",
       "    <tr>\n",
       "      <th>Williamtown</th>\n",
       "      <td>72.43</td>\n",
       "      <td>27.57</td>\n",
       "    </tr>\n",
       "    <tr>\n",
       "      <th>GoldCoast</th>\n",
       "      <td>73.53</td>\n",
       "      <td>26.47</td>\n",
       "    </tr>\n",
       "    <tr>\n",
       "      <th>Melbourne</th>\n",
       "      <td>74.02</td>\n",
       "      <td>25.98</td>\n",
       "    </tr>\n",
       "    <tr>\n",
       "      <th>SydneyAirport</th>\n",
       "      <td>74.09</td>\n",
       "      <td>25.91</td>\n",
       "    </tr>\n",
       "    <tr>\n",
       "      <th>Darwin</th>\n",
       "      <td>74.16</td>\n",
       "      <td>25.84</td>\n",
       "    </tr>\n",
       "    <tr>\n",
       "      <th>Sydney</th>\n",
       "      <td>74.24</td>\n",
       "      <td>25.76</td>\n",
       "    </tr>\n",
       "    <tr>\n",
       "      <th>Ballarat</th>\n",
       "      <td>74.40</td>\n",
       "      <td>25.60</td>\n",
       "    </tr>\n",
       "    <tr>\n",
       "      <th>Newcastle</th>\n",
       "      <td>75.20</td>\n",
       "      <td>24.80</td>\n",
       "    </tr>\n",
       "    <tr>\n",
       "      <th>Watsonia</th>\n",
       "      <td>75.29</td>\n",
       "      <td>24.71</td>\n",
       "    </tr>\n",
       "    <tr>\n",
       "      <th>Wollongong</th>\n",
       "      <td>75.85</td>\n",
       "      <td>24.15</td>\n",
       "    </tr>\n",
       "    <tr>\n",
       "      <th>Hobart</th>\n",
       "      <td>76.08</td>\n",
       "      <td>23.92</td>\n",
       "    </tr>\n",
       "    <tr>\n",
       "      <th>Launceston</th>\n",
       "      <td>76.95</td>\n",
       "      <td>23.05</td>\n",
       "    </tr>\n",
       "    <tr>\n",
       "      <th>Brisbane</th>\n",
       "      <td>77.08</td>\n",
       "      <td>22.92</td>\n",
       "    </tr>\n",
       "    <tr>\n",
       "      <th>Adelaide</th>\n",
       "      <td>77.62</td>\n",
       "      <td>22.38</td>\n",
       "    </tr>\n",
       "    <tr>\n",
       "      <th>All</th>\n",
       "      <td>77.69</td>\n",
       "      <td>22.31</td>\n",
       "    </tr>\n",
       "    <tr>\n",
       "      <th>Sale</th>\n",
       "      <td>78.24</td>\n",
       "      <td>21.76</td>\n",
       "    </tr>\n",
       "    <tr>\n",
       "      <th>MelbourneAirport</th>\n",
       "      <td>78.68</td>\n",
       "      <td>21.32</td>\n",
       "    </tr>\n",
       "    <tr>\n",
       "      <th>Penrith</th>\n",
       "      <td>79.35</td>\n",
       "      <td>20.65</td>\n",
       "    </tr>\n",
       "    <tr>\n",
       "      <th>Albury</th>\n",
       "      <td>79.39</td>\n",
       "      <td>20.61</td>\n",
       "    </tr>\n",
       "    <tr>\n",
       "      <th>BadgerysCreek</th>\n",
       "      <td>79.83</td>\n",
       "      <td>20.17</td>\n",
       "    </tr>\n",
       "    <tr>\n",
       "      <th>Perth</th>\n",
       "      <td>80.08</td>\n",
       "      <td>19.92</td>\n",
       "    </tr>\n",
       "    <tr>\n",
       "      <th>Nuriootpa</th>\n",
       "      <td>80.88</td>\n",
       "      <td>19.12</td>\n",
       "    </tr>\n",
       "    <tr>\n",
       "      <th>Richmond</th>\n",
       "      <td>81.01</td>\n",
       "      <td>18.99</td>\n",
       "    </tr>\n",
       "    <tr>\n",
       "      <th>PerthAirport</th>\n",
       "      <td>81.19</td>\n",
       "      <td>18.81</td>\n",
       "    </tr>\n",
       "    <tr>\n",
       "      <th>Tuggeranong</th>\n",
       "      <td>81.65</td>\n",
       "      <td>18.35</td>\n",
       "    </tr>\n",
       "    <tr>\n",
       "      <th>Bendigo</th>\n",
       "      <td>81.95</td>\n",
       "      <td>18.05</td>\n",
       "    </tr>\n",
       "    <tr>\n",
       "      <th>Canberra</th>\n",
       "      <td>81.97</td>\n",
       "      <td>18.03</td>\n",
       "    </tr>\n",
       "    <tr>\n",
       "      <th>PearceRAAF</th>\n",
       "      <td>81.97</td>\n",
       "      <td>18.03</td>\n",
       "    </tr>\n",
       "    <tr>\n",
       "      <th>WaggaWagga</th>\n",
       "      <td>82.65</td>\n",
       "      <td>17.35</td>\n",
       "    </tr>\n",
       "    <tr>\n",
       "      <th>Townsville</th>\n",
       "      <td>83.02</td>\n",
       "      <td>16.98</td>\n",
       "    </tr>\n",
       "    <tr>\n",
       "      <th>SalmonGums</th>\n",
       "      <td>84.32</td>\n",
       "      <td>15.68</td>\n",
       "    </tr>\n",
       "    <tr>\n",
       "      <th>Katherine</th>\n",
       "      <td>84.92</td>\n",
       "      <td>15.08</td>\n",
       "    </tr>\n",
       "    <tr>\n",
       "      <th>Nhil</th>\n",
       "      <td>85.60</td>\n",
       "      <td>14.40</td>\n",
       "    </tr>\n",
       "    <tr>\n",
       "      <th>Moree</th>\n",
       "      <td>86.34</td>\n",
       "      <td>13.66</td>\n",
       "    </tr>\n",
       "    <tr>\n",
       "      <th>Cobar</th>\n",
       "      <td>87.61</td>\n",
       "      <td>12.39</td>\n",
       "    </tr>\n",
       "    <tr>\n",
       "      <th>Mildura</th>\n",
       "      <td>89.05</td>\n",
       "      <td>10.95</td>\n",
       "    </tr>\n",
       "    <tr>\n",
       "      <th>AliceSprings</th>\n",
       "      <td>92.11</td>\n",
       "      <td>7.89</td>\n",
       "    </tr>\n",
       "    <tr>\n",
       "      <th>Woomera</th>\n",
       "      <td>93.45</td>\n",
       "      <td>6.55</td>\n",
       "    </tr>\n",
       "    <tr>\n",
       "      <th>Uluru</th>\n",
       "      <td>93.93</td>\n",
       "      <td>6.07</td>\n",
       "    </tr>\n",
       "  </tbody>\n",
       "</table>\n",
       "</div>"
      ],
      "text/plain": [
       "RainTomorrow         No    Yes\n",
       "Location                      \n",
       "Portland          63.49  36.51\n",
       "Walpole           67.07  32.93\n",
       "Dartmoor          68.50  31.50\n",
       "Cairns            68.68  31.32\n",
       "MountGambier      69.98  30.02\n",
       "NorfolkIsland     70.03  29.97\n",
       "CoffsHarbour      70.22  29.78\n",
       "Albany            70.31  29.69\n",
       "Witchcliffe       70.45  29.55\n",
       "MountGinini       71.94  28.06\n",
       "NorahHead         72.40  27.60\n",
       "Williamtown       72.43  27.57\n",
       "GoldCoast         73.53  26.47\n",
       "Melbourne         74.02  25.98\n",
       "SydneyAirport     74.09  25.91\n",
       "Darwin            74.16  25.84\n",
       "Sydney            74.24  25.76\n",
       "Ballarat          74.40  25.60\n",
       "Newcastle         75.20  24.80\n",
       "Watsonia          75.29  24.71\n",
       "Wollongong        75.85  24.15\n",
       "Hobart            76.08  23.92\n",
       "Launceston        76.95  23.05\n",
       "Brisbane          77.08  22.92\n",
       "Adelaide          77.62  22.38\n",
       "All               77.69  22.31\n",
       "Sale              78.24  21.76\n",
       "MelbourneAirport  78.68  21.32\n",
       "Penrith           79.35  20.65\n",
       "Albury            79.39  20.61\n",
       "BadgerysCreek     79.83  20.17\n",
       "Perth             80.08  19.92\n",
       "Nuriootpa         80.88  19.12\n",
       "Richmond          81.01  18.99\n",
       "PerthAirport      81.19  18.81\n",
       "Tuggeranong       81.65  18.35\n",
       "Bendigo           81.95  18.05\n",
       "Canberra          81.97  18.03\n",
       "PearceRAAF        81.97  18.03\n",
       "WaggaWagga        82.65  17.35\n",
       "Townsville        83.02  16.98\n",
       "SalmonGums        84.32  15.68\n",
       "Katherine         84.92  15.08\n",
       "Nhil              85.60  14.40\n",
       "Moree             86.34  13.66\n",
       "Cobar             87.61  12.39\n",
       "Mildura           89.05  10.95\n",
       "AliceSprings      92.11   7.89\n",
       "Woomera           93.45   6.55\n",
       "Uluru             93.93   6.07"
      ]
     },
     "execution_count": 20,
     "metadata": {},
     "output_type": "execute_result"
    }
   ],
   "source": [
    "pd.crosstab(df['Location'], target,\n",
    "                    normalize='index', margins=True\n",
    "           ).mul(100).round(2).sort_values(by='Yes', ascending=False)"
   ]
  },
  {
   "cell_type": "markdown",
   "metadata": {},
   "source": [
    "## Checking numerical features"
   ]
  },
  {
   "cell_type": "code",
   "execution_count": 21,
   "metadata": {},
   "outputs": [],
   "source": [
    "num_columns = df.select_dtypes(include='number').columns.to_list()"
   ]
  },
  {
   "cell_type": "code",
   "execution_count": 22,
   "metadata": {},
   "outputs": [],
   "source": [
    "num_features = [column for column in num_columns if column not in big_isna]"
   ]
  },
  {
   "cell_type": "code",
   "execution_count": 23,
   "metadata": {},
   "outputs": [
    {
     "data": {
      "image/png": "[encoded data removed]",
      "text/plain": [
       "<Figure size 864x1008 with 12 Axes>"
      ]
     },
     "metadata": {
      "needs_background": "light"
     },
     "output_type": "display_data"
    }
   ],
   "source": [
    "df[num_features].hist(bins=40, figsize=(12, 14))\n",
    "plt.show()"
   ]
  },
  {
   "cell_type": "code",
   "execution_count": 24,
   "metadata": {},
   "outputs": [],
   "source": [
    "num_features.remove('Rainfall')"
   ]
  },
  {
   "cell_type": "code",
   "execution_count": 25,
   "metadata": {},
   "outputs": [
    {
     "name": "stdout",
     "output_type": "stream",
     "text": [
      "['MinTemp', 'MaxTemp', 'WindGustSpeed', 'WindSpeed9am', 'WindSpeed3pm', 'Humidity9am', 'Humidity3pm', 'Pressure9am', 'Pressure3pm', 'Temp9am', 'Temp3pm']\n"
     ]
    }
   ],
   "source": [
    "print(num_features)"
   ]
  },
  {
   "cell_type": "markdown",
   "metadata": {},
   "source": [
    "## Checking categorial features"
   ]
  },
  {
   "cell_type": "code",
   "execution_count": 26,
   "metadata": {},
   "outputs": [],
   "source": [
    "obj_columns = df.select_dtypes(include='object').columns.to_list()"
   ]
  },
  {
   "cell_type": "code",
   "execution_count": 27,
   "metadata": {},
   "outputs": [
    {
     "data": {
      "text/plain": [
       "['Date',\n",
       " 'Location',\n",
       " 'WindGustDir',\n",
       " 'WindDir9am',\n",
       " 'WindDir3pm',\n",
       " 'RainToday',\n",
       " 'RainTomorrow']"
      ]
     },
     "execution_count": 27,
     "metadata": {},
     "output_type": "execute_result"
    }
   ],
   "source": [
    "obj_columns"
   ]
  },
  {
   "cell_type": "code",
   "execution_count": 28,
   "metadata": {},
   "outputs": [
    {
     "data": {
      "text/html": [
       "<div>\n",
       "<style scoped>\n",
       "    .dataframe tbody tr th:only-of-type {\n",
       "        vertical-align: middle;\n",
       "    }\n",
       "\n",
       "    .dataframe tbody tr th {\n",
       "        vertical-align: top;\n",
       "    }\n",
       "\n",
       "    .dataframe thead th {\n",
       "        text-align: right;\n",
       "    }\n",
       "</style>\n",
       "<table border=\"1\" class=\"dataframe\">\n",
       "  <thead>\n",
       "    <tr style=\"text-align: right;\">\n",
       "      <th></th>\n",
       "      <th>Date</th>\n",
       "      <th>Location</th>\n",
       "      <th>WindGustDir</th>\n",
       "      <th>WindDir9am</th>\n",
       "      <th>WindDir3pm</th>\n",
       "      <th>RainToday</th>\n",
       "      <th>RainTomorrow</th>\n",
       "    </tr>\n",
       "  </thead>\n",
       "  <tbody>\n",
       "    <tr>\n",
       "      <th>0</th>\n",
       "      <td>0.208453</td>\n",
       "      <td>0.206144</td>\n",
       "      <td>1</td>\n",
       "      <td>1</td>\n",
       "      <td>1</td>\n",
       "      <td>0.0</td>\n",
       "      <td>0.0</td>\n",
       "    </tr>\n",
       "    <tr>\n",
       "      <th>1</th>\n",
       "      <td>0.208453</td>\n",
       "      <td>0.206144</td>\n",
       "      <td>2</td>\n",
       "      <td>2</td>\n",
       "      <td>2</td>\n",
       "      <td>0.0</td>\n",
       "      <td>0.0</td>\n",
       "    </tr>\n",
       "    <tr>\n",
       "      <th>2</th>\n",
       "      <td>0.208453</td>\n",
       "      <td>0.206144</td>\n",
       "      <td>3</td>\n",
       "      <td>1</td>\n",
       "      <td>2</td>\n",
       "      <td>0.0</td>\n",
       "      <td>0.0</td>\n",
       "    </tr>\n",
       "    <tr>\n",
       "      <th>3</th>\n",
       "      <td>0.208453</td>\n",
       "      <td>0.206144</td>\n",
       "      <td>4</td>\n",
       "      <td>3</td>\n",
       "      <td>3</td>\n",
       "      <td>0.0</td>\n",
       "      <td>0.0</td>\n",
       "    </tr>\n",
       "    <tr>\n",
       "      <th>4</th>\n",
       "      <td>0.208453</td>\n",
       "      <td>0.206144</td>\n",
       "      <td>1</td>\n",
       "      <td>4</td>\n",
       "      <td>4</td>\n",
       "      <td>0.0</td>\n",
       "      <td>0.0</td>\n",
       "    </tr>\n",
       "    <tr>\n",
       "      <th>...</th>\n",
       "      <td>...</td>\n",
       "      <td>...</td>\n",
       "      <td>...</td>\n",
       "      <td>...</td>\n",
       "      <td>...</td>\n",
       "      <td>...</td>\n",
       "      <td>...</td>\n",
       "    </tr>\n",
       "    <tr>\n",
       "      <th>118898</th>\n",
       "      <td>0.208453</td>\n",
       "      <td>0.060729</td>\n",
       "      <td>16</td>\n",
       "      <td>13</td>\n",
       "      <td>3</td>\n",
       "      <td>0.0</td>\n",
       "      <td>0.0</td>\n",
       "    </tr>\n",
       "    <tr>\n",
       "      <th>118899</th>\n",
       "      <td>0.208453</td>\n",
       "      <td>0.060729</td>\n",
       "      <td>15</td>\n",
       "      <td>14</td>\n",
       "      <td>7</td>\n",
       "      <td>0.0</td>\n",
       "      <td>0.0</td>\n",
       "    </tr>\n",
       "    <tr>\n",
       "      <th>118900</th>\n",
       "      <td>0.208453</td>\n",
       "      <td>0.060729</td>\n",
       "      <td>16</td>\n",
       "      <td>14</td>\n",
       "      <td>12</td>\n",
       "      <td>0.0</td>\n",
       "      <td>0.0</td>\n",
       "    </tr>\n",
       "    <tr>\n",
       "      <th>118901</th>\n",
       "      <td>0.208453</td>\n",
       "      <td>0.060729</td>\n",
       "      <td>16</td>\n",
       "      <td>14</td>\n",
       "      <td>6</td>\n",
       "      <td>0.0</td>\n",
       "      <td>0.0</td>\n",
       "    </tr>\n",
       "    <tr>\n",
       "      <th>118902</th>\n",
       "      <td>0.208453</td>\n",
       "      <td>0.060729</td>\n",
       "      <td>14</td>\n",
       "      <td>13</td>\n",
       "      <td>14</td>\n",
       "      <td>0.0</td>\n",
       "      <td>0.0</td>\n",
       "    </tr>\n",
       "  </tbody>\n",
       "</table>\n",
       "<p>118903 rows × 7 columns</p>\n",
       "</div>"
      ],
      "text/plain": [
       "            Date  Location  WindGustDir  WindDir9am  WindDir3pm  RainToday  \\\n",
       "0       0.208453  0.206144            1           1           1        0.0   \n",
       "1       0.208453  0.206144            2           2           2        0.0   \n",
       "2       0.208453  0.206144            3           1           2        0.0   \n",
       "3       0.208453  0.206144            4           3           3        0.0   \n",
       "4       0.208453  0.206144            1           4           4        0.0   \n",
       "...          ...       ...          ...         ...         ...        ...   \n",
       "118898  0.208453  0.060729           16          13           3        0.0   \n",
       "118899  0.208453  0.060729           15          14           7        0.0   \n",
       "118900  0.208453  0.060729           16          14          12        0.0   \n",
       "118901  0.208453  0.060729           16          14           6        0.0   \n",
       "118902  0.208453  0.060729           14          13          14        0.0   \n",
       "\n",
       "        RainTomorrow  \n",
       "0                0.0  \n",
       "1                0.0  \n",
       "2                0.0  \n",
       "3                0.0  \n",
       "4                0.0  \n",
       "...              ...  \n",
       "118898           0.0  \n",
       "118899           0.0  \n",
       "118900           0.0  \n",
       "118901           0.0  \n",
       "118902           0.0  \n",
       "\n",
       "[118903 rows x 7 columns]"
      ]
     },
     "execution_count": 28,
     "metadata": {},
     "output_type": "execute_result"
    }
   ],
   "source": [
    "cat_data = df[obj_columns].copy()\n",
    "\n",
    "mapping = {'Yes': 1, 'No': 0}\n",
    "cat_data['RainToday'] = cat_data['RainToday'].map(mapping)\n",
    "cat_data['RainTomorrow'] = cat_data['RainTomorrow'].map(mapping)\n",
    "\n",
    "cat_data['Date'] = pd.to_datetime(cat_data['Date']).dt.month_name()\n",
    "cat_data['Date'] = ce.TargetEncoder().fit_transform(cat_data['Date'],\n",
    "                                                    cat_data['RainTomorrow'])\n",
    "\n",
    "cat_data['Location'] = ce.TargetEncoder().fit_transform(cat_data['Location'],\n",
    "                                                        cat_data['RainTomorrow'])\n",
    "winds = df.filter(like=\"Dir\").columns\n",
    "cat_data[winds] = ce.OrdinalEncoder().fit_transform(cat_data[winds])\n",
    "\n",
    "cat_data"
   ]
  },
  {
   "cell_type": "code",
   "execution_count": 29,
   "metadata": {},
   "outputs": [],
   "source": [
    "corr_matrix = cat_data.corr()"
   ]
  },
  {
   "cell_type": "code",
   "execution_count": 30,
   "metadata": {},
   "outputs": [],
   "source": [
    "corr_spearman = cat_data.corr(method='spearman')"
   ]
  },
  {
   "cell_type": "code",
   "execution_count": 43,
   "metadata": {},
   "outputs": [
    {
     "data": {
      "image/png": "[encoded data removed]",
      "text/plain": [
       "<Figure size 864x576 with 1 Axes>"
      ]
     },
     "metadata": {
      "needs_background": "light"
     },
     "output_type": "display_data"
    }
   ],
   "source": [
    "plt.figure(figsize=(12, 8))\n",
    "sns.heatmap(corr_matrix, annot=True,\n",
    "                vmin=-1, vmax=1, center=0, linewidths=1,\n",
    "                cmap=\"coolwarm\", fmt='.1g',\n",
    "                linecolor='gray', cbar=False);"
   ]
  },
  {
   "cell_type": "code",
   "execution_count": 42,
   "metadata": {},
   "outputs": [
    {
     "data": {
      "image/png": "[encoded data removed]",
      "text/plain": [
       "<Figure size 864x576 with 1 Axes>"
      ]
     },
     "metadata": {
      "needs_background": "light"
     },
     "output_type": "display_data"
    }
   ],
   "source": [
    "plt.figure(figsize=(12, 8))\n",
    "sns.heatmap(corr_spearman, annot=True,\n",
    "                vmin=-1, vmax=1, center=0, linewidths=1,\n",
    "                cmap=\"coolwarm\", fmt='.1g',\n",
    "                linecolor='gray', cbar=False);"
   ]
  },
  {
   "cell_type": "code",
   "execution_count": 33,
   "metadata": {},
   "outputs": [
    {
     "data": {
      "text/plain": [
       "False    84416\n",
       "True     34487\n",
       "dtype: int64"
      ]
     },
     "execution_count": 33,
     "metadata": {},
     "output_type": "execute_result"
    }
   ],
   "source": [
    "(df['WindGustDir'] == df['WindDir3pm']).value_counts()"
   ]
  },
  {
   "cell_type": "code",
   "execution_count": 34,
   "metadata": {},
   "outputs": [
    {
     "data": {
      "text/plain": [
       "0         False\n",
       "1         False\n",
       "2          True\n",
       "3         False\n",
       "4         False\n",
       "          ...  \n",
       "118898     True\n",
       "118899     True\n",
       "118900    False\n",
       "118901    False\n",
       "118902    False\n",
       "Length: 118903, dtype: bool"
      ]
     },
     "execution_count": 34,
     "metadata": {},
     "output_type": "execute_result"
    }
   ],
   "source": [
    "(df['WindGustDir'] == df['WindDir3pm'])"
   ]
  },
  {
   "cell_type": "code",
   "execution_count": 35,
   "metadata": {},
   "outputs": [
    {
     "data": {
      "text/plain": [
       "0         0\n",
       "1         0\n",
       "2         1\n",
       "3         0\n",
       "4         0\n",
       "         ..\n",
       "118898    1\n",
       "118899    1\n",
       "118900    0\n",
       "118901    0\n",
       "118902    0\n",
       "Length: 118903, dtype: int64"
      ]
     },
     "execution_count": 35,
     "metadata": {},
     "output_type": "execute_result"
    }
   ],
   "source": [
    "(df['WindGustDir'] == df['WindDir3pm']).map({True: 1, False: 0})"
   ]
  },
  {
   "cell_type": "code",
   "execution_count": 36,
   "metadata": {},
   "outputs": [
    {
     "data": {
      "text/plain": [
       "RainTomorrow\n",
       "No     90288\n",
       "Yes    25931\n",
       "dtype: int64"
      ]
     },
     "execution_count": 36,
     "metadata": {},
     "output_type": "execute_result"
    }
   ],
   "source": [
    "(df['WindGustDir'] == df['WindDir3pm']).groupby(df['RainTomorrow']).count()"
   ]
  },
  {
   "cell_type": "code",
   "execution_count": 37,
   "metadata": {},
   "outputs": [
    {
     "data": {
      "text/plain": [
       "No     26557\n",
       "Yes     7373\n",
       "Name: RainTomorrow, dtype: int64"
      ]
     },
     "execution_count": 37,
     "metadata": {},
     "output_type": "execute_result"
    }
   ],
   "source": [
    "mask_wind_dir = df['WindGustDir'] == df['WindDir3pm']\n",
    "df['RainTomorrow'].loc[mask_wind_dir].value_counts()"
   ]
  },
  {
   "cell_type": "code",
   "execution_count": 38,
   "metadata": {},
   "outputs": [
    {
     "data": {
      "text/plain": [
       "No     63731\n",
       "Yes    18558\n",
       "Name: RainTomorrow, dtype: int64"
      ]
     },
     "execution_count": 38,
     "metadata": {},
     "output_type": "execute_result"
    }
   ],
   "source": [
    "df['RainTomorrow'].loc[~mask_wind_dir].value_counts()"
   ]
  },
  {
   "cell_type": "code",
   "execution_count": null,
   "metadata": {},
   "outputs": [],
   "source": []
  }
 ],
 "metadata": {
  "kernelspec": {
   "display_name": "Python 3",
   "language": "python",
   "name": "python3"
  },
  "language_info": {
   "codemirror_mode": {
    "name": "ipython",
    "version": 3
   },
   "file_extension": ".py",
   "mimetype": "text/x-python",
   "name": "python",
   "nbconvert_exporter": "python",
   "pygments_lexer": "ipython3",
   "version": "3.8.10"
  }
 },
 "nbformat": 4,
 "nbformat_minor": 4
}
